{
  "nbformat": 4,
  "nbformat_minor": 0,
  "metadata": {
    "colab": {
      "name": "Copy of Exe-2.ipynb",
      "provenance": [],
      "authorship_tag": "ABX9TyM4ihywbeekKKSf8Ucz3vwa",
      "include_colab_link": true
    },
    "kernelspec": {
      "name": "python3",
      "display_name": "Python 3"
    },
    "language_info": {
      "name": "python"
    }
  },
  "cells": [
    {
      "cell_type": "markdown",
      "metadata": {
        "id": "view-in-github",
        "colab_type": "text"
      },
      "source": [
        "<a href=\"https://colab.research.google.com/github/srikodavalluri/python/blob/main/Copy_of_Exe_2.ipynb\" target=\"_parent\"><img src=\"https://colab.research.google.com/assets/colab-badge.svg\" alt=\"Open In Colab\"/></a>"
      ]
    },
    {
      "cell_type": "markdown",
      "metadata": {
        "id": "MXfO-lCLid5P"
      },
      "source": [
        "Exercise 2    Operations\n",
        " \n",
        "a)write a program to compute Distance between two points taking input from the user"
      ]
    },
    {
      "cell_type": "code",
      "metadata": {
        "colab": {
          "base_uri": "https://localhost:8080/"
        },
        "id": "ifc4-Xh6iqJD",
        "outputId": "bc15ad50-ccca-4d8a-8f06-d9811c240249"
      },
      "source": [
        "import math\n",
        " \n",
        "x1=int(input(\"enter x1 value:\"))\n",
        "x2=int(input(\"enter x2 value:\"))\n",
        "y1=int(input(\"enter y1 value:\"))\n",
        "y2=int(input(\"enter y2 value:\"))\n",
        " \n",
        "d=math.sqrt(((x2-x1)**2)+((y2-y1)**2))\n",
        " \n",
        "print(\"distance of two points:\",d)"
      ],
      "execution_count": null,
      "outputs": [
        {
          "output_type": "stream",
          "text": [
            "enter x1 value:4\n",
            "enter x2 value:5\n",
            "enter y1 value:7\n",
            "enter y2 value:8\n",
            "distance of two points: 1.4142135623730951\n"
          ],
          "name": "stdout"
        }
      ]
    },
    {
      "cell_type": "markdown",
      "metadata": {
        "id": "8LQ1TpyXjdo9"
      },
      "source": [
        "b)write a program add.py that takes 2 numbers as command line arguments and prints it's sum"
      ]
    },
    {
      "cell_type": "code",
      "metadata": {
        "id": "sQaNSgoTjuIu"
      },
      "source": [
        "import sys\n",
        "a=int(sys.argv[1])\n",
        "b=int(sys.argv[2])\n",
        " \n",
        "sum=a+b\n",
        "print(\"sum of two numbers is:\",sum)"
      ],
      "execution_count": null,
      "outputs": []
    },
    {
      "cell_type": "markdown",
      "metadata": {
        "id": "uQyKRP9d6por"
      },
      "source": [
        " C:\\Users\\sri\\Desktop\\python\\exercise-2> python add.py 15 20 Sum:35"
      ]
    }
  ]
}