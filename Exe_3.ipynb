{
  "nbformat": 4,
  "nbformat_minor": 0,
  "metadata": {
    "colab": {
      "name": "Exe-3.ipynb",
      "provenance": [],
      "collapsed_sections": [],
      "authorship_tag": "ABX9TyN9jcEYO06bnUZWZJOo3gZn",
      "include_colab_link": true
    },
    "kernelspec": {
      "name": "python3",
      "display_name": "Python 3"
    },
    "language_info": {
      "name": "python"
    }
  },
  "cells": [
    {
      "cell_type": "markdown",
      "metadata": {
        "id": "view-in-github",
        "colab_type": "text"
      },
      "source": [
        "<a href=\"https://colab.research.google.com/github/srikodavalluri/python/blob/main/Exe_3.ipynb\" target=\"_parent\"><img src=\"https://colab.research.google.com/assets/colab-badge.svg\" alt=\"Open In Colab\"/></a>"
      ]
    },
    {
      "cell_type": "code",
      "metadata": {
        "id": "BVewHAJRrlaF"
      },
      "source": [
        ""
      ],
      "execution_count": null,
      "outputs": []
    },
    {
      "cell_type": "markdown",
      "metadata": {
        "id": "TctTIU1erphR"
      },
      "source": [
        "Exercise-3  Control Flow\n",
        " \n",
        " \n",
        "a)Write a program for checking weather the given number is an even number or not"
      ]
    },
    {
      "cell_type": "code",
      "metadata": {
        "colab": {
          "base_uri": "https://localhost:8080/"
        },
        "id": "x5y9WNe3r4yP",
        "outputId": "eef8586e-1693-4cee-a24b-ff8f9a8f8610"
      },
      "source": [
        "num=int(input(\"enter a number : \"))\n",
        " \n",
        "if num%2==0 :\n",
        " \n",
        "            print(\"Given number is even\")\n",
        " \n",
        "else :\n",
        " \n",
        "            print(\"Given number is odd\")"
      ],
      "execution_count": null,
      "outputs": [
        {
          "output_type": "stream",
          "text": [
            "enter a number : 4\n",
            "Given number is even\n"
          ],
          "name": "stdout"
        }
      ]
    },
    {
      "cell_type": "markdown",
      "metadata": {
        "id": "75BE07cFsYjl"
      },
      "source": [
        "b)Using a for loop write a program that prints out the decimal equivalents of 1/2,1/3,1/4,......1/10"
      ]
    },
    {
      "cell_type": "code",
      "metadata": {
        "colab": {
          "base_uri": "https://localhost:8080/"
        },
        "id": "e6Nu-ckQsnpk",
        "outputId": "e1dbba5e-cc99-4dd9-a879-e7847cd7a05f"
      },
      "source": [
        "num=int(input(\"enter a number : \"))\n",
        "for i in range(2,num):\n",
        "    val=1/i\n",
        "print(\"1/\"+str(i)+\"=\",val)"
      ],
      "execution_count": null,
      "outputs": [
        {
          "output_type": "stream",
          "text": [
            "enter a number : 10\n",
            "1/9= 0.1111111111111111\n"
          ],
          "name": "stdout"
        }
      ]
    },
    {
      "cell_type": "markdown",
      "metadata": {
        "id": "U1sPNlRLtxW_"
      },
      "source": [
        "c)write a program using a for loop that loops over a sequence.what is sequence?"
      ]
    },
    {
      "cell_type": "code",
      "metadata": {
        "colab": {
          "base_uri": "https://localhost:8080/"
        },
        "id": "iHY7hpcIt6On",
        "outputId": "62148d2b-c061-49a6-fa82-07d6a9383845"
      },
      "source": [
        "arr=[2,\"Sri\",-23,'S',11.5,True,7,5.5,'swa']\n",
        " \n",
        "print(\"given array : \",arr)\n",
        "for x in arr:\n",
        "     print(x)"
      ],
      "execution_count": null,
      "outputs": [
        {
          "output_type": "stream",
          "text": [
            "given array :  [2, 'Sri', -23, 'S', 11.5, True, 7, 5.5, 'swa']\n",
            "2\n",
            "Sri\n",
            "-23\n",
            "S\n",
            "11.5\n",
            "True\n",
            "7\n",
            "5.5\n",
            "swa\n"
          ],
          "name": "stdout"
        }
      ]
    },
    {
      "cell_type": "markdown",
      "metadata": {
        "id": "GE0RnyT_ujwu"
      },
      "source": [
        "d)write a program using a while loop that asks the user for a number,and prints a countdown from that number to zero."
      ]
    },
    {
      "cell_type": "code",
      "metadata": {
        "colab": {
          "base_uri": "https://localhost:8080/"
        },
        "id": "kFXxSjXmuwHU",
        "outputId": "313b5e19-2927-4c3f-c0d5-6b970e83c76d"
      },
      "source": [
        "num=int(input(\"enter the value of num : \"))\n",
        "while num>=0:\n",
        "           print(num)\n",
        "           num-=1"
      ],
      "execution_count": null,
      "outputs": [
        {
          "output_type": "stream",
          "text": [
            "enter the value of num : 10\n",
            "10\n",
            "9\n",
            "8\n",
            "7\n",
            "6\n",
            "5\n",
            "4\n",
            "3\n",
            "2\n",
            "1\n",
            "0\n"
          ],
          "name": "stdout"
        }
      ]
    }
  ]
}