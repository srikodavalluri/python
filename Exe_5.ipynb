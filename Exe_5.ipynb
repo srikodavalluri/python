{
  "nbformat": 4,
  "nbformat_minor": 0,
  "metadata": {
    "colab": {
      "name": "Exe-5.ipynb",
      "provenance": [],
      "collapsed_sections": [],
      "authorship_tag": "ABX9TyM+ukJ698JrapS4BYVEMDlN",
      "include_colab_link": true
    },
    "kernelspec": {
      "name": "python3",
      "display_name": "Python 3"
    },
    "language_info": {
      "name": "python"
    }
  },
  "cells": [
    {
      "cell_type": "markdown",
      "metadata": {
        "id": "view-in-github",
        "colab_type": "text"
      },
      "source": [
        "<a href=\"https://colab.research.google.com/github/srikodavalluri/python/blob/main/Exe_5.ipynb\" target=\"_parent\"><img src=\"https://colab.research.google.com/assets/colab-badge.svg\" alt=\"Open In Colab\"/></a>"
      ]
    },
    {
      "cell_type": "code",
      "metadata": {
        "id": "UNUYzcSL5f6c"
      },
      "source": [
        ""
      ],
      "execution_count": null,
      "outputs": []
    },
    {
      "cell_type": "markdown",
      "metadata": {
        "id": "qaTBPBBx5jLD"
      },
      "source": [
        "Exercise 5        DS \n",
        " \n",
        "a)write a program to count the numbers of characters in the string and store them in a dictionary data structures"
      ]
    },
    {
      "cell_type": "code",
      "metadata": {
        "colab": {
          "base_uri": "https://localhost:8080/"
        },
        "id": "Z0iVfJQr53PF",
        "outputId": "297a1922-c70a-4844-ac06-24290ef831a9"
      },
      "source": [
        "name=input(\"enter a name:\")\n",
        "dic={}\n",
        " \n",
        "for ch in name:\n",
        "  keys=dic.keys()\n",
        "  \n",
        "  if(ch in keys):\n",
        "     dic[ch]=dic[ch]+1\n",
        "  else:\n",
        "     dic[ch]=1\n",
        " \n",
        "print(\"dictionary is:\",dic)"
      ],
      "execution_count": null,
      "outputs": [
        {
          "output_type": "stream",
          "text": [
            "enter a name:Swathisrk\n",
            "dictionary is: {'S': 1, 'w': 1, 'a': 1, 't': 1, 'h': 1, 'i': 1, 's': 1, 'r': 1, 'k': 1}\n"
          ],
          "name": "stdout"
        }
      ]
    },
    {
      "cell_type": "markdown",
      "metadata": {
        "id": "UpMyhNdY7ptM"
      },
      "source": [
        "b)write a program to use a split and join methods in the string and trace a birthday with a dictionary data structure"
      ]
    },
    {
      "cell_type": "code",
      "metadata": {
        "colab": {
          "base_uri": "https://localhost:8080/"
        },
        "id": "Iw2k9p-17zpE",
        "outputId": "f37f78c2-a320-41ef-b449-860a431e955c"
      },
      "source": [
        "dob={\"Sri\":\"20-08-2002\",\"Swathi\":\"15-05-2003\"}\n",
        " \n",
        "name=input(\"which person dob u want:\")\n",
        "x=name.split()\n",
        "birth=\"\"\n",
        " \n",
        " \n",
        "for i in x:\n",
        "    if i in dob.keys():\n",
        "       pers=i\n",
        " \n",
        "print(\" \".join([pers,\"Bday is\",dob[pers]]))"
      ],
      "execution_count": null,
      "outputs": [
        {
          "output_type": "stream",
          "text": [
            "which person dob u want:Sri\n",
            "Sri Bday is 20-08-2002\n"
          ],
          "name": "stdout"
        }
      ]
    }
  ]
}