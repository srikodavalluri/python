{
  "nbformat": 4,
  "nbformat_minor": 0,
  "metadata": {
    "colab": {
      "name": "Copy of Exe-7.ipynb",
      "provenance": [],
      "collapsed_sections": [],
      "authorship_tag": "ABX9TyP+F82n0WyFYtXMQEJZPBkr",
      "include_colab_link": true
    },
    "kernelspec": {
      "name": "python3",
      "display_name": "Python 3"
    },
    "language_info": {
      "name": "python"
    }
  },
  "cells": [
    {
      "cell_type": "markdown",
      "metadata": {
        "id": "view-in-github",
        "colab_type": "text"
      },
      "source": [
        "<a href=\"https://colab.research.google.com/github/srikodavalluri/python/blob/main/Copy_of_Exe_7.ipynb\" target=\"_parent\"><img src=\"https://colab.research.google.com/assets/colab-badge.svg\" alt=\"Open In Colab\"/></a>"
      ]
    },
    {
      "cell_type": "markdown",
      "metadata": {
        "id": "TyiDKJ2-E3Re"
      },
      "source": [
        "Execise-7          Files\n",
        " \n",
        "a)write a program to print each line of a file in reverse order."
      ]
    },
    {
      "cell_type": "code",
      "metadata": {
        "id": "Sve9A7mMFFEg"
      },
      "source": [
        "obj=open(\"abc.txt\",\"r\")\n",
        "if obj:\n",
        "   st=obj.read()\n",
        "   print(\"File content is: \\n\",st)\n",
        "obj.close()\n",
        " \n",
        "print()\n",
        "lines=st.split(\"\\n\")\n",
        " \n",
        " \n",
        "for ln in lines:\n",
        "    i=Len(ln)-1 \n",
        "    while(i>=0):\n",
        "       print(ln[i],end=\"\")\n",
        "       i=i-1\n",
        "    print()"
      ],
      "execution_count": null,
      "outputs": []
    },
    {
      "cell_type": "markdown",
      "metadata": {
        "id": "biA_uJ213Ltf"
      },
      "source": [
        "File content is: welcome to python programming...! pavaneswar Swanandhra college of engineering and technology\n",
        "\n",
        "!..gnimmargorp nothyp ot emocleW rawsenavap ygolonhcet dna gnirreenigne fo egelloc arhdnanraws"
      ]
    },
    {
      "cell_type": "code",
      "metadata": {
        "id": "_vRs8f5BGaYu"
      },
      "source": [
        "b) write a program to compute the number of characters,words and lines in a file"
      ],
      "execution_count": null,
      "outputs": []
    },
    {
      "cell_type": "code",
      "metadata": {
        "id": "GXjTqYo0GnO7"
      },
      "source": [
        "nc=be=nl=0\n",
        "file=open(\"abc.txt\",\"r\")\n",
        " \n",
        "nl=nw=nc=0\n",
        "print(\"file content:\\n\")\n",
        "for line in file: \n",
        "  ln=line.strip(\"\\n\")\n",
        "  print(ln)\n",
        "  words=ln.split()\n",
        "  nl+=1\n",
        "  nw+=len(words)\n",
        "  nc+=len(line)\n",
        "  file.close()\n",
        "  print(\"\\n no.of lines:\",nl,\"words\",nw,\"characters:\",nc)"
      ],
      "execution_count": null,
      "outputs": []
    },
    {
      "cell_type": "markdown",
      "metadata": {
        "id": "AdvQwf4R3eSV"
      },
      "source": [
        "File content:\n",
        " \n",
        "welcome to python programming...! Swathi Sri cse-A\n",
        " \n",
        "no of lines:3 words:7 characters:43"
      ]
    }
  ]
}