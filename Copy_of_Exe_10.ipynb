{
  "nbformat": 4,
  "nbformat_minor": 0,
  "metadata": {
    "colab": {
      "name": "Copy of Exe-10.ipynb",
      "provenance": [],
      "collapsed_sections": [],
      "authorship_tag": "ABX9TyP6H4vDw5F1kR3AcTXqwaDx",
      "include_colab_link": true
    },
    "kernelspec": {
      "name": "python3",
      "display_name": "Python 3"
    },
    "language_info": {
      "name": "python"
    }
  },
  "cells": [
    {
      "cell_type": "markdown",
      "metadata": {
        "id": "view-in-github",
        "colab_type": "text"
      },
      "source": [
        "<a href=\"https://colab.research.google.com/github/srikodavalluri/python/blob/main/Copy_of_Exe_10.ipynb\" target=\"_parent\"><img src=\"https://colab.research.google.com/assets/colab-badge.svg\" alt=\"Open In Colab\"/></a>"
      ]
    },
    {
      "cell_type": "markdown",
      "metadata": {
        "id": "R4o5xYQoEavj"
      },
      "source": [
        "Exercise-10 FUNCTION-PROBLEM SOLVING\n",
        "\n",
        "\n",
        "a) Write a function cumulative product to compute cumulative product of a list of numbers."
      ]
    },
    {
      "cell_type": "code",
      "metadata": {
        "id": "zPhC_Ls7Eqij"
      },
      "source": [
        "def pro(list):\n",
        "  product=1\n",
        "  temp=[]\n",
        "  for i in list:\n",
        "    product*=i\n",
        "    temp.append(product)\n",
        "  return temp  \n",
        " \n",
        "ls=[1,2,3,4,5]\n",
        "print(\"Given list is: \",ls)\n",
        "print(\"Cumulative Product list is: \",prod(ls))"
      ],
      "execution_count": null,
      "outputs": []
    },
    {
      "cell_type": "markdown",
      "metadata": {
        "id": "s6eiOapOGW_J"
      },
      "source": [
        "Given list is:  [1, 2, 4, 3, 5]\n",
        "Cumulative Producet list is:  [1, 2, 8, 24, 120]"
      ]
    },
    {
      "cell_type": "markdown",
      "metadata": {
        "id": "BpGgnsBSGoHY"
      },
      "source": [
        "b) Write a function reverse to reverse a list. Without using the reverse function."
      ]
    },
    {
      "cell_type": "code",
      "metadata": {
        "id": "C-86T-09GrTI"
      },
      "source": [
        " \n",
        "def rev(list):\n",
        "  p=0\n",
        "  q=len(list)-1\n",
        "  while (p<=q):\n",
        "    temp=list[p]\n",
        "    list[p]=list[q]\n",
        "    list[q]=temp\n",
        "   q-=1\n",
        "    p+=1\n",
        "  return list\n",
        " \n",
        "ls=[50,100,150,200,250]\n",
        "print(\"Given List is: \",ls)\n",
        "rev(ls)\n",
        "print(\"Reverse of the List is:\",ls)"
      ],
      "execution_count": null,
      "outputs": []
    },
    {
      "cell_type": "markdown",
      "metadata": {
        "id": "MEJ3otpZHLp7"
      },
      "source": [
        "Given List is:  [50,100,150, 200, 250]\n",
        "Reverse of the List is: [250, 200, 150, 100, 50]"
      ]
    },
    {
      "cell_type": "markdown",
      "metadata": {
        "id": "75NxgvbdHVwr"
      },
      "source": [
        " c) Write function to compute ged, lem of two numbers. Each function shouldn't exceed one line."
      ]
    },
    {
      "cell_type": "code",
      "metadata": {
        "colab": {
          "base_uri": "https://localhost:8080/"
        },
        "id": "TMFzB8mDH0Jm",
        "outputId": "d7085f4a-d03d-4555-a244-e99f9198f058"
      },
      "source": [
        "gcd=lambda a,b: a if b==0 else gcd(a,a%b)\n",
        "lcm=lambda a,b: (a*b)/gcd(a,b)\n",
        " \n",
        "x=2\n",
        "y=4\n",
        "print(\"Given Number: \",x,y)\n",
        "print(\"GCD is: \",gcd(x,y))\n",
        "print(\"LCM is: \",lcm(x,y))"
      ],
      "execution_count": null,
      "outputs": [
        {
          "output_type": "stream",
          "text": [
            "Given Number:  2 4\n",
            "GCD is:  2\n",
            "LCM is:  4.0\n"
          ],
          "name": "stdout"
        }
      ]
    }
  ]
}