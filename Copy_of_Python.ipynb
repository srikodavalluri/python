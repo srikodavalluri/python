{
  "nbformat": 4,
  "nbformat_minor": 0,
  "metadata": {
    "colab": {
      "name": "Copy of Python.ipynb",
      "provenance": [],
      "collapsed_sections": [],
      "authorship_tag": "ABX9TyOxzMPtDYRS8I6JX443BxtE",
      "include_colab_link": true
    },
    "kernelspec": {
      "name": "python3",
      "display_name": "Python 3"
    },
    "language_info": {
      "name": "python"
    }
  },
  "cells": [
    {
      "cell_type": "markdown",
      "metadata": {
        "id": "view-in-github",
        "colab_type": "text"
      },
      "source": [
        "<a href=\"https://colab.research.google.com/github/srikodavalluri/python/blob/main/Copy_of_Python.ipynb\" target=\"_parent\"><img src=\"https://colab.research.google.com/assets/colab-badge.svg\" alt=\"Open In Colab\"/></a>"
      ]
    },
    {
      "cell_type": "markdown",
      "metadata": {
        "id": "PubaO98lMfeZ"
      },
      "source": [
        "     \n",
        "             K.SWATHI SRI\n",
        "              19A21A0529\n",
        "               CSE-A\n",
        " \n",
        " \n",
        "          Exercise 1 BASICS\n",
        " \n",
        " **AIM**:\n",
        " \n",
        "1a)Running Instructions In Interactive Interpreter And A python Script\n",
        " \n",
        "**DESCRIPTION**:\n",
        " \n",
        "Python is a high-level, interpreted, interactive and object-oriented scripting language. Python is\n",
        "designed to be highly readable. It uses English keywords frequently where as other languages\n",
        "use punctuation, and it has fewer syntactical constructions than other languages.\n",
        "Python is Interpreted\n",
        " \n",
        "Python is Interactive\n",
        "Python is Object-Oriented\n",
        "Python is a Beginner's Language\n",
        "Python Programming Running Python Scripts\n",
        "Running Python in THREE ways:\n",
        "a) Running Python Interpreter\n",
        "b) Running Python Scripts in IDLE\n",
        "c) Running python scripts in Command Prompt\n",
        "a) Running Python Interpreter: Python comes with an interactive interpreter. When you type\n",
        "python in your shell or command prompt, the python interpreter becomes active with a >>>\n",
        "prompt and waits for your commands\n",
        "b) Running Python Scripts in IDLE: . Go to File menu click on New File (CTRL+N) and write the\n",
        "code and save first.py\n",
        "c) Running python scripts in Command Prompt: ** **bold text · Before going to run we have to\n",
        "check the PATH in environment variables."
      ]
    },
    {
      "cell_type": "code",
      "metadata": {
        "colab": {
          "base_uri": "https://localhost:8080/"
        },
        "id": "V3e5qNGwMzKQ",
        "outputId": "56af8a5f-2655-419e-e09c-89310398d39e"
      },
      "source": [
        "print(\"Swathi Sri\")"
      ],
      "execution_count": null,
      "outputs": [
        {
          "output_type": "stream",
          "text": [
            "Swathi Sri\n"
          ],
          "name": "stdout"
        }
      ]
    },
    {
      "cell_type": "markdown",
      "metadata": {
        "id": "GWyZCNdnNOJu"
      },
      "source": [
        " \n",
        " \n",
        "**AIM**\n",
        " \n",
        "1b)Write a program to purposefully raise indentation error and correct it\n",
        " \n",
        "**DESCRIPTION**:\n",
        " \n",
        " Indentation Python does not support braces to indicate blocks of code for class and function definitions or flow control. Blocks of code are denoted by line indentation. All the continuous lines indented with same number of spaces would form a block. Python strictly follow indentation rules to indicate the blocks."
      ]
    },
    {
      "cell_type": "code",
      "metadata": {
        "colab": {
          "base_uri": "https://localhost:8080/"
        },
        "id": "XlVEVrQhNb_L",
        "outputId": "7416467b-0fd5-44ca-be39-1370af2c5e92"
      },
      "source": [
        "num=10\n",
        "if num>=10 :\n",
        "#print(\"true\")raises indentation error\n",
        "           print(\"true\")#correct code\n",
        "else :\n",
        "#print(\"false\")\n",
        "           print(\"false\")"
      ],
      "execution_count": null,
      "outputs": [
        {
          "output_type": "stream",
          "text": [
            "true\n"
          ],
          "name": "stdout"
        }
      ]
    },
    {
      "cell_type": "markdown",
      "metadata": {
        "id": "Wgqta7whCCM8"
      },
      "source": [
        "          Exercise 2 Operations\n",
        " \n",
        " \n",
        "**AIM**\n",
        " \n",
        "2a)write a program to compute Distance between two points taking input from the user\n",
        " \n",
        "**DESCRIPTION**:\n",
        " \n",
        "Taking Input From the User: A function is defined as a block of organized, reusable code used to\n",
        "perform a single, related action. Python has many built-in functions; you can also create your\n",
        "own.\n",
        "Python has an input function which lets you ask a user for some text input. You call this function\n",
        "to tell the program to stop and wait for the user to key in the data.\n",
        "In Python 2, you have a built-in function raw_input(), whereas in Python 3, you have input(). The\n",
        "program will resume once the user presses the ENTER or RETURN key.\n",
        "Input Function\n",
        "input(prompt=None,/).\n",
        "Read a string from standard input. The trailing newline is stripped.\n",
        "The prompt string, if given, is printed to standard output without a trailing newline before reading\n",
        "input.\n",
        "If the user hits EOF (*nix: Ctrl-D, Windows: Ctrl Z+Return), raise EOFError."
      ]
    },
    {
      "cell_type": "code",
      "metadata": {
        "id": "cJECioXuCC9O"
      },
      "source": [
        "import math\n",
        " \n",
        "x1=int(input(\"enter x1 value:\"))\n",
        "x2=int(input(\"enter x2 value:\"))\n",
        "y1=int(input(\"enter y1 value:\"))\n",
        "y2=int(input(\"enter y2 value:\"))\n",
        " \n",
        "d=math.sqrt(((x2-x1)**2)+((y2-y1)**2))\n",
        " \n",
        "print(\"distance of two points:\",d)"
      ],
      "execution_count": null,
      "outputs": []
    },
    {
      "cell_type": "markdown",
      "metadata": {
        "id": "zRuMWXxZCF2Z"
      },
      "source": [
        " enter x1 value:4\n",
        "enter x2 value:5\n",
        "enter y1 value:7\n",
        "enter y2 value:8\n",
        "distance of two points: 1.4142135623730951"
      ]
    },
    {
      "cell_type": "markdown",
      "metadata": {
        "id": "14rFyKpHCIgl"
      },
      "source": [
        " \n",
        "**AIM**\n",
        " \n",
        "2b)write a program add.py that takes 2 numbers as command line arguments and prints it's sum\n",
        " \n",
        "**DESCRIPTION**:\n",
        " \n",
        " \n",
        "The arguments that are given after the name of the program in the command line shell of\n",
        "the operating system are known as Command Line Arguments. Python provides various\n",
        "ways of dealing with these types of arguments. The three most common are:\n",
        "Using sys.argv\n",
        "Using getopt module\n",
        "Using argparse module\n",
        "Using sys.argv\n",
        "The sys module provides functions and variables used to manipulate different parts of the\n",
        "Python runtime environment. This module provides access to some variables used or\n",
        "maintained by the interpreter and to functions that interact strongly with the interpreter.\n",
        "One such variable is sys.argv which is a simple list structure. It’s main purpose are:\n",
        "It is a list of command line arguments.\n",
        "len(sys.argv) provides the number of command line arguments.\n",
        "sys.argv[0] is the name of the current Python script."
      ]
    },
    {
      "cell_type": "code",
      "metadata": {
        "id": "wSgnQd47CKzg"
      },
      "source": [
        "import sys\n",
        "a=int(sys.argv[1])\n",
        "b=int(sys.argv[2])\n",
        " \n",
        "sum=a+b\n",
        "print(\"sum of two numbers is:\",sum)"
      ],
      "execution_count": null,
      "outputs": []
    },
    {
      "cell_type": "markdown",
      "metadata": {
        "id": "aBWqpvXLCNdE"
      },
      "source": [
        " C:\\Users\\sri\\Desktop\\python\\exercise-2> python add.py 15 20 Sum:35"
      ]
    },
    {
      "cell_type": "markdown",
      "metadata": {
        "id": "RP1Ul2EtCQEk"
      },
      "source": [
        "        Exercise-3 Control Flow\n",
        "\n",
        "\n",
        " **AIM**\n",
        " \n",
        "3a)Write a program for checking weather the given number is an even number or not\n",
        "\n",
        "**DESCRIPTION**:\n",
        "\n",
        "if..else Statement When there is an alternate operation in control flow, use an else statement alongside with if statement"
      ]
    },
    {
      "cell_type": "code",
      "metadata": {
        "id": "PXLtHt1cCSe3"
      },
      "source": [
        "num=int(input(\"enter a number : \"))\n",
        " \n",
        "if num%2==0 :\n",
        " \n",
        "            print(\"Given number is even\")\n",
        " \n",
        "else :\n",
        " \n",
        "            print(\"Given number is odd\")"
      ],
      "execution_count": null,
      "outputs": []
    },
    {
      "cell_type": "markdown",
      "metadata": {
        "id": "AuW2Ad0WCUae"
      },
      "source": [
        " enter a number : 4\n",
        "Given number is even"
      ]
    },
    {
      "cell_type": "markdown",
      "metadata": {
        "id": "azlEzi2sCXGo"
      },
      "source": [
        " \n",
        " \n",
        "**AIM**\n",
        " \n",
        "3b)Using a for loop write a program that prints out the decimal equivalents of 1/2,1/3,1/4,......1/10\n",
        "\n",
        "**DESCRIPTION** \n",
        "\n",
        "For Loop: For loops can iterate over a sequence of numbers using the \"range\" and \"xrange\" functions. The difference between range and xrange is that the range function returns a new list with numbers of that specified range, whereas xrange returns an iterator, which is more eficient. The general format is for x in range(start,stop,step): statements"
      ]
    },
    {
      "cell_type": "code",
      "metadata": {
        "id": "3wzL9e0ZCZLx",
        "colab": {
          "base_uri": "https://localhost:8080/"
        },
        "outputId": "73234ab3-dca7-4721-e7dc-b82be78372fc"
      },
      "source": [
        "num=int(input(\"enter a number : \"))\n",
        "for i in range(2,num):\n",
        "    val=1/i\n",
        "print(\"1/\"+str(i)+\"=\",val)"
      ],
      "execution_count": null,
      "outputs": [
        {
          "output_type": "stream",
          "name": "stdout",
          "text": [
            "enter a number : 10\n",
            "1/9= 0.1111111111111111\n"
          ]
        }
      ]
    },
    {
      "cell_type": "markdown",
      "metadata": {
        "id": "ljfQW9avCeFv"
      },
      "source": [
        " **AIM**\n",
        " \n",
        "3c)write a program using a for loop that loops over a sequence.what is sequence?\n",
        " \n",
        "**DESCRIPTION**:\n",
        " \n",
        " For Loop: For loops can iterate over a sequence of numbers using the \"range\" and \"xrange\" functions. The difference between range and xrange is that the range function returns a new list with numbers of that specified range, whereas xrange returns an iterator, which is more eficient. The general format is for x in range(start,stop,step): statements"
      ]
    },
    {
      "cell_type": "code",
      "metadata": {
        "id": "XEce6hqpCi2d"
      },
      "source": [
        "arr=[2,\"Sri\",-23,'S',11.5,True,7,5.5,'swa']\n",
        " \n",
        "print(\"given array : \",arr)\n",
        "for x in arr:\n",
        "     print(x)"
      ],
      "execution_count": null,
      "outputs": []
    },
    {
      "cell_type": "markdown",
      "metadata": {
        "id": "ZTEqy2BLCmQ1"
      },
      "source": [
        " given array :  [2, 'Sri', -23, 'S', 11.5, True, 7, 5.5, 'swa']\n",
        "2\n",
        "Sri\n",
        "-23\n",
        "S\n",
        "11.5\n",
        "True\n",
        "7\n",
        "5.5\n",
        "swa"
      ]
    },
    {
      "cell_type": "markdown",
      "metadata": {
        "id": "0nlmUHl5DebB"
      },
      "source": [
        " **AIM**\n",
        " \n",
        "3d)write a program using a while loop that asks the user for a number,and prints a countdown from that number to zero\n",
        " \n",
        "**DESCRIPTION**:\n",
        " \n",
        " While Loop is used to execute a block of statements repeatedly until a given condition is satisfied. And when the condition becomes false, the line immediately after the loop in the program is executed. While loop falls under the category of indefinite iteration The syntax for a while loop is: while [ condition]"
      ]
    },
    {
      "cell_type": "code",
      "metadata": {
        "id": "cqLhdLfIDg8D",
        "colab": {
          "base_uri": "https://localhost:8080/"
        },
        "outputId": "d97bd29b-ece4-40d4-a98e-cbd42d185f28"
      },
      "source": [
        "num=int(input(\"enter the value of num : \"))\n",
        "while num>=0:\n",
        "           print(num)\n",
        "           num-=1"
      ],
      "execution_count": null,
      "outputs": [
        {
          "output_type": "stream",
          "name": "stdout",
          "text": [
            "enter the value of num : 10\n",
            "10\n",
            "9\n",
            "8\n",
            "7\n",
            "6\n",
            "5\n",
            "4\n",
            "3\n",
            "2\n",
            "1\n",
            "0\n"
          ]
        }
      ]
    },
    {
      "cell_type": "markdown",
      "metadata": {
        "id": "SgcknuhYDmGO"
      },
      "source": [
        "        Exercise-4 Control Flow\n",
        " \n",
        " \n",
        "**AIM**\n",
        " \n",
        "4a)find the sum of all the primes below two million\n",
        "\n",
        "**DESCRIPTION**:\n",
        "\n",
        " A Fibonacci sequence is the integer sequence of 0, 1, 1, 2, 3, 5, 8.... The first two terms are 0 and 1. All other terms are obtained by adding the preceding two terms. This means to say the nth term is the sum of (n-1)th and (n-2)th term Here, we store the number of terms in nterms. We initialize the first term to 0 and the second term to 1. If the number of terms is more than 2, we use a while loop to find the next term in the sequence by adding the preceding two terms. We then interchange the variables (update it) and continue on with the process."
      ]
    },
    {
      "cell_type": "code",
      "metadata": {
        "id": "HrW_efeEDoy0"
      },
      "source": [
        "n=int(input(\"enter Limit for sum of primes : \"))\n",
        "psum=0\n",
        "for i in range(2,n+1):\n",
        "    c=0\n",
        "    for j in range(2,i+1):\n",
        "        if i%j==0:\n",
        "            c+=1\n",
        "    if(c==1):\n",
        "        print(i,end='\\n')    \n",
        "        psum+=i\n",
        " \n",
        "print(\"\") \n",
        "print(\"Sum of sum number : \",psum)"
      ],
      "execution_count": null,
      "outputs": []
    },
    {
      "cell_type": "markdown",
      "metadata": {
        "id": "vfDtwmwSDrGE"
      },
      "source": [
        " enter Limit for sum of primes : 50\n",
        "2\n",
        "3\n",
        "5\n",
        "7\n",
        "11\n",
        "13\n",
        "17\n",
        "19\n",
        "23\n",
        "29\n",
        "31\n",
        "37\n",
        "41\n",
        "43\n",
        "47\n",
        " \n",
        "Sum of sum number :  328"
      ]
    },
    {
      "cell_type": "markdown",
      "metadata": {
        "id": "CBToYYxUDtm0"
      },
      "source": [
        " \n",
        "**AIM**\n",
        " \n",
        "4c) by considering the terms in the Fibonacci sequence whose values do not exceed four million,find the sum of the even-valued terms\n",
        "\n",
        "**DESCRIPTION**:\n",
        "\n",
        "A Fibonacci sequence is the integer sequence of 0, 1, 1, 2, 3, 5, 8....\n",
        "The first two terms are 0 and 1. All other terms are obtained by adding the preceding two terms.\n",
        "This means to say the nth term is the sum of (n-1)th and (n-2)th term\n",
        "Here, we store the number of terms in nterms. We initialize the first term to 0 and the second\n",
        "term to 1.\n",
        "If the number of terms is more than 2, we use a while loop to find the next term in the sequence\n",
        "by adding the preceding two terms. We then interchange the variables (update it) and continue\n",
        "on with the process."
      ]
    },
    {
      "cell_type": "code",
      "metadata": {
        "id": "jmvuPDs_DwDA"
      },
      "source": [
        "num=int(input(\"enter the value of num:\"))\n",
        " \n",
        "x=0\n",
        "y=1\n",
        "z=x+y\n",
        "sum=0\n",
        "print(\"even numbers in Fibonacci series:\",end='')\n",
        "while z<=num:\n",
        "  if z%2==0:\n",
        "   print(z,end='\\t')\n",
        "   sum+=c\n",
        "  x=y\n",
        "  y=z\n",
        "  z=x+y\n",
        "print(\"\\nsum of Fibonacci series is:\",sum)"
      ],
      "execution_count": null,
      "outputs": []
    },
    {
      "cell_type": "markdown",
      "metadata": {
        "id": "_I9PVbyYDzCr"
      },
      "source": [
        " enter the value of num:100\n",
        "even numbers in Fibonacci series:2  8   34  \n",
        "sum of Fibonacci series is: 4791"
      ]
    },
    {
      "cell_type": "markdown",
      "metadata": {
        "id": "hQnMqZOoD2_W"
      },
      "source": [
        "\n",
        "**AIM**\n",
        "\n",
        "4b)each new term in the Fibonacci sequence is generated by adding the previous two terms.By starting with 1 and 2,the first 10 terms will be:1,2,3,4,5,813,21,34,55,89..."
      ]
    },
    {
      "cell_type": "code",
      "metadata": {
        "id": "piEd3i2pD6aG"
      },
      "source": [
        "num=int(input(\"enter value of num : \"))\n",
        "p=0\n",
        "q=1\n",
        "r=p+q\n",
        "while r<num:\n",
        "     print(r,end='\\t')\n",
        "     p=q\n",
        "     q=r\n",
        "     r=p+q"
      ],
      "execution_count": null,
      "outputs": []
    },
    {
      "cell_type": "markdown",
      "metadata": {
        "id": "-ZgRYfBAD9Lh"
      },
      "source": [
        " enter value of num : 1000\n",
        "1   2   3   5   8   13  21  34  55  89  144 233 377 610 987"
      ]
    },
    {
      "cell_type": "markdown",
      "metadata": {
        "id": "Z1uurqeRD_gH"
      },
      "source": [
        "           Exercise 5 DS\n",
        " \n",
        "**AIM**\n",
        " \n",
        "5a)write a program to count the numbers of characters in the string and store them in a dictionary data structures\n",
        "\n",
        "\n",
        "**DESCRIPTION**:\n",
        "\n",
        "Given a string, the task is to find the frequencies of all the characters in that string and return a dictionary with key as the character and its value as its frequency in the given string. Method #1 : Naive method Simply iterate through the string and form a key in dictionary of newly occurred element or if element is already occurred, increase its value by 1. Method #2 : Using collections.Counter() The most suggested method that could be used to find all occurrences is this method, this actually gets all element frequency and could also be used to print single element frequency if required."
      ]
    },
    {
      "cell_type": "code",
      "metadata": {
        "id": "P71sX1TXEBth"
      },
      "source": [
        "name=input(\"enter a name:\")\n",
        "dic={}\n",
        " \n",
        "for ch in name:\n",
        "  keys=dic.keys()\n",
        "  \n",
        "  if(ch in keys):\n",
        "     dic[ch]=dic[ch]+1\n",
        "  else:\n",
        "     dic[ch]=1\n",
        " \n",
        "print(\"dictionary is:\",dic)"
      ],
      "execution_count": null,
      "outputs": []
    },
    {
      "cell_type": "markdown",
      "metadata": {
        "id": "N7X1IG82EEMH"
      },
      "source": [
        " enter a name:Swathisrk\n",
        "dictionary is: {'S': 1, 'w': 1, 'a': 1, 't': 1, 'h': 1, 'i': 1, 's': 1, 'r': 1, 'k': 1}"
      ]
    },
    {
      "cell_type": "markdown",
      "metadata": {
        "id": "RTbA8PtGEG0w"
      },
      "source": [
        " \n",
        "**AIM**\n",
        " \n",
        "5b)write a program to use a split and join methods in the string and trace a birthday with a dictionary data structure\n",
        "\n",
        "**DESCRIPTION**:\n",
        "\n",
        " Python program to Split a string based on a delimiter and join the string using another delimiter. Split a string can be quite useful sometimes, especially when you need only certain parts of strings. A simple yet effective example is splitting the First-name and Last-name of a person. Another application is CSV(Comma Separated Files). We use split to get data from CSV and join to write data to CSV. In Python, we can use the function split() to split a string and join() to join a string."
      ]
    },
    {
      "cell_type": "code",
      "metadata": {
        "id": "8TRf2VW9EJA_"
      },
      "source": [
        "dob={\"Sri\":\"20-08-2002\",\"Swathi\":\"15-05-2003\"}\n",
        " \n",
        "name=input(\"which person dob u want:\")\n",
        "x=name.split()\n",
        "birth=\"\"\n",
        " \n",
        " \n",
        "for i in x:\n",
        "    if i in dob.keys():\n",
        "       pers=i\n",
        " \n",
        "print(\" \".join([pers,\"Bday is\",dob[pers]]))"
      ],
      "execution_count": null,
      "outputs": []
    },
    {
      "cell_type": "markdown",
      "metadata": {
        "id": "XI9SvK8AEMVY"
      },
      "source": [
        " which person dob u want:Sri\n",
        "Sri Bday is 20-08-2002"
      ]
    },
    {
      "cell_type": "markdown",
      "metadata": {
        "id": "-zsx_TzUEP0x"
      },
      "source": [
        "            Exercise 6 DS\n",
        " \n",
        "**AIM**\n",
        " \n",
        "6a) write a program combine lists that combines these lists into a dictionary\n",
        " \n",
        "**DESCRIPTION**:\n",
        " \n",
        " For this, simply declare a dictionary, and then run nested loop for both the lists and assign key and value pairs to from list values to dictionary. Most pythonic and generic method to perform this very task is by using zip(). This function pairs the list element with other list element at corresponding index in form of key-value pairs."
      ]
    },
    {
      "cell_type": "code",
      "metadata": {
        "id": "0CKW1ps7ES8l"
      },
      "source": [
        "name=[\"Sri\",\"Hema\",\"Harika\",\"Sindhu\",\"Sai\"]\n",
        "ages=[15,18,16,20,35]\n",
        " \n",
        "print(\"given lists are:\")\n",
        "print(\"persons names:\",name)\n",
        "print(\"persons ages:\",ages)\n",
        " \n",
        "dic=dict(zip(name,ages))\n",
        "print(\"\\nDictionary:\",dic)"
      ],
      "execution_count": null,
      "outputs": []
    },
    {
      "cell_type": "markdown",
      "metadata": {
        "id": "A3dfej1CEVNE"
      },
      "source": [
        " given lists are:\n",
        "persons names: ['Sri', 'Hema', 'Harika', 'Sindhu', 'Sai']\n",
        "persons ages: [15, 18, 16, 20, 35]\n",
        " \n",
        "Dictionary: {'Sri': 15, 'Hema': 18, 'Harika': 16, 'Sindhu': 20, 'Sai': 35}"
      ]
    },
    {
      "cell_type": "markdown",
      "metadata": {
        "id": "Kh4FicRKEXwA"
      },
      "source": [
        " **AIM**\n",
        " \n",
        "6b)write a program to count frequency of charactersin a given file.Can yo use character frequency to tell whether the given file is a python program file,C program file or a text file?\n",
        " \n",
        "**DESCRIPTION**:\n",
        " \n",
        " approaches to count the number of times a letter appears in a text file in Python. Method 1: Using the in-built count() method. Approach:\n",
        " \n",
        "Read the file.\n",
        "Store the content of the file in a variable.\n",
        "Use the count() method with the argument as a letter whose frequency is required.\n",
        "Display the count of the letter."
      ]
    },
    {
      "cell_type": "code",
      "metadata": {
        "id": "74XFjnmUEaoL"
      },
      "source": [
        "filetypes=['.py','.c','.txt']\n",
        "fn=input(\"enter the file name:\")\n",
        "f=open(fn,\"r\")\n",
        "count=dict()\n",
        " \n",
        "print(\"given file is\",end=\"\")\n",
        "for ft in filetypes:\n",
        "   if(ft in fn):\n",
        "      if(ft=='.py'):\n",
        "         print(\"Python File\")\n",
        "      elif(ft=='.c'):\n",
        "         print(\"C File\")\n",
        "      elif(ft=='.txt'):\n",
        "         print(\"text file\")\n",
        "   for line in f:\n",
        "     for ch in line:\n",
        "       if ch in count:\n",
        "          count[ch]=count[ch]+1\n",
        "       else:\n",
        "          count[ch]=1\n",
        "   print(count)\n",
        "   f.close()"
      ],
      "execution_count": null,
      "outputs": []
    },
    {
      "cell_type": "markdown",
      "metadata": {
        "id": "MlRHwvcDEdJF"
      },
      "source": [
        " enter the file name:data.txt Given file is Text file {'s':1,'w':2,'a':3,'t':4,'h':5,'i':6}"
      ]
    },
    {
      "cell_type": "markdown",
      "metadata": {
        "id": "fOfgxMGaEfhC"
      },
      "source": [
        "           Execise-7 Files\n",
        " \n",
        "**AIM**\n",
        " \n",
        "7a)write a program to print each line of a file in reverse order.\n",
        "\n",
        "**DESCRIPTION**:\n",
        "\n",
        " The file handling plays an important role when the data needs to be stored permanently into the file. A file is a named location on disk to store related information. We can access the stored information (non-volatile) after the program termination. In Python, files are treated in two modes as text or binary. The file may be in the text or binary format, and each line of a file is ended with the special character. Hence, a file operation can be done in the following order. □ Open a file □ Read or write - Performing operation □ Close the file"
      ]
    },
    {
      "cell_type": "code",
      "metadata": {
        "id": "5VR-JNXPEhzu"
      },
      "source": [
        "obj=open(\"abc.txt\",\"r\")\n",
        "if obj:\n",
        "   st=obj.read()\n",
        "   print(\"File content is: \\n\",st)\n",
        "obj.close()\n",
        " \n",
        "print()\n",
        "lines=st.split(\"\\n\")\n",
        " \n",
        " \n",
        "for ln in lines:\n",
        "    i=Len(ln)-1 \n",
        "    while(i>=0):\n",
        "       print(ln[i],end=\"\")\n",
        "       i=i-1\n",
        "    print()"
      ],
      "execution_count": null,
      "outputs": []
    },
    {
      "cell_type": "markdown",
      "metadata": {
        "id": "9TLlWnFGEkC5"
      },
      "source": [
        " File content is: welcome to python programming...! pavaneswar Swanandhra college of engineering and technology\n",
        " \n",
        "!..gnimmargorp nothyp ot emocleW rawsenavap ygolonhcet dna gnirreenigne fo egelloc arhdnanraws"
      ]
    },
    {
      "cell_type": "markdown",
      "metadata": {
        "id": "J2fDc9jWEmsE"
      },
      "source": [
        "**AIM** \n",
        " \n",
        "7b) write a program to compute the number of characters,words and lines in a file\n",
        "\n",
        "**DESCRIPTION**:\n",
        "\n",
        "\n",
        "Given a text file fname, the task is to count the total number of characters, words, spaces and\n",
        "lines in the file.\n",
        "As we know, Python provides multiple in-built features and modules for handling files. Let’s\n",
        "discuss different ways to calculate total number of characters, words, spaces and lines in a file\n",
        "using Python.\n",
        "Method #1: Naive approach\n",
        "In this approach, the idea is to solve the task by developing our own logic. Without using any\n",
        "built-in function of Python, the total number of characters, words, spaces and lines of the file will\n",
        "be calculated.\n",
        "Method #2: Using some built-in functions and OS module functions\n",
        "In this approach, the idea is to use the os.linesep() method of OS module to separate the lines\n",
        "on the current platform. When the interpreter’s scanner encounter os.linesep it replaces it with\n",
        "\\n character. After that strip() and split() functions will be used to carry out the task"
      ]
    },
    {
      "cell_type": "code",
      "metadata": {
        "id": "EjOMStn9EpJ0"
      },
      "source": [
        "nc=be=nl=0\n",
        "file=open(\"abc.txt\",\"r\")\n",
        " \n",
        "nl=nw=nc=0\n",
        "print(\"file content:\\n\")\n",
        "for line in file: \n",
        "  ln=line.strip(\"\\n\")\n",
        "  print(ln)\n",
        "  words=ln.split()\n",
        "  nl+=1\n",
        "  nw+=len(words)\n",
        "  nc+=len(line)\n",
        "  file.close()\n",
        "  print(\"\\n no.of lines:\",nl,\"words\",nw,\"characters:\",nc)"
      ],
      "execution_count": null,
      "outputs": []
    },
    {
      "cell_type": "markdown",
      "metadata": {
        "id": "6hrlQPW-ErqV"
      },
      "source": [
        " welcome to python programming...! Swathi Sri cse-A\n",
        " \n",
        "no of lines:3 words:7 characters:43"
      ]
    },
    {
      "cell_type": "markdown",
      "metadata": {
        "id": "c3l7ZY0oEuM3"
      },
      "source": [
        " \n",
        "               Exercise 8 FUNCTIONS\n",
        " \n",
        "**AIM**\n",
        " \n",
        "a)write a function ball collide that takes two balls as parameters and computes if they are colliding.Your function should return a Boolean representing whether or not the balls are colliding\n",
        "\n",
        "**DESCRIPTION**:\n",
        "\n",
        " Functions A function in python is a block of code that is defined for doing frequent operations in a particular task. The general format is def Functionname(arguments): Statements Calling a Function: A function can be called by its name followed by arguments within parenthesis. function()"
      ]
    },
    {
      "cell_type": "code",
      "metadata": {
        "id": "LACSHfvMExB5"
      },
      "source": [
        "import math\n",
        "def collide(ball_tup1,ball_tup2):\n",
        " x1,y1,r1=ball_tup1\n",
        " x2,y2,r2=ball_tup2\n",
        " \n",
        " d=math.sqrt((x2-x1)**2+(y2-y1)**2)\n",
        "print(\"centroid distance of two balls:\",d)\n",
        "print(\"Sum of radius ball-01&ball-02 is:{}+{}={}\".format(r1,r2,r1+r2))\n",
        " \n",
        "if d<=r1+r2:\n",
        "       return True\n",
        "else:\n",
        "       return False\n",
        " \n",
        "b1=(2,-4,3)\n",
        "b2=(4,6,3)\n",
        " \n",
        " \n",
        "if collide(b1,b2):\n",
        "     print(\"balls are collide..!\")\n",
        "else:\n",
        "    print(\"balls are not collide..!\")"
      ],
      "execution_count": null,
      "outputs": []
    },
    {
      "cell_type": "markdown",
      "metadata": {
        "id": "KE9XCvdiEzXb"
      },
      "source": [
        " centroid distance of two balls: 10.198039027185569\n",
        "Sum of radius ball-01&ball-02 is:3+3=6\n",
        "balls are not collide..!"
      ]
    },
    {
      "cell_type": "markdown",
      "metadata": {
        "id": "e45r-DJQE2Ob"
      },
      "source": [
        "**AIM** \n",
        " \n",
        "8b)find mean,median,mode for the given set of numbers in a list\n",
        "\n",
        "**DESCRIPTION**:\n",
        "\n",
        "Mean : The mean is the average of all numbers and is sometimes called the arithmetic mean.\n",
        "This code calculates Mean or Average of a list containing numbers:\n",
        "Median : The median is the middle number in a group of numbers. This code calculates Median\n",
        "of a list containing numbers:\n",
        "Mode : The mode is the number that occurs most often within a set of numbers. This code\n",
        "calculates Mode of a list containing numbers:\n",
        "We will import Counter from collections library which is a built-in module in Python 2 and 3. This\n",
        "module will help us count duplicate elements in a list. We define a list of numbers and calculate\n",
        "the length of the list. We then call Counter (a dict subclass) which helps to count hashable\n",
        "objects, and we then convert it to dict object. We then initialize a list with a For Loop to compare\n",
        "all the dict values (Number of elements) to the max of all dict values (count of most occurring\n",
        "element) and it returns all the elements equal to max count. If the elements returned are equal to\n",
        "the number of total elements in a list then we print out ‘No mode’, else we print out the modes\n",
        "returned."
      ]
    },
    {
      "cell_type": "code",
      "metadata": {
        "id": "S_0xuTWWE4z-"
      },
      "source": [
        "def list_mean(num_list):\n",
        "  return sum(num_list)/len(num_list)\n",
        " \n",
        "def list_median(num_list):\n",
        "  num_list.sort()\n",
        "  n=len(num_list)\n",
        "  mid=n//2\n",
        "  if(n%2==1):\n",
        "    return num_list[mid]\n",
        "  else:\n",
        "     mid\n",
        "     return(num_list[mid-1]+num_list[mid])/2\n",
        "def list_mode(num_list):\n",
        "  num_list.sort()\n",
        "  temp=[]\n",
        " \n",
        "  i=0 \n",
        "  while i<len(num_list):\n",
        "    temp.append(num_list.count(num_list[i]))\n",
        "    i+=1\n",
        "   \n",
        "  dic=dict(zip(num_list,temp))\n",
        "  mode={k for(k,v) in dic.items() if v==max(temp)}\n",
        "  return mode\n",
        " \n",
        "lst=[1,1,2,2,2,3,4,5,3]\n",
        "print(\"given list is:\",lst)\n",
        "print(\"mean of the given list is:\",list_mean(lst))\n",
        "print(\"median of the given list is:\",list_median(lst))\n",
        "print(\"mode of the given list is:\",list_mode(lst))"
      ],
      "execution_count": null,
      "outputs": []
    },
    {
      "cell_type": "markdown",
      "metadata": {
        "id": "rHr_BBO-E8LP"
      },
      "source": [
        " given list is: [1, 1, 2, 2, 2, 3, 4, 5, 3]\n",
        "mean of the given list is: 2.5555555555555554\n",
        "median of the given list is: 2\n",
        "mode of the given list is: {2}"
      ]
    },
    {
      "cell_type": "markdown",
      "metadata": {
        "id": "Q82irI_dE--Z"
      },
      "source": [
        "     Exercise-9 FUNCTIONS continued\n",
        " \n",
        "**AIM**\n",
        " \n",
        "9a) Write a function nealy equal to test whether two strings are nearly equal. Two strings a and bare nearly equal when a can be generated by a single mutation on b.\n",
        " \n",
        "**DESCRIPTION**:\n",
        " \n",
        " strlen() function is used to check wether the two string are nearly equal or not by basis of the Length of those Strings len() function is an inbuilt function in Python programming language that returns the length of the string. len() is a built-in function in python.You can use the len() to get the length of the given string, array, list, tuple, dictionary, etc. Value: the given value you want the length of. Return value a return an integer value i.e. the length of the given string, or array, or list, or collections."
      ]
    },
    {
      "cell_type": "code",
      "metadata": {
        "id": "Z0iqNHEaFBQE"
      },
      "source": [
        "def equal(str1,str2):\n",
        "  c=0\n",
        "  i=j=0\n",
        "  while(i<len(str1) and j<len(str2)):\n",
        "    if (str1[i]!=str2[j]):\n",
        "      c+=1\n",
        "      if (len(str1)>len(str2)):\n",
        "        i+=1\n",
        "      elif (len(str1)==len(str2)):\n",
        "        pass\n",
        "      else:\n",
        "        i-=1\n",
        "    if(c>1):\n",
        "      return False\n",
        "    i+=1\n",
        "    j+=1\n",
        "  if (c<2):\n",
        "    return True\n",
        " \n",
        "s=input(\"enter string-1:\")\n",
        "s1=input(\"enter string-2:\")\n",
        "blen=equal(s,s1)\n",
        "if (blen):\n",
        "  print(\"String are nearly equal\")\n",
        "else:\n",
        "    print(\"String are NOT equal\")"
      ],
      "execution_count": null,
      "outputs": []
    },
    {
      "cell_type": "markdown",
      "metadata": {
        "id": "5P5gsKjVFDds"
      },
      "source": [
        " enter string-1:Sri\n",
        "enter string-2:Swathi\n",
        "String are NOT equal"
      ]
    },
    {
      "cell_type": "markdown",
      "metadata": {
        "id": "hW-hO1kDFGZZ"
      },
      "source": [
        "**AIM** \n",
        " \n",
        "9b) Write a function dup to find all duplicates in the list.\n",
        "\n",
        "**DESCRIPTION**:\n",
        "\n",
        " To check if a list contains any duplicate element follow the following steps,\n",
        "\n",
        "Add the contents of list in a set.\n",
        "Compare the size of set and list. If size of list & set is equal then it means no duplicates in list.\n",
        "If size of list & set are different then it means yes, there are duplicates in list."
      ]
    },
    {
      "cell_type": "code",
      "metadata": {
        "id": "-jfPFxfiFJU7"
      },
      "source": [
        "def dup(list):\n",
        "  temp=[]\n",
        "  for i in list:\n",
        "    c=list.count(i)\n",
        "    if (c>1 and (i not in temp)):\n",
        "      temp.append(i)\n",
        "  print(\"Duplicates in the list:\",temp) \n",
        " \n",
        "ls=[44,20,10,15,44,17,15]\n",
        "print(\"Given elements in the list:\",ls)\n",
        "dup(ls)"
      ],
      "execution_count": null,
      "outputs": []
    },
    {
      "cell_type": "markdown",
      "metadata": {
        "id": "StHS1S0aFL6z"
      },
      "source": [
        " Given elements in the list: [44, 20, 10, 15, 44, 17, 15]\n",
        "Duplicates in the list: [44, 15]"
      ]
    },
    {
      "cell_type": "markdown",
      "metadata": {
        "id": "23szptrvFOjP"
      },
      "source": [
        " **AIM**\n",
        " \n",
        "9c) Write a function unique to find all the unique elements of a list.\n",
        " \n",
        "**DESCRIPTION**: \n",
        " \n",
        "To find the unique in the list .There is a Specific Method i.e., Method : Traversal of list Using traversal, we can traverse for every element in the list and check if the element is in the unique_list already if it is not over there, then we can append it in the unique_list. This is done using one for loop and other if statement which check if the value is in the unique list or not which is equivalent to another for loop."
      ]
    },
    {
      "cell_type": "code",
      "metadata": {
        "id": "kKX5WSucFQ38"
      },
      "source": [
        "def uni(list):\n",
        "  print(\"Unique Elements in the list: \",end=\"\")\n",
        "  for i in list:\n",
        "    c=list.count(i)\n",
        "    if c==1:\n",
        "       print(i,end=\" \")\n",
        "  \n",
        " \n",
        "ls=[1,2,8,11,1,3,2,1]\n",
        "print(\"Given elements in the list:\",ls)\n",
        "uni(ls)"
      ],
      "execution_count": null,
      "outputs": []
    },
    {
      "cell_type": "markdown",
      "metadata": {
        "id": "uk9hjxQQFTQM"
      },
      "source": [
        " Given elements in the list: [1, 2, 8, 11, 1, 3, 2, 1]\n",
        "Unique Elements in the list: 8 11 3"
      ]
    },
    {
      "cell_type": "markdown",
      "metadata": {
        "id": "noPKxmVHFV65"
      },
      "source": [
        "             Exercise-10\n",
        "       FUNCTION-PROBLEM SOLVING\n",
        " \n",
        "**AIM**\n",
        " \n",
        "10a) Write a function cumulative product to compute cumulative product of a list of numbers.\n",
        "\n",
        "**DESCRIPTION**:\n",
        "\n",
        " A cumulative product is a sequence of partial products of a given sequence. For example, the cumulative products of the sequence. , are , , .. Cumulative products can be implemented in the Wolfram Language as Rest[FoldList[Times, 1, list]] cumprod(A,1) works on successive elements in the columns of A and returns the cumulative products of each column. cumprod(A,2) works on successive elements in the rows of A and returns the cumulative products of each row. umprod() function is used when we want to compute the cumulative product of array elements over a given axis. Syntax : numpy.cumprod(arr, axis=None, dtype=None, out=None) Parameters : arr : [array_like] Array containing numbers whose cumulative product is desired"
      ]
    },
    {
      "cell_type": "code",
      "metadata": {
        "id": "uyh_1a8kFY6S"
      },
      "source": [
        "def pro(list):\n",
        "  product=1\n",
        "  temp=[]\n",
        "  for i in list:\n",
        "    product*=i\n",
        "    temp.append(product)\n",
        "  return temp  \n",
        " \n",
        "ls=[1,2,3,4,5]\n",
        "print(\"Given list is: \",ls)\n",
        "print(\"Cumulative Product list is: \",prod(ls))"
      ],
      "execution_count": null,
      "outputs": []
    },
    {
      "cell_type": "markdown",
      "metadata": {
        "id": "MTbz25uQFbtd"
      },
      "source": [
        " Given list is: [1, 2, 4, 3, 5] Cumulative Producet list is: [1, 2, 8, 24, 120]"
      ]
    },
    {
      "cell_type": "markdown",
      "metadata": {
        "id": "RehY9QxvFeHX"
      },
      "source": [
        " \n",
        "**AIM**\n",
        " \n",
        "10b) Write a function reverse to reverse a list. Without using the reverse function.\n",
        "\n",
        "**DESCRIPTION**:\n",
        "\n",
        " In this Python code snippet post, we are going to implement a list reverse function from the scratch without using any builtin functions. Let us see how... Iterative solution We can use a for loop to swap the first and last items, the second and the one before the last item and so on until the list is reversed in place. The number of iterations needed is half the list size. If the list has an odd number of items then the middle item will stay in its place."
      ]
    },
    {
      "cell_type": "code",
      "metadata": {
        "id": "Rju_i6tBFg5e"
      },
      "source": [
        "def rev(list):\n",
        "  p=0\n",
        "  q=len(list)-1\n",
        "  while (p<=q):\n",
        "    temp=list[p]\n",
        "    list[p]=list[q]\n",
        "    list[q]=temp\n",
        "   q-=1\n",
        "    p+=1\n",
        "  return list\n",
        " \n",
        "ls=[50,100,150,200,250]\n",
        "print(\"Given List is: \",ls)\n",
        "rev(ls)\n",
        "print(\"Reverse of the List is:\",ls)"
      ],
      "execution_count": null,
      "outputs": []
    },
    {
      "cell_type": "markdown",
      "metadata": {
        "id": "JsXYBljnFjdo"
      },
      "source": [
        " Given List is: [50,100,150, 200, 250] Reverse of the List is: [250, 200, 150, 100, 50]"
      ]
    },
    {
      "cell_type": "markdown",
      "metadata": {
        "id": "a8Z81VckFl2j"
      },
      "source": [
        "**AIM** \n",
        " \n",
        "10c) Write function to compute ged, lem of two numbers. Each function shouldn't exceed one line.\n",
        " \n",
        "**DESCRIPTION**:\n",
        " \n",
        " Python provides you an anonymous function called lambda. It can take any number of arguments, but can only have one expression. It can be used to find LCM and GCD values without exceeding each from from one line. The general format is lambda arguments: expression The expression is executed during the function call and the result is returned. Lambda as a Function The power of using a lambda expression is implementing it using a function"
      ]
    },
    {
      "cell_type": "code",
      "metadata": {
        "id": "omSzu6sBFooY"
      },
      "source": [
        "gcd=lambda a,b: a if b==0 else gcd(a,a%b)\n",
        "lcm=lambda a,b: (a*b)/gcd(a,b)\n",
        " \n",
        "x=2\n",
        "y=4\n",
        "print(\"Given Number: \",x,y)\n",
        "print(\"GCD is: \",gcd(x,y))\n",
        "print(\"LCM is: \",lcm(x,y))"
      ],
      "execution_count": null,
      "outputs": []
    },
    {
      "cell_type": "markdown",
      "metadata": {
        "id": "FqsUxKiRFsSF"
      },
      "source": [
        " Given Number:  2 4\n",
        "GCD is:  2\n",
        "LCM is:  4.0"
      ]
    },
    {
      "cell_type": "markdown",
      "metadata": {
        "id": "KqcGNQ7pu6IN"
      },
      "source": [
        "         Exercise-11 Multi-D Lists\n",
        " \n",
        "**AIM**\n",
        " \n",
        "11A)Write a program that defines matrix and prints\n",
        " \n",
        "**DESCRIPTION**:\n",
        " \n",
        " Lists are a very widely use data structure in python. They contain a list of elements separated by comma. But sometimes lists can also contain lists within them. These are called nested lists or multidimensional lists. In this article we will see how to create and access elements in a multidimensional list. Methods on Multidimensional lists\n",
        " \n",
        "append(): Adds an element at the end of the list.\n",
        "extend(): Add the elements of a list (or any iterable), to the end of the current list.\n",
        "reverse(): Reverses the order of the list."
      ]
    },
    {
      "cell_type": "code",
      "metadata": {
        "colab": {
          "base_uri": "https://localhost:8080/"
        },
        "id": "gMi7Z6nVvad3",
        "outputId": "f61669bf-f0ce-43d3-af46-6846530a58a2"
      },
      "source": [
        " \n",
        " \n",
        " \n",
        "matA=[[]]\n",
        " \n",
        "rows=int(input(\"enter size of row in matrix:\"))\n",
        "cols=int(input(\"enter size of columns in matrix:\"))\n",
        " \n",
        "matA=[[int(input(\"enter [%d,%d] value:\"%(i,j)))for j in range (cols)]for i in range (rows)]\n",
        " \n",
        "print(\"matrix is \")\n",
        "for i in range (rows):\n",
        "    for j in range (cols):\n",
        "       print(matA[i][j],end='\\t')\n",
        "    print()"
      ],
      "execution_count": null,
      "outputs": [
        {
          "output_type": "stream",
          "text": [
            "enter size of row in matrix:2\n",
            "enter size of columns in matrix:2\n",
            "enter [0,0] value:2\n",
            "enter [0,1] value:4\n",
            "enter [1,0] value:6\n",
            "enter [1,1] value:8\n",
            "matrix is \n",
            "2\t4\t\n",
            "6\t8\t\n"
          ],
          "name": "stdout"
        }
      ]
    },
    {
      "cell_type": "markdown",
      "metadata": {
        "id": "ge1_muGcx8g2"
      },
      "source": [
        " \n",
        "**AIM**\n",
        " \n",
        "11B)Write a program to perform addition of two square matrices\n",
        "\n",
        "**DESCRIPTION**:\n",
        "\n",
        "We can perform matrix addition in following ways in Python.\n",
        "1. Using for loop:\n",
        "Explanation :- In this program we have used nested for loops to iterate through each row and\n",
        "each column. At each point we add the corresponding elements in the two matrices and store it\n",
        "in the result.\n",
        "2. Using nested list comprehension :\n",
        "In Python, we can implement a matrix as nested list (list inside a list). We can treat each\n",
        "element as a row of the matrix.\n",
        "Explanation :-\n",
        "The output of this program is the same as above. We have used nested list comprehension to\n",
        "iterate through each element in the matrix. List comprehension allows us to write concise codes\n",
        "and we must try to use them frequently in Python. They are very helpful.\n",
        "3. uising zip function\n",
        "Explanation :\n",
        "The zip function accepts iterator i of each element(list) of matrix, mapping them, adding them\n",
        "using sum() and storing them in the map form."
      ]
    },
    {
      "cell_type": "code",
      "metadata": {
        "colab": {
          "base_uri": "https://localhost:8080/"
        },
        "id": "rMoTW2oOyE26",
        "outputId": "0533efda-6854-498f-8b4f-63e40ebceed8"
      },
      "source": [
        "def matread(a,b):\n",
        "  return [[int(input(\"[%d,%d] value:\"%(i,j)))for j in range(b)]for i in range(a)]\n",
        "def matd(mat,a,b):\n",
        "  for i in range(b):\n",
        "     for j in range(a):\n",
        "        print(mat[i][j],end='\\t')\n",
        "     print()\n",
        "matA=[[]]\n",
        "matB=[[]]\n",
        "matAdd=[[]]\n",
        "rows=int(input(\"enter size of row in matrix:\"))\n",
        "cols=int(input(\"enter size of columns in matrix:\"))\n",
        "if rows==cols:\n",
        "   print(\"enter matrixA elements:\")\n",
        "   matA=matread(rows,cols)\n",
        "   print(\"enter matrixB elements:\")\n",
        "   matB=matread(rows,cols)\n",
        "   print(\"matrix A is:\")\n",
        "   matd(matA,rows,cols)\n",
        "   print(\"matrix B is:\")\n",
        "   matd(matB,rows,cols)\n",
        "   matAdd=[[matA[i][j]+matB[i][j] for j in range(cols)]for i in range(rows)]\n",
        "   print(\"sum of matrices is:\")\n",
        "   matd(matAdd,rows,cols)\n",
        "else:\n",
        "   print(\"addition is not possible\")"
      ],
      "execution_count": null,
      "outputs": [
        {
          "output_type": "stream",
          "text": [
            "enter size of row in matrix:2\n",
            "enter size of columns in matrix:2\n",
            "enter matrixA elements:\n",
            "[0,0] value:2\n",
            "[0,1] value:4\n",
            "[1,0] value:6\n",
            "[1,1] value:8\n",
            "enter matrixB elements:\n",
            "[0,0] value:1\n",
            "[0,1] value:3\n",
            "[1,0] value:5\n",
            "[1,1] value:7\n",
            "matrix A is:\n",
            "2\t4\t\n",
            "6\t8\t\n",
            "matrix B is:\n",
            "1\t3\t\n",
            "5\t7\t\n",
            "sum of matrices is:\n",
            "3\t7\t\n",
            "11\t15\t\n"
          ],
          "name": "stdout"
        }
      ]
    },
    {
      "cell_type": "markdown",
      "metadata": {
        "id": "DNabQoew2tMt"
      },
      "source": [
        " \n",
        "**AIM**\n",
        " \n",
        "11C)Write a program to perform multiplication of two matrices\n",
        " \n",
        "**DESCRIPTION**:\n",
        " \n",
        " In Python, we can implement a matrix as nested list (list inside a list). We can treat each element as a row of the matrix. For example X = [[1, 2], [4, 5], [3, 6]] would represent a 3x2 matrix. The first row can be selected as X[0]. And, the element in first row, first column can be selected as X[0][0]. Multiplication of two matrices X and Y is defined only if the number of columns in X is equal to the number of rows Y. If X is a n x m matrix and Y is a m x l matrix then, XY is defined and has the dimension n x l (but YX is not defined). Here are a couple of ways to implement matrix multiplication in Python."
      ]
    },
    {
      "cell_type": "code",
      "metadata": {
        "colab": {
          "base_uri": "https://localhost:8080/"
        },
        "id": "WPyz4DoN20Ro",
        "outputId": "7d1a734a-184a-47f6-9dc5-723c34af1d93"
      },
      "source": [
        "def matread(a,b):\n",
        "  return [[int(input(\"[%d,%d] value:\"%(i,j)))for j in range(b)]for i in range(a)]\n",
        "def matd(mat,a,b):\n",
        "  for i in range(b):\n",
        "     for j in range(a):\n",
        "        print(mat[i][j],end='\\t')\n",
        "     print()\n",
        "matA=[[]]\n",
        "matB=[[]]\n",
        "matMul=[[]]\n",
        "rows=int(input(\"enter size of row in matrix:\"))\n",
        "cols=int(input(\"enter size of columns in matrix:\"))\n",
        "if rows==cols:\n",
        "   print(\"enter matrixA elements:\")\n",
        "   matA=matread(rows,cols)\n",
        "   print(\"enter matrixB elements:\")\n",
        "   matB=matread(rows,cols)\n",
        "   \n",
        "   matMul=[[0 for j in range(cols)]for i in range(rows)]\n",
        " \n",
        " \n",
        "   for i in range(rows):\n",
        "      for j in range(cols):\n",
        "         for k in range(cols):\n",
        "            matMul[i][j]+=matA[i][k]*matB[k][j]\n",
        " \n",
        "   print(\"matrix A is:\")\n",
        "   matd(matA,rows,cols)\n",
        " \n",
        "   print(\"matrix B is:\")\n",
        "   matd(matB,rows,cols)\n",
        " \n",
        "   print(\"multiplication of matrices is:\")\n",
        "   matd(matMul,rows,cols)\n",
        "else:\n",
        "   print(\"multiplication is not possible\")"
      ],
      "execution_count": null,
      "outputs": [
        {
          "output_type": "stream",
          "text": [
            "enter size of row in matrix:2\n",
            "enter size of columns in matrix:2\n",
            "enter matrixA elements:\n",
            "[0,0] value:1 \n",
            "[0,1] value:3\n",
            "[1,0] value:2\n",
            "[1,1] value:4\n",
            "enter matrixB elements:\n",
            "[0,0] value:2\n",
            "[0,1] value:4\n",
            "[1,0] value:5\n",
            "[1,1] value:6\n",
            "matrix A is:\n",
            "1\t3\t\n",
            "2\t4\t\n",
            "matrix B is:\n",
            "2\t4\t\n",
            "5\t6\t\n",
            "multiplication of matrices is:\n",
            "17\t22\t\n",
            "24\t32\t\n"
          ],
          "name": "stdout"
        }
      ]
    },
    {
      "cell_type": "markdown",
      "metadata": {
        "id": "IcdCMymeMvJ-"
      },
      "source": [
        "     Exercise - 12     Modules"
      ]
    },
    {
      "cell_type": "markdown",
      "metadata": {
        "id": "giYMHRIiM3N2"
      },
      "source": [
        " a) Install packages requests, flask and explore them. using (pip)"
      ]
    },
    {
      "cell_type": "markdown",
      "metadata": {
        "id": "O-LHy37pFtz6"
      },
      "source": [
        " **AIM**\n",
        " \n",
        "12b)Write a Script that requests and fetch content from the page eg(Wiki)\n",
        " \n",
        "**DESCRIPTION**: \n",
        " \n",
        "The Hypertext Transfer Protocol (HTTP) is an application protocol for distributed, collaborative, hypermedia information systems. HTTP is the foundation of data communication for the World Wide Web. Python requests Requests is a simple and elegant Python HTTP library. It provides methods for accessing Web resources via HTTP. Python requests reading a web page The get() method issues a GET request; it fetches documents identified by the given URL."
      ]
    },
    {
      "cell_type": "code",
      "metadata": {
        "id": "d4PF2MW0M68v",
        "colab": {
          "base_uri": "https://localhost:8080/"
        },
        "outputId": "3dc64eeb-94f3-4b61-da72-27cd69be7410"
      },
      "source": [
        "import requests\n",
        "r=requests.get('https://www.google.com')\n",
        "print(\"status coed:\",r.status_code)\n",
        "print(\"header content:\",r.headers['content-type'])\n",
        "print(r.text)"
      ],
      "execution_count": null,
      "outputs": [
        {
          "output_type": "stream",
          "text": [
            "status coed: 200\n",
            "header content: text/html; charset=ISO-8859-1\n",
            "<!doctype html><html itemscope=\"\" itemtype=\"http://schema.org/WebPage\" lang=\"en\"><head><meta content=\"Search the world's information, including webpages, images, videos and more. Google has many special features to help you find exactly what you're looking for.\" name=\"description\"><meta content=\"noodp\" name=\"robots\"><meta content=\"text/html; charset=UTF-8\" http-equiv=\"Content-Type\"><meta content=\"/images/branding/googleg/1x/googleg_standard_color_128dp.png\" itemprop=\"image\"><title>Google</title><script nonce=\"hcTVaZVsyoLlVlBKTt24+Q==\">(function(){window.google={kEI:'14b1YKXlMdXi-gSJ85i4Ag',kEXPI:'0,772215,1,530320,56873,954,5104,207,4804,2316,383,246,5,1354,4936,314,1122516,1197780,502,328985,51224,16114,28684,893,16679,4859,1361,284,9007,3026,4747,12835,4020,978,13228,3847,4192,6434,1138,6290,7095,4517,2778,919,5081,1593,1279,2212,530,149,1103,840,1983,213,4101,109,3405,606,2025,1775,520,14670,3227,2845,7,12354,5096,7540,336,3748,1289,1483,1925,907,2,941,2614,12710,432,3,1590,1,5445,148,10040,1283,2652,4,1528,2304,1236,5227,576,74,1983,2626,2015,4067,7434,2110,1714,3050,2658,7357,30,3878,9750,2305,638,37,7043,3772,3494,2499,770,665,2521,3300,2536,992,3102,17,2239,882,6,908,3,3541,1,5349,8914,447,1,1813,283,912,5992,10619,1907,2,1394,756,658,1,110,8,1,1272,1715,2,3057,6155,627,4,32,4,5387,4,683,442,342,255,55,4,434,2379,91,30,520,1781,1274,1076,3502,2051,1632,187,5550,3,1040,1160,1266,3,3425,3,399,1313,291,1440,33,907,1340,1,234,1143,1815,1544,350,2,835,3,123,24,724,3176,683,743,13,1448,2432,1,12,3,1,725,585,240,224,1898,223,434,1,8,64,1,8,24,2183,120,393,994,1,2,317,682,5,125,900,1512,106,317,470,84,325,895,57,101,190,145,421,324,91,1115,349,8,1375,213,858,714,692,486,1323,45,467,72,472,855,1,209,2092,2,407,1,2,2,5612718,101,93,32,220,59,5996810,2800696,882,444,1,2,80,1,1796,1,9,2,2551,1,748,141,795,563,1,4265,1,1,2,1331,3299,843,2609,155,17,13,72,139,4,2,20,2,169,13,19,46,5,39,96,548,29,2,2,1,2,1,2,2,7,4,1,2,2,2,2,2,2,312,41,513,186,1,1,158,3,2,2,2,2,2,4,2,3,3,233,21,15,21,1874751,21780085,299866,2866027,1146349,26661,7,2307,338,3,2339,75,2789,258,767438',kBL:'01HL'};google.sn='webhp';google.kHL='en';})();(function(){\n",
            "var f=this||self;var h,k=[];function l(a){for(var b;a&&(!a.getAttribute||!(b=a.getAttribute(\"eid\")));)a=a.parentNode;return b||h}function m(a){for(var b=null;a&&(!a.getAttribute||!(b=a.getAttribute(\"leid\")));)a=a.parentNode;return b}\n",
            "function n(a,b,c,d,g){var e=\"\";c||-1!==b.search(\"&ei=\")||(e=\"&ei=\"+l(d),-1===b.search(\"&lei=\")&&(d=m(d))&&(e+=\"&lei=\"+d));d=\"\";!c&&f._cshid&&-1===b.search(\"&cshid=\")&&\"slh\"!==a&&(d=\"&cshid=\"+f._cshid);c=c||\"/\"+(g||\"gen_204\")+\"?atyp=i&ct=\"+a+\"&cad=\"+b+e+\"&zx=\"+Date.now()+d;/^http:/i.test(c)&&\"https:\"===window.location.protocol&&(google.ml&&google.ml(Error(\"a\"),!1,{src:c,glmm:1}),c=\"\");return c};h=google.kEI;google.getEI=l;google.getLEI=m;google.ml=function(){return null};google.log=function(a,b,c,d,g){if(c=n(a,b,c,d,g)){a=new Image;var e=k.length;k[e]=a;a.onerror=a.onload=a.onabort=function(){delete k[e]};a.src=c}};google.logUrl=n;}).call(this);(function(){\n",
            "google.y={};google.sy=[];google.x=function(a,b){if(a)var c=a.id;else{do c=Math.random();while(google.y[c])}google.y[c]=[a,b];return!1};google.sx=function(a){google.sy.push(a)};google.lm=[];google.plm=function(a){google.lm.push.apply(google.lm,a)};google.lq=[];google.load=function(a,b,c){google.lq.push([[a],b,c])};google.loadAll=function(a,b){google.lq.push([a,b])};google.bx=!1;google.lx=function(){};}).call(this);google.f={};(function(){\n",
            "document.documentElement.addEventListener(\"submit\",function(b){var a;if(a=b.target){var c=a.getAttribute(\"data-submitfalse\");a=\"1\"==c||\"q\"==c&&!a.elements.q.value?!0:!1}else a=!1;a&&(b.preventDefault(),b.stopPropagation())},!0);document.documentElement.addEventListener(\"click\",function(b){var a;a:{for(a=b.target;a&&a!=document.documentElement;a=a.parentElement)if(\"A\"==a.tagName){a=\"1\"==a.getAttribute(\"data-nohref\");break a}a=!1}a&&b.preventDefault()},!0);}).call(this);</script><style>#gbar,#guser{font-size:13px;padding-top:1px !important;}#gbar{height:22px}#guser{padding-bottom:7px !important;text-align:right}.gbh,.gbd{border-top:1px solid #c9d7f1;font-size:1px}.gbh{height:0;position:absolute;top:24px;width:100%}@media all{.gb1{height:22px;margin-right:.5em;vertical-align:top}#gbar{float:left}}a.gb1,a.gb4{text-decoration:underline !important}a.gb1,a.gb4{color:#00c !important}.gbi .gb4{color:#dd8e27 !important}.gbf .gb4{color:#900 !important}\n",
            "</style><style>body,td,a,p,.h{font-family:arial,sans-serif}body{margin:0;overflow-y:scroll}#gog{padding:3px 8px 0}td{line-height:.8em}.gac_m td{line-height:17px}form{margin-bottom:20px}.h{color:#1558d6}em{font-weight:bold;font-style:normal}.lst{height:25px;width:496px}.gsfi,.lst{font:18px arial,sans-serif}.gsfs{font:17px arial,sans-serif}.ds{display:inline-box;display:inline-block;margin:3px 0 4px;margin-left:4px}input{font-family:inherit}body{background:#fff;color:#000}a{color:#4b11a8;text-decoration:none}a:hover,a:active{text-decoration:underline}.fl a{color:#1558d6}a:visited{color:#4b11a8}.sblc{padding-top:5px}.sblc a{display:block;margin:2px 0;margin-left:13px;font-size:11px}.lsbb{background:#f8f9fa;border:solid 1px;border-color:#dadce0 #70757a #70757a #dadce0;height:30px}.lsbb{display:block}#WqQANb a{display:inline-block;margin:0 12px}.lsb{background:url(/images/nav_logo229.png) 0 -261px repeat-x;border:none;color:#000;cursor:pointer;height:30px;margin:0;outline:0;font:15px arial,sans-serif;vertical-align:top}.lsb:active{background:#dadce0}.lst:focus{outline:none}</style><script nonce=\"hcTVaZVsyoLlVlBKTt24+Q==\"></script></head><body bgcolor=\"#fff\"><script nonce=\"hcTVaZVsyoLlVlBKTt24+Q==\">(function(){var src='/images/nav_logo229.png';var iesg=false;document.body.onload = function(){window.n && window.n();if (document.images){new Image().src=src;}\n",
            "if (!iesg){document.f&&document.f.q.focus();document.gbqf&&document.gbqf.q.focus();}\n",
            "}\n",
            "})();</script><div id=\"mngb\"><div id=gbar><nobr><b class=gb1>Search</b> <a class=gb1 href=\"https://www.google.com/imghp?hl=en&tab=wi\">Images</a> <a class=gb1 href=\"https://maps.google.com/maps?hl=en&tab=wl\">Maps</a> <a class=gb1 href=\"https://play.google.com/?hl=en&tab=w8\">Play</a> <a class=gb1 href=\"https://www.youtube.com/?gl=US&tab=w1\">YouTube</a> <a class=gb1 href=\"https://news.google.com/?tab=wn\">News</a> <a class=gb1 href=\"https://mail.google.com/mail/?tab=wm\">Gmail</a> <a class=gb1 href=\"https://drive.google.com/?tab=wo\">Drive</a> <a class=gb1 style=\"text-decoration:none\" href=\"https://www.google.com/intl/en/about/products?tab=wh\"><u>More</u> &raquo;</a></nobr></div><div id=guser width=100%><nobr><span id=gbn class=gbi></span><span id=gbf class=gbf></span><span id=gbe></span><a href=\"http://www.google.com/history/optout?hl=en\" class=gb4>Web History</a> | <a  href=\"/preferences?hl=en\" class=gb4>Settings</a> | <a target=_top id=gb_70 href=\"https://accounts.google.com/ServiceLogin?hl=en&passive=true&continue=https://www.google.com/&ec=GAZAAQ\" class=gb4>Sign in</a></nobr></div><div class=gbh style=left:0></div><div class=gbh style=right:0></div></div><center><br clear=\"all\" id=\"lgpd\"><div id=\"lga\"><img alt=\"Google\" height=\"92\" src=\"/images/branding/googlelogo/1x/googlelogo_white_background_color_272x92dp.png\" style=\"padding:28px 0 14px\" width=\"272\" id=\"hplogo\"><br><br></div><form action=\"/search\" name=\"f\"><table cellpadding=\"0\" cellspacing=\"0\"><tr valign=\"top\"><td width=\"25%\">&nbsp;</td><td align=\"center\" nowrap=\"\"><input name=\"ie\" value=\"ISO-8859-1\" type=\"hidden\"><input value=\"en\" name=\"hl\" type=\"hidden\"><input name=\"source\" type=\"hidden\" value=\"hp\"><input name=\"biw\" type=\"hidden\"><input name=\"bih\" type=\"hidden\"><div class=\"ds\" style=\"height:32px;margin:4px 0\"><input class=\"lst\" style=\"margin:0;padding:5px 8px 0 6px;vertical-align:top;color:#000\" autocomplete=\"off\" value=\"\" title=\"Google Search\" maxlength=\"2048\" name=\"q\" size=\"57\"></div><br style=\"line-height:0\"><span class=\"ds\"><span class=\"lsbb\"><input class=\"lsb\" value=\"Google Search\" name=\"btnG\" type=\"submit\"></span></span><span class=\"ds\"><span class=\"lsbb\"><input class=\"lsb\" id=\"tsuid1\" value=\"I'm Feeling Lucky\" name=\"btnI\" type=\"submit\"><script nonce=\"hcTVaZVsyoLlVlBKTt24+Q==\">(function(){var id='tsuid1';document.getElementById(id).onclick = function(){if (this.form.q.value){this.checked = 1;if (this.form.iflsig)this.form.iflsig.disabled = false;}\n",
            "else top.location='/doodles/';};})();</script><input value=\"AINFCbYAAAAAYPWU5zlIandKVBDM1SdbvaLkHD5O7pqE\" name=\"iflsig\" type=\"hidden\"></span></span></td><td class=\"fl sblc\" align=\"left\" nowrap=\"\" width=\"25%\"><a href=\"/advanced_search?hl=en&amp;authuser=0\">Advanced search</a></td></tr></table><input id=\"gbv\" name=\"gbv\" type=\"hidden\" value=\"1\"><script nonce=\"hcTVaZVsyoLlVlBKTt24+Q==\">(function(){\n",
            "var a,b=\"1\";if(document&&document.getElementById)if(\"undefined\"!=typeof XMLHttpRequest)b=\"2\";else if(\"undefined\"!=typeof ActiveXObject){var c,d,e=[\"MSXML2.XMLHTTP.6.0\",\"MSXML2.XMLHTTP.3.0\",\"MSXML2.XMLHTTP\",\"Microsoft.XMLHTTP\"];for(c=0;d=e[c++];)try{new ActiveXObject(d),b=\"2\"}catch(h){}}a=b;if(\"2\"==a&&-1==location.search.indexOf(\"&gbv=2\")){var f=google.gbvu,g=document.getElementById(\"gbv\");g&&(g.value=a);f&&window.setTimeout(function(){location.href=f},0)};}).call(this);</script></form><div id=\"gac_scont\"></div><div style=\"font-size:83%;min-height:3.5em\"><br></div><span id=\"footer\"><div style=\"font-size:10pt\"><div style=\"margin:19px auto;text-align:center\" id=\"WqQANb\"><a href=\"/intl/en/ads/\">Advertising Programs</a><a href=\"/services/\">Business Solutions</a><a href=\"/intl/en/about.html\">About Google</a></div></div><p style=\"font-size:8pt;color:#70757a\">&copy; 2021 - <a href=\"/intl/en/policies/privacy/\">Privacy</a> - <a href=\"/intl/en/policies/terms/\">Terms</a></p></span></center><script nonce=\"hcTVaZVsyoLlVlBKTt24+Q==\">(function(){window.google.cdo={height:757,width:1440};(function(){\n",
            "var a=window.innerWidth,b=window.innerHeight;if(!a||!b){var c=window.document,d=\"CSS1Compat\"==c.compatMode?c.documentElement:c.body;a=d.clientWidth;b=d.clientHeight}a&&b&&(a!=google.cdo.width||b!=google.cdo.height)&&google.log(\"\",\"\",\"/client_204?&atyp=i&biw=\"+a+\"&bih=\"+b+\"&ei=\"+google.kEI);}).call(this);})();</script> <script nonce=\"hcTVaZVsyoLlVlBKTt24+Q==\">(function(){google.xjs={ck:'',cs:'',excm:[],pml:false};})();</script>  <script nonce=\"hcTVaZVsyoLlVlBKTt24+Q==\">(function(){var u='/xjs/_/js/k\\x3dxjs.hp.en_US.u-X60WtIi-Y.O/m\\x3dsb_he,d/am\\x3dAHgCLA/d\\x3d1/ed\\x3d1/rs\\x3dACT90oHH4aIsupOvO3lhHWc-TIx4ptE7pg';\n",
            "var e=this||self,f=function(a){return a};var g;var l=function(a,b){this.g=b===h?a:\"\"};l.prototype.toString=function(){return this.g+\"\"};var h={};function m(){var a=u;google.lx=function(){n(a);google.lx=function(){}};google.bx||google.lx()}\n",
            "function n(a){google.timers&&google.timers.load&&google.tick&&google.tick(\"load\",\"xjsls\");var b=document;var c=\"SCRIPT\";\"application/xhtml+xml\"===b.contentType&&(c=c.toLowerCase());c=b.createElement(c);if(void 0===g){b=null;var k=e.trustedTypes;if(k&&k.createPolicy){try{b=k.createPolicy(\"goog#html\",{createHTML:f,createScript:f,createScriptURL:f})}catch(p){e.console&&e.console.error(p.message)}g=b}else g=b}a=(b=g)?b.createScriptURL(a):a;a=new l(a,h);c.src=a instanceof l&&a.constructor===l?a.g:\"type_error:TrustedResourceUrl\";var d;a=(c.ownerDocument&&c.ownerDocument.defaultView||window).document;(d=(a=null===(d=a.querySelector)||void 0===d?void 0:d.call(a,\"script[nonce]\"))?a.nonce||a.getAttribute(\"nonce\")||\"\":\"\")&&c.setAttribute(\"nonce\",d);document.body.appendChild(c);google.psa=!0};setTimeout(function(){m()},0);})();(function(){window.google.xjsu='/xjs/_/js/k\\x3dxjs.hp.en_US.u-X60WtIi-Y.O/m\\x3dsb_he,d/am\\x3dAHgCLA/d\\x3d1/ed\\x3d1/rs\\x3dACT90oHH4aIsupOvO3lhHWc-TIx4ptE7pg';})();function _DumpException(e){throw e;}\n",
            "function _F_installCss(c){}\n",
            "(function(){google.jl={attn:false,blt:'none',chnk:0,dw:false,emtn:0,end:0,ine:false,lls:'default',pdt:0,rep:0,snet:true,strt:0,ubm:false,uwp:true};})();(function(){var pmc='{\\x22d\\x22:{},\\x22sb_he\\x22:{\\x22agen\\x22:true,\\x22cgen\\x22:true,\\x22client\\x22:\\x22heirloom-hp\\x22,\\x22dh\\x22:true,\\x22dhqt\\x22:true,\\x22ds\\x22:\\x22\\x22,\\x22ffql\\x22:\\x22en\\x22,\\x22fl\\x22:true,\\x22host\\x22:\\x22google.com\\x22,\\x22isbh\\x22:28,\\x22jsonp\\x22:true,\\x22msgs\\x22:{\\x22cibl\\x22:\\x22Clear Search\\x22,\\x22dym\\x22:\\x22Did you mean:\\x22,\\x22lcky\\x22:\\x22I\\\\u0026#39;m Feeling Lucky\\x22,\\x22lml\\x22:\\x22Learn more\\x22,\\x22oskt\\x22:\\x22Input tools\\x22,\\x22psrc\\x22:\\x22This search was removed from your \\\\u003Ca href\\x3d\\\\\\x22/history\\\\\\x22\\\\u003EWeb History\\\\u003C/a\\\\u003E\\x22,\\x22psrl\\x22:\\x22Remove\\x22,\\x22sbit\\x22:\\x22Search by image\\x22,\\x22srch\\x22:\\x22Google Search\\x22},\\x22ovr\\x22:{},\\x22pq\\x22:\\x22\\x22,\\x22refpd\\x22:true,\\x22rfs\\x22:[],\\x22sbas\\x22:\\x220 3px 8px 0 rgba(0,0,0,0.2),0 0 0 1px rgba(0,0,0,0.08)\\x22,\\x22sbpl\\x22:16,\\x22sbpr\\x22:16,\\x22scd\\x22:10,\\x22stok\\x22:\\x22waArVcY9gquvpLw2LAi9ap7sbA4\\x22,\\x22uhde\\x22:false}}';google.pmc=JSON.parse(pmc);})();</script>        </body></html>\n"
          ],
          "name": "stdout"
        }
      ]
    },
    {
      "cell_type": "markdown",
      "metadata": {
        "id": "ZDryVlOzGQ-N"
      },
      "source": [
        " \n",
        "**AIM**\n",
        " \n",
        "12c) Write a simple script that serves a simple HTTPResponse and a simple HTML Page\n",
        " \n",
        "**DESCRIPTION**:\n",
        " \n",
        "**HTTP Protocol**\n",
        " \n",
        "The most important part of a web server is HTTP protocol.So now we will see what exactly this\n",
        "is –\n",
        "It stands for Hyper Text Transfer Protocol.\n",
        "It is an application layer protocol that allows web based applications to communicate and\n",
        "exchange data.\n",
        "The HTTP is the messenger of web.\n",
        "The computer that communicate via the HTTP must speak the HTTP protocol.\n",
        "It is a TCP/IP based protocol.\n",
        "It is used to deliver contents, for eg. images, audios, videos, documents etc.\n",
        "Using HTTP is the most convenient way to quickly and reliably move data on the web.\n",
        "HTML stands for hypertext markup language. It is the standard markup language for web pages\n",
        "that define the structure of the content. These elements are the building blocks of any website"
      ]
    },
    {
      "cell_type": "code",
      "metadata": {
        "id": "Gc826kxZGpbq"
      },
      "source": [
        "from flask import Flask,render_template\n",
        "app=Flask(__name__)\n",
        "print(app)\n",
        "@app.route(\"/\")\n",
        "def main():\n",
        "  return render_template('login.html')\n",
        "  if __name__==\"__main__\":\n",
        "    app.run(host=\"127.0.0.1\",port=2500)"
      ],
      "execution_count": null,
      "outputs": []
    },
    {
      "cell_type": "markdown",
      "metadata": {
        "id": "9ypIAhe9GyqE"
      },
      "source": [
        "<Flask '__main__'>"
      ]
    },
    {
      "cell_type": "markdown",
      "metadata": {
        "id": "aUfR0hDRGzTK"
      },
      "source": [
        "          Exercise 13: OOP"
      ]
    },
    {
      "cell_type": "markdown",
      "metadata": {
        "id": "eWYdli7eHh3a"
      },
      "source": [
        " \n",
        "**AIM**\n",
        " \n",
        "13a)Class variables and instance variables and illsustration of the self variable \n",
        " \n",
        "**DESCRIPTION**:\n",
        " \n",
        "Variables are named storage location. In python variables are not defined by its type instead it\n",
        "will be automatically determined by the value assigned to it. To determine the type of a variable\n",
        "a function called type () is used.\n",
        "class variable is shared by all object instances of a class. .... They are not defined inside any\n",
        "methods of a class. Because a class variable is shared by instances of a class, the Python class\n",
        "owns the variable. As a result, all instances of the class will be able to access that variable\n",
        "Instance variables are owned by instances of the class. This means that for each object or\n",
        "instance of a class, the instance variables are different..... Instance variables, owned by objects\n",
        "of the class, allow for each object or instance to have different values assigned to those\n",
        "variables\n",
        "self variable is used to bind the instance of the class to the instance method. We have to\n",
        "explicitly declare it as the first method argument to access the instance variables and methods.\n",
        "This variable is used only with the instance methods.\n",
        "\n",
        "\n",
        "**1)Robot**"
      ]
    },
    {
      "cell_type": "code",
      "metadata": {
        "colab": {
          "base_uri": "https://localhost:8080/"
        },
        "id": "0SAF0Ri-G7lZ",
        "outputId": "122d3877-1973-4bdb-e86b-7bdc7ddecd4a"
      },
      "source": [
        "class Robot:\n",
        "    what=\"Machine\"\n",
        "    name=\"Chitti\"\n",
        "    version=1.0\n",
        "    speed=\"1THz\"\n",
        "    memory=\"1ZB\"\n",
        " \n",
        "    def update(upd):\n",
        "        upd.version=2.0\n",
        "        upd.speed=\"2THz\"\n",
        "        upd.memory=\"2ZB\"\n",
        " \n",
        "    def disp(self):\n",
        "        print(\"Myself is a\",robj.what)\n",
        "        print(\"MyName is a\",robj.name)\n",
        "        print(\"Version :\",robj.version)\n",
        "        print(\"Speed : \",robj.speed)\n",
        "        print(\"Memory: \",robj.memory)\n",
        " \n",
        "robj=Robot()\n",
        "robj.disp()\n",
        " \n",
        "print(\"---------------Update---------\")\n",
        "robj.update()\n",
        "robj.disp()"
      ],
      "execution_count": null,
      "outputs": [
        {
          "output_type": "stream",
          "text": [
            "Myself is a Machine\n",
            "MyName is a Chitti\n",
            "Version : 1.0\n",
            "Speed :  1THz\n",
            "Memory:  1ZB\n",
            "---------------Update---------\n",
            "Myself is a Machine\n",
            "MyName is a Chitti\n",
            "Version : 2.0\n",
            "Speed :  2THz\n",
            "Memory:  2ZB\n"
          ],
          "name": "stdout"
        }
      ]
    },
    {
      "cell_type": "markdown",
      "metadata": {
        "id": "AqC025kurT8z"
      },
      "source": [
        "**2)ATM Machine**"
      ]
    },
    {
      "cell_type": "code",
      "metadata": {
        "colab": {
          "base_uri": "https://localhost:8080/"
        },
        "id": "kmLnpuqdH3Yu",
        "outputId": "c314fb3f-5457-4498-ec12-2dec3a9e4d77"
      },
      "source": [
        "class ATM:\n",
        "    def __init__(self):\n",
        "        self.balance=0\n",
        "        print(\"New Account\")\n",
        "        \n",
        "    def enquire(self):\n",
        "        print(\"Balance: \",self.balance)\n",
        "        \n",
        "    def deposit(self):\n",
        "        amount=int(input(\"Enter the Deposit Amount:\"))\n",
        "        self.balance+=amount\n",
        "        self.enquire()\n",
        " \n",
        "    def withdraw(self):\n",
        "        amount=int(input(\"Enter the Withdraw Amount: \"))\n",
        "        if self.balance<amount:\n",
        "            print(\"Insufficient Balance.....!\")\n",
        "        else:\n",
        "            self.balance-=amount\n",
        "            self.enquire()\n",
        " \n",
        "aobj=ATM()\n",
        "while(True):\n",
        "    print(\"*****Menu****\")\n",
        "    print(\"1.Deposit\")\n",
        "    print(\"2.Withdarw\")\n",
        "    print(\"3.Balance\")\n",
        "    print(\"0.Exit\")\n",
        "    ch=int(input(\"Enter Your Choice: \"))\n",
        "    if ch==0:\n",
        "        break\n",
        "    elif ch==1:\n",
        "        aobj.deposit()\n",
        "    elif ch==2:\n",
        "        aobj.withdraw()\n",
        "    elif ch==3:\n",
        "        aobj.enquire()\n",
        "    else:\n",
        "        print(\"Invalid choice:\")\n",
        "        pass"
      ],
      "execution_count": null,
      "outputs": [
        {
          "output_type": "stream",
          "text": [
            "New Account\n",
            "*****Menu****\n",
            "1.Deposit\n",
            "2.Withdarw\n",
            "3.Balance\n",
            "0.Exit\n",
            "Enter Your Choice: 1\n",
            "Enter the Deposit Amount:1000\n",
            "Balance:  1000\n",
            "*****Menu****\n",
            "1.Deposit\n",
            "2.Withdarw\n",
            "3.Balance\n",
            "0.Exit\n",
            "Enter Your Choice: 2\n",
            "Enter the Withdraw Amount: 550\n",
            "Balance:  450\n",
            "*****Menu****\n",
            "1.Deposit\n",
            "2.Withdarw\n",
            "3.Balance\n",
            "0.Exit\n",
            "Enter Your Choice: 0\n"
          ],
          "name": "stdout"
        }
      ]
    },
    {
      "cell_type": "markdown",
      "metadata": {
        "id": "7ghv4IgkIHk0"
      },
      "source": [
        "      Exercise 14:GUI GRAPHICS"
      ]
    },
    {
      "cell_type": "markdown",
      "metadata": {
        "id": "O6sBrWSisCHL"
      },
      "source": [
        " **AIM**:\n",
        " 14a) Write a GUI for an Expression Calculator using tk\n",
        " \n",
        "**DESCRIPTION**: \n",
        " \n",
        "Tkinter is a Python package which comes with many functions and methods that can be used to create an application. In order to create a tkinter application, we generally create an instance of tkinter frame, i.e., Tk(). It helps to display the root window and manages all the other components of the tkinter application. We can initialize the tkinter instance by assigning the variable to it."
      ]
    },
    {
      "cell_type": "code",
      "metadata": {
        "colab": {
          "base_uri": "https://localhost:8080/",
          "height": 625
        },
        "id": "a7yUgl-Hs1Td",
        "outputId": "25dbba13-2ff8-48fe-cb30-6333af817599"
      },
      "source": [
        " from tkinter import *\n",
        " \n",
        "win=Tk()\n",
        "win.geometry(\"312x324\")  \n",
        "win.resizable(0, 0) \n",
        "win.title(\"Calculator\")\n",
        " \n",
        " \n",
        " \n",
        "def btn_click(item):\n",
        "    global expression\n",
        "    expression = expression + str(item)\n",
        "    input_text.set(expression)\n",
        " \n",
        " \n",
        "def bt_clear(): \n",
        "    global expression \n",
        "    expression = \"\"\n",
        "    input_text.set(\"\")\n",
        " \n",
        " \n",
        " \n",
        "def bt_equal():\n",
        "    global expression\n",
        "    result = str(eval(expression))\n",
        "    input_text.set(result)\n",
        "    expression = \"\"\n",
        " \n",
        "expression = \"\"\n",
        " \n",
        " \n",
        "input_text = StringVar()\n",
        " \n",
        " \n",
        " \n",
        "input_frame = Frame(win, width=312, height=50, bd=0, highlightbackground=\"black\", highlightcolor=\"black\", highlightthickness=2)\n",
        " \n",
        "input_frame.pack(side=TOP)\n",
        "input_field = Entry(input_frame, font=('arial', 18, 'bold'), textvariable=input_text, width=50, bg=\"#eee\", bd=0, justify=RIGHT)\n",
        " \n",
        "input_field.grid(row=0, column=0)\n",
        " \n",
        "input_field.pack(ipady=10)\n",
        " \n",
        " \n",
        "btns_frame = Frame(win, width=312, height=272.5, bg=\"grey\")\n",
        " \n",
        "btns_frame.pack()\n",
        " \n",
        "# first row\n",
        " \n",
        "clear = Button(btns_frame, text = \"C\", fg = \"black\", width = 32, height = 3, bd = 0, bg = \"#eee\", cursor = \"hand2\", command = lambda: bt_clear()).grid(row = 0, column = 0, columnspan = 3, padx = 1, pady = 1)\n",
        " \n",
        "divide = Button(btns_frame, text = \"/\", fg = \"black\", width = 10, height = 3, bd = 0, bg = \"#eee\", cursor = \"hand2\", command = lambda: btn_click(\"/\")).grid(row = 0, column = 3, padx = 1, pady = 1)\n",
        " \n",
        "# second row\n",
        " \n",
        "seven = Button(btns_frame, text = \"7\", fg = \"black\", width = 10, height = 3, bd = 0, bg = \"#fff\", cursor = \"hand2\", command = lambda: btn_click(7)).grid(row = 1, column = 0, padx = 1, pady = 1)\n",
        " \n",
        "eight = Button(btns_frame, text = \"8\", fg = \"black\", width = 10, height = 3, bd = 0, bg = \"#fff\", cursor = \"hand2\", command = lambda: btn_click(8)).grid(row = 1, column = 1, padx = 1, pady = 1)\n",
        " \n",
        "nine = Button(btns_frame, text = \"9\", fg = \"black\", width = 10, height = 3, bd = 0, bg = \"#fff\", cursor = \"hand2\", command = lambda: btn_click(9)).grid(row = 1, column = 2, padx = 1, pady = 1)\n",
        " \n",
        "multiply = Button(btns_frame, text = \"\", fg = \"black\", width = 10, height = 3, bd = 0, bg = \"#eee\", cursor = \"hand2\", command = lambda: btn_click(\"\")).grid(row = 1, column = 3, padx = 1, pady = 1)\n",
        " \n",
        "# third row\n",
        " \n",
        "four = Button(btns_frame, text = \"4\", fg = \"black\", width = 10, height = 3, bd = 0, bg = \"#fff\", cursor = \"hand2\", command = lambda: btn_click(4)).grid(row = 2, column = 0, padx = 1, pady = 1)\n",
        " \n",
        "five = Button(btns_frame, text = \"5\", fg = \"black\", width = 10, height = 3, bd = 0, bg = \"#fff\", cursor = \"hand2\", command = lambda: btn_click(5)).grid(row = 2, column = 1, padx = 1, pady = 1)\n",
        " \n",
        "six = Button(btns_frame, text = \"6\", fg = \"black\", width = 10, height = 3, bd = 0, bg = \"#fff\", cursor = \"hand2\", command = lambda: btn_click(6)).grid(row = 2, column = 2, padx = 1, pady = 1)\n",
        " \n",
        "minus = Button(btns_frame, text = \"-\", fg = \"black\", width = 10, height = 3, bd = 0, bg = \"#eee\", cursor = \"hand2\", command = lambda: btn_click(\"-\")).grid(row = 2, column = 3, padx = 1, pady = 1)\n",
        "# fourth row\n",
        " \n",
        "one = Button(btns_frame, text = \"1\", fg = \"black\", width = 10, height = 3, bd = 0, bg = \"#fff\", cursor = \"hand2\", command = lambda: btn_click(1)).grid(row = 3, column = 0, padx = 1, pady = 1)\n",
        " \n",
        "two = Button(btns_frame, text = \"2\", fg = \"black\", width = 10, height = 3, bd = 0, bg = \"#fff\", cursor = \"hand2\", command = lambda: btn_click(2)).grid(row = 3, column = 1, padx = 1, pady = 1)\n",
        " \n",
        "three = Button(btns_frame, text = \"3\", fg = \"black\", width = 10, height = 3, bd = 0, bg = \"#fff\", cursor = \"hand2\", command = lambda: btn_click(3)).grid(row = 3, column = 2, padx = 1, pady = 1)\n",
        " \n",
        "plus = Button(btns_frame, text = \"+\", fg = \"black\", width = 10, height = 3, bd = 0, bg = \"#eee\", cursor = \"hand2\", command = lambda: btn_click(\"+\")).grid(row = 3, column = 3, padx = 1, pady = 1)\n",
        " \n",
        "# fifth row\n",
        " \n",
        "zero = Button(btns_frame, text = \"0\", fg = \"black\", width = 21, height = 3, bd = 0, bg = \"#fff\", cursor = \"hand2\", command = lambda: btn_click(0)).grid(row = 4, column = 0, columnspan = 2, padx = 1, pady = 1)\n",
        " \n",
        "point = Button(btns_frame, text = \".\", fg = \"black\", width = 10, height = 3, bd = 0, bg = \"#eee\", cursor = \"hand2\", command = lambda: btn_click(\".\")).grid(row = 4, column = 2, padx = 1, pady = 1)\n",
        " \n",
        "equals = Button(btns_frame, text = \"=\", fg = \"black\", width = 10, height = 3, bd = 0, bg = \"#eee\", cursor = \"hand2\", command = lambda: bt_equal()).grid(row = 4, column = 3, padx = 1, pady = 1)\n",
        " \n",
        "win.mainloop()"
      ],
      "execution_count": null,
      "outputs": [
        {
          "output_type": "error",
          "ename": "TclError",
          "evalue": "ignored",
          "traceback": [
            "\u001b[0;31m---------------------------------------------------------------------------\u001b[0m",
            "\u001b[0;31mTclError\u001b[0m                                  Traceback (most recent call last)",
            "\u001b[0;32m<ipython-input-3-41ae478699fb>\u001b[0m in \u001b[0;36m<module>\u001b[0;34m()\u001b[0m\n\u001b[1;32m      1\u001b[0m \u001b[0;32mfrom\u001b[0m \u001b[0mtkinter\u001b[0m \u001b[0;32mimport\u001b[0m \u001b[0;34m*\u001b[0m\u001b[0;34m\u001b[0m\u001b[0;34m\u001b[0m\u001b[0m\n\u001b[1;32m      2\u001b[0m \u001b[0;34m\u001b[0m\u001b[0m\n\u001b[0;32m----> 3\u001b[0;31m \u001b[0mwin\u001b[0m\u001b[0;34m=\u001b[0m\u001b[0mTk\u001b[0m\u001b[0;34m(\u001b[0m\u001b[0;34m)\u001b[0m\u001b[0;34m\u001b[0m\u001b[0;34m\u001b[0m\u001b[0m\n\u001b[0m\u001b[1;32m      4\u001b[0m \u001b[0mwin\u001b[0m\u001b[0;34m.\u001b[0m\u001b[0mgeometry\u001b[0m\u001b[0;34m(\u001b[0m\u001b[0;34m\"312x324\"\u001b[0m\u001b[0;34m)\u001b[0m\u001b[0;34m\u001b[0m\u001b[0;34m\u001b[0m\u001b[0m\n\u001b[1;32m      5\u001b[0m \u001b[0mwin\u001b[0m\u001b[0;34m.\u001b[0m\u001b[0mresizable\u001b[0m\u001b[0;34m(\u001b[0m\u001b[0;36m0\u001b[0m\u001b[0;34m,\u001b[0m \u001b[0;36m0\u001b[0m\u001b[0;34m)\u001b[0m\u001b[0;34m\u001b[0m\u001b[0;34m\u001b[0m\u001b[0m\n",
            "\u001b[0;32m/usr/lib/python3.7/tkinter/__init__.py\u001b[0m in \u001b[0;36m__init__\u001b[0;34m(self, screenName, baseName, className, useTk, sync, use)\u001b[0m\n\u001b[1;32m   2021\u001b[0m                 \u001b[0mbaseName\u001b[0m \u001b[0;34m=\u001b[0m \u001b[0mbaseName\u001b[0m \u001b[0;34m+\u001b[0m \u001b[0mext\u001b[0m\u001b[0;34m\u001b[0m\u001b[0;34m\u001b[0m\u001b[0m\n\u001b[1;32m   2022\u001b[0m         \u001b[0minteractive\u001b[0m \u001b[0;34m=\u001b[0m \u001b[0;36m0\u001b[0m\u001b[0;34m\u001b[0m\u001b[0;34m\u001b[0m\u001b[0m\n\u001b[0;32m-> 2023\u001b[0;31m         \u001b[0mself\u001b[0m\u001b[0;34m.\u001b[0m\u001b[0mtk\u001b[0m \u001b[0;34m=\u001b[0m \u001b[0m_tkinter\u001b[0m\u001b[0;34m.\u001b[0m\u001b[0mcreate\u001b[0m\u001b[0;34m(\u001b[0m\u001b[0mscreenName\u001b[0m\u001b[0;34m,\u001b[0m \u001b[0mbaseName\u001b[0m\u001b[0;34m,\u001b[0m \u001b[0mclassName\u001b[0m\u001b[0;34m,\u001b[0m \u001b[0minteractive\u001b[0m\u001b[0;34m,\u001b[0m \u001b[0mwantobjects\u001b[0m\u001b[0;34m,\u001b[0m \u001b[0museTk\u001b[0m\u001b[0;34m,\u001b[0m \u001b[0msync\u001b[0m\u001b[0;34m,\u001b[0m \u001b[0muse\u001b[0m\u001b[0;34m)\u001b[0m\u001b[0;34m\u001b[0m\u001b[0;34m\u001b[0m\u001b[0m\n\u001b[0m\u001b[1;32m   2024\u001b[0m         \u001b[0;32mif\u001b[0m \u001b[0museTk\u001b[0m\u001b[0;34m:\u001b[0m\u001b[0;34m\u001b[0m\u001b[0;34m\u001b[0m\u001b[0m\n\u001b[1;32m   2025\u001b[0m             \u001b[0mself\u001b[0m\u001b[0;34m.\u001b[0m\u001b[0m_loadtk\u001b[0m\u001b[0;34m(\u001b[0m\u001b[0;34m)\u001b[0m\u001b[0;34m\u001b[0m\u001b[0;34m\u001b[0m\u001b[0m\n",
            "\u001b[0;31mTclError\u001b[0m: no display name and no $DISPLAY environment variable"
          ]
        }
      ]
    },
    {
      "cell_type": "markdown",
      "metadata": {
        "id": "9uX4BdQnINCR"
      },
      "source": [
        "**AIM**\n",
        " \n",
        " \n",
        "14B)Write a program to implement the following figures using turtle.\n",
        "\n",
        "**DESCRIPTION**:\n",
        "\n",
        " The turtle module is an extended reimplementation of the same-named module from the Python standard distribution up to version Python 2.5. It tries to keep the merits of the old turtle module and to be (nearly) 100% compatible with it. This means in the first place to enable the learning programmer to use all the commands, classes and methods interactively when using the module from within IDLE run with the -n switch. The turtle module provides turtle graphics primitives, in both object-oriented and procedure- oriented ways. Because it uses tkinter for the underlying graphics, it needs a version of Python installed with Tk support"
      ]
    },
    {
      "cell_type": "code",
      "metadata": {
        "colab": {
          "base_uri": "https://localhost:8080/",
          "height": 666
        },
        "id": "d3epXQTpIZ2V",
        "outputId": "54ab77ea-88e7-4e91-b6c7-537a52ac4f6d"
      },
      "source": [
        "import turtle\n",
        "c=[\"red\",\"green\",\"blue\"]\n",
        "i=0\n",
        "turtle.pensize(5)\n",
        " \n",
        "for angle in range(0,360,30):\n",
        "    if i>2:\n",
        "        i=0\n",
        "    turtle.color(c[i])\n",
        "    turtle.seth(angle)\n",
        "    turtle.circle(50)\n",
        "    i+=1"
      ],
      "execution_count": null,
      "outputs": [
        {
          "output_type": "error",
          "ename": "TclError",
          "evalue": "ignored",
          "traceback": [
            "\u001b[0;31m---------------------------------------------------------------------------\u001b[0m",
            "\u001b[0;31mTclError\u001b[0m                                  Traceback (most recent call last)",
            "\u001b[0;32m<ipython-input-5-8af4914a8a85>\u001b[0m in \u001b[0;36m<module>\u001b[0;34m()\u001b[0m\n\u001b[1;32m      2\u001b[0m \u001b[0mc\u001b[0m\u001b[0;34m=\u001b[0m\u001b[0;34m[\u001b[0m\u001b[0;34m\"red\"\u001b[0m\u001b[0;34m,\u001b[0m\u001b[0;34m\"green\"\u001b[0m\u001b[0;34m,\u001b[0m\u001b[0;34m\"blue\"\u001b[0m\u001b[0;34m]\u001b[0m\u001b[0;34m\u001b[0m\u001b[0;34m\u001b[0m\u001b[0m\n\u001b[1;32m      3\u001b[0m \u001b[0mi\u001b[0m\u001b[0;34m=\u001b[0m\u001b[0;36m0\u001b[0m\u001b[0;34m\u001b[0m\u001b[0;34m\u001b[0m\u001b[0m\n\u001b[0;32m----> 4\u001b[0;31m \u001b[0mturtle\u001b[0m\u001b[0;34m.\u001b[0m\u001b[0mpensize\u001b[0m\u001b[0;34m(\u001b[0m\u001b[0;36m5\u001b[0m\u001b[0;34m)\u001b[0m\u001b[0;34m\u001b[0m\u001b[0;34m\u001b[0m\u001b[0m\n\u001b[0m\u001b[1;32m      5\u001b[0m \u001b[0;34m\u001b[0m\u001b[0m\n\u001b[1;32m      6\u001b[0m \u001b[0;32mfor\u001b[0m \u001b[0mangle\u001b[0m \u001b[0;32min\u001b[0m \u001b[0mrange\u001b[0m\u001b[0;34m(\u001b[0m\u001b[0;36m0\u001b[0m\u001b[0;34m,\u001b[0m\u001b[0;36m360\u001b[0m\u001b[0;34m,\u001b[0m\u001b[0;36m30\u001b[0m\u001b[0;34m)\u001b[0m\u001b[0;34m:\u001b[0m\u001b[0;34m\u001b[0m\u001b[0;34m\u001b[0m\u001b[0m\n",
            "\u001b[0;32m/usr/lib/python3.7/turtle.py\u001b[0m in \u001b[0;36mpensize\u001b[0;34m(width)\u001b[0m\n",
            "\u001b[0;32m/usr/lib/python3.7/turtle.py\u001b[0m in \u001b[0;36m__init__\u001b[0;34m(self, shape, undobuffersize, visible)\u001b[0m\n\u001b[1;32m   3810\u001b[0m                  visible=_CFG[\"visible\"]):\n\u001b[1;32m   3811\u001b[0m         \u001b[0;32mif\u001b[0m \u001b[0mTurtle\u001b[0m\u001b[0;34m.\u001b[0m\u001b[0m_screen\u001b[0m \u001b[0;32mis\u001b[0m \u001b[0;32mNone\u001b[0m\u001b[0;34m:\u001b[0m\u001b[0;34m\u001b[0m\u001b[0;34m\u001b[0m\u001b[0m\n\u001b[0;32m-> 3812\u001b[0;31m             \u001b[0mTurtle\u001b[0m\u001b[0;34m.\u001b[0m\u001b[0m_screen\u001b[0m \u001b[0;34m=\u001b[0m \u001b[0mScreen\u001b[0m\u001b[0;34m(\u001b[0m\u001b[0;34m)\u001b[0m\u001b[0;34m\u001b[0m\u001b[0;34m\u001b[0m\u001b[0m\n\u001b[0m\u001b[1;32m   3813\u001b[0m         RawTurtle.__init__(self, Turtle._screen,\n\u001b[1;32m   3814\u001b[0m                            \u001b[0mshape\u001b[0m\u001b[0;34m=\u001b[0m\u001b[0mshape\u001b[0m\u001b[0;34m,\u001b[0m\u001b[0;34m\u001b[0m\u001b[0;34m\u001b[0m\u001b[0m\n",
            "\u001b[0;32m/usr/lib/python3.7/turtle.py\u001b[0m in \u001b[0;36mScreen\u001b[0;34m()\u001b[0m\n\u001b[1;32m   3660\u001b[0m     else return the existing one.\"\"\"\n\u001b[1;32m   3661\u001b[0m     \u001b[0;32mif\u001b[0m \u001b[0mTurtle\u001b[0m\u001b[0;34m.\u001b[0m\u001b[0m_screen\u001b[0m \u001b[0;32mis\u001b[0m \u001b[0;32mNone\u001b[0m\u001b[0;34m:\u001b[0m\u001b[0;34m\u001b[0m\u001b[0;34m\u001b[0m\u001b[0m\n\u001b[0;32m-> 3662\u001b[0;31m         \u001b[0mTurtle\u001b[0m\u001b[0;34m.\u001b[0m\u001b[0m_screen\u001b[0m \u001b[0;34m=\u001b[0m \u001b[0m_Screen\u001b[0m\u001b[0;34m(\u001b[0m\u001b[0;34m)\u001b[0m\u001b[0;34m\u001b[0m\u001b[0;34m\u001b[0m\u001b[0m\n\u001b[0m\u001b[1;32m   3663\u001b[0m     \u001b[0;32mreturn\u001b[0m \u001b[0mTurtle\u001b[0m\u001b[0;34m.\u001b[0m\u001b[0m_screen\u001b[0m\u001b[0;34m\u001b[0m\u001b[0;34m\u001b[0m\u001b[0m\n\u001b[1;32m   3664\u001b[0m \u001b[0;34m\u001b[0m\u001b[0m\n",
            "\u001b[0;32m/usr/lib/python3.7/turtle.py\u001b[0m in \u001b[0;36m__init__\u001b[0;34m(self)\u001b[0m\n\u001b[1;32m   3676\u001b[0m         \u001b[0;31m# preserved (perhaps by passing it as an optional parameter)\u001b[0m\u001b[0;34m\u001b[0m\u001b[0;34m\u001b[0m\u001b[0;34m\u001b[0m\u001b[0m\n\u001b[1;32m   3677\u001b[0m         \u001b[0;32mif\u001b[0m \u001b[0m_Screen\u001b[0m\u001b[0;34m.\u001b[0m\u001b[0m_root\u001b[0m \u001b[0;32mis\u001b[0m \u001b[0;32mNone\u001b[0m\u001b[0;34m:\u001b[0m\u001b[0;34m\u001b[0m\u001b[0;34m\u001b[0m\u001b[0m\n\u001b[0;32m-> 3678\u001b[0;31m             \u001b[0m_Screen\u001b[0m\u001b[0;34m.\u001b[0m\u001b[0m_root\u001b[0m \u001b[0;34m=\u001b[0m \u001b[0mself\u001b[0m\u001b[0;34m.\u001b[0m\u001b[0m_root\u001b[0m \u001b[0;34m=\u001b[0m \u001b[0m_Root\u001b[0m\u001b[0;34m(\u001b[0m\u001b[0;34m)\u001b[0m\u001b[0;34m\u001b[0m\u001b[0;34m\u001b[0m\u001b[0m\n\u001b[0m\u001b[1;32m   3679\u001b[0m             \u001b[0mself\u001b[0m\u001b[0;34m.\u001b[0m\u001b[0m_root\u001b[0m\u001b[0;34m.\u001b[0m\u001b[0mtitle\u001b[0m\u001b[0;34m(\u001b[0m\u001b[0m_Screen\u001b[0m\u001b[0;34m.\u001b[0m\u001b[0m_title\u001b[0m\u001b[0;34m)\u001b[0m\u001b[0;34m\u001b[0m\u001b[0;34m\u001b[0m\u001b[0m\n\u001b[1;32m   3680\u001b[0m             \u001b[0mself\u001b[0m\u001b[0;34m.\u001b[0m\u001b[0m_root\u001b[0m\u001b[0;34m.\u001b[0m\u001b[0mondestroy\u001b[0m\u001b[0;34m(\u001b[0m\u001b[0mself\u001b[0m\u001b[0;34m.\u001b[0m\u001b[0m_destroy\u001b[0m\u001b[0;34m)\u001b[0m\u001b[0;34m\u001b[0m\u001b[0;34m\u001b[0m\u001b[0m\n",
            "\u001b[0;32m/usr/lib/python3.7/turtle.py\u001b[0m in \u001b[0;36m__init__\u001b[0;34m(self)\u001b[0m\n\u001b[1;32m    432\u001b[0m     \u001b[0;34m\"\"\"Root class for Screen based on Tkinter.\"\"\"\u001b[0m\u001b[0;34m\u001b[0m\u001b[0;34m\u001b[0m\u001b[0m\n\u001b[1;32m    433\u001b[0m     \u001b[0;32mdef\u001b[0m \u001b[0m__init__\u001b[0m\u001b[0;34m(\u001b[0m\u001b[0mself\u001b[0m\u001b[0;34m)\u001b[0m\u001b[0;34m:\u001b[0m\u001b[0;34m\u001b[0m\u001b[0;34m\u001b[0m\u001b[0m\n\u001b[0;32m--> 434\u001b[0;31m         \u001b[0mTK\u001b[0m\u001b[0;34m.\u001b[0m\u001b[0mTk\u001b[0m\u001b[0;34m.\u001b[0m\u001b[0m__init__\u001b[0m\u001b[0;34m(\u001b[0m\u001b[0mself\u001b[0m\u001b[0;34m)\u001b[0m\u001b[0;34m\u001b[0m\u001b[0;34m\u001b[0m\u001b[0m\n\u001b[0m\u001b[1;32m    435\u001b[0m \u001b[0;34m\u001b[0m\u001b[0m\n\u001b[1;32m    436\u001b[0m     \u001b[0;32mdef\u001b[0m \u001b[0msetupcanvas\u001b[0m\u001b[0;34m(\u001b[0m\u001b[0mself\u001b[0m\u001b[0;34m,\u001b[0m \u001b[0mwidth\u001b[0m\u001b[0;34m,\u001b[0m \u001b[0mheight\u001b[0m\u001b[0;34m,\u001b[0m \u001b[0mcwidth\u001b[0m\u001b[0;34m,\u001b[0m \u001b[0mcheight\u001b[0m\u001b[0;34m)\u001b[0m\u001b[0;34m:\u001b[0m\u001b[0;34m\u001b[0m\u001b[0;34m\u001b[0m\u001b[0m\n",
            "\u001b[0;32m/usr/lib/python3.7/tkinter/__init__.py\u001b[0m in \u001b[0;36m__init__\u001b[0;34m(self, screenName, baseName, className, useTk, sync, use)\u001b[0m\n\u001b[1;32m   2021\u001b[0m                 \u001b[0mbaseName\u001b[0m \u001b[0;34m=\u001b[0m \u001b[0mbaseName\u001b[0m \u001b[0;34m+\u001b[0m \u001b[0mext\u001b[0m\u001b[0;34m\u001b[0m\u001b[0;34m\u001b[0m\u001b[0m\n\u001b[1;32m   2022\u001b[0m         \u001b[0minteractive\u001b[0m \u001b[0;34m=\u001b[0m \u001b[0;36m0\u001b[0m\u001b[0;34m\u001b[0m\u001b[0;34m\u001b[0m\u001b[0m\n\u001b[0;32m-> 2023\u001b[0;31m         \u001b[0mself\u001b[0m\u001b[0;34m.\u001b[0m\u001b[0mtk\u001b[0m \u001b[0;34m=\u001b[0m \u001b[0m_tkinter\u001b[0m\u001b[0;34m.\u001b[0m\u001b[0mcreate\u001b[0m\u001b[0;34m(\u001b[0m\u001b[0mscreenName\u001b[0m\u001b[0;34m,\u001b[0m \u001b[0mbaseName\u001b[0m\u001b[0;34m,\u001b[0m \u001b[0mclassName\u001b[0m\u001b[0;34m,\u001b[0m \u001b[0minteractive\u001b[0m\u001b[0;34m,\u001b[0m \u001b[0mwantobjects\u001b[0m\u001b[0;34m,\u001b[0m \u001b[0museTk\u001b[0m\u001b[0;34m,\u001b[0m \u001b[0msync\u001b[0m\u001b[0;34m,\u001b[0m \u001b[0muse\u001b[0m\u001b[0;34m)\u001b[0m\u001b[0;34m\u001b[0m\u001b[0;34m\u001b[0m\u001b[0m\n\u001b[0m\u001b[1;32m   2024\u001b[0m         \u001b[0;32mif\u001b[0m \u001b[0museTk\u001b[0m\u001b[0;34m:\u001b[0m\u001b[0;34m\u001b[0m\u001b[0;34m\u001b[0m\u001b[0m\n\u001b[1;32m   2025\u001b[0m             \u001b[0mself\u001b[0m\u001b[0;34m.\u001b[0m\u001b[0m_loadtk\u001b[0m\u001b[0;34m(\u001b[0m\u001b[0;34m)\u001b[0m\u001b[0;34m\u001b[0m\u001b[0;34m\u001b[0m\u001b[0m\n",
            "\u001b[0;31mTclError\u001b[0m: no display name and no $DISPLAY environment variable"
          ]
        }
      ]
    },
    {
      "cell_type": "code",
      "metadata": {
        "colab": {
          "base_uri": "https://localhost:8080/",
          "height": 649
        },
        "id": "Bzb4tr4GIjrO",
        "outputId": "181e18ba-41b0-4257-db33-d4bcf7906863"
      },
      "source": [
        "import turtle\n",
        "turtle.pensize(1)\n",
        " \n",
        "for i in range(36):\n",
        "    for j in range(4):\n",
        "        turtle.forward(70)\n",
        "        turtle.left(90)\n",
        "    turtle.left(10)"
      ],
      "execution_count": null,
      "outputs": [
        {
          "output_type": "error",
          "ename": "TclError",
          "evalue": "ignored",
          "traceback": [
            "\u001b[0;31m---------------------------------------------------------------------------\u001b[0m",
            "\u001b[0;31mTclError\u001b[0m                                  Traceback (most recent call last)",
            "\u001b[0;32m<ipython-input-6-ef0c56ee359a>\u001b[0m in \u001b[0;36m<module>\u001b[0;34m()\u001b[0m\n\u001b[1;32m      1\u001b[0m \u001b[0;32mimport\u001b[0m \u001b[0mturtle\u001b[0m\u001b[0;34m\u001b[0m\u001b[0;34m\u001b[0m\u001b[0m\n\u001b[0;32m----> 2\u001b[0;31m \u001b[0mturtle\u001b[0m\u001b[0;34m.\u001b[0m\u001b[0mpensize\u001b[0m\u001b[0;34m(\u001b[0m\u001b[0;36m1\u001b[0m\u001b[0;34m)\u001b[0m\u001b[0;34m\u001b[0m\u001b[0;34m\u001b[0m\u001b[0m\n\u001b[0m\u001b[1;32m      3\u001b[0m \u001b[0;34m\u001b[0m\u001b[0m\n\u001b[1;32m      4\u001b[0m \u001b[0;32mfor\u001b[0m \u001b[0mi\u001b[0m \u001b[0;32min\u001b[0m \u001b[0mrange\u001b[0m\u001b[0;34m(\u001b[0m\u001b[0;36m36\u001b[0m\u001b[0;34m)\u001b[0m\u001b[0;34m:\u001b[0m\u001b[0;34m\u001b[0m\u001b[0;34m\u001b[0m\u001b[0m\n\u001b[1;32m      5\u001b[0m     \u001b[0;32mfor\u001b[0m \u001b[0mj\u001b[0m \u001b[0;32min\u001b[0m \u001b[0mrange\u001b[0m\u001b[0;34m(\u001b[0m\u001b[0;36m4\u001b[0m\u001b[0;34m)\u001b[0m\u001b[0;34m:\u001b[0m\u001b[0;34m\u001b[0m\u001b[0;34m\u001b[0m\u001b[0m\n",
            "\u001b[0;32m/usr/lib/python3.7/turtle.py\u001b[0m in \u001b[0;36mpensize\u001b[0;34m(width)\u001b[0m\n",
            "\u001b[0;32m/usr/lib/python3.7/turtle.py\u001b[0m in \u001b[0;36m__init__\u001b[0;34m(self, shape, undobuffersize, visible)\u001b[0m\n\u001b[1;32m   3810\u001b[0m                  visible=_CFG[\"visible\"]):\n\u001b[1;32m   3811\u001b[0m         \u001b[0;32mif\u001b[0m \u001b[0mTurtle\u001b[0m\u001b[0;34m.\u001b[0m\u001b[0m_screen\u001b[0m \u001b[0;32mis\u001b[0m \u001b[0;32mNone\u001b[0m\u001b[0;34m:\u001b[0m\u001b[0;34m\u001b[0m\u001b[0;34m\u001b[0m\u001b[0m\n\u001b[0;32m-> 3812\u001b[0;31m             \u001b[0mTurtle\u001b[0m\u001b[0;34m.\u001b[0m\u001b[0m_screen\u001b[0m \u001b[0;34m=\u001b[0m \u001b[0mScreen\u001b[0m\u001b[0;34m(\u001b[0m\u001b[0;34m)\u001b[0m\u001b[0;34m\u001b[0m\u001b[0;34m\u001b[0m\u001b[0m\n\u001b[0m\u001b[1;32m   3813\u001b[0m         RawTurtle.__init__(self, Turtle._screen,\n\u001b[1;32m   3814\u001b[0m                            \u001b[0mshape\u001b[0m\u001b[0;34m=\u001b[0m\u001b[0mshape\u001b[0m\u001b[0;34m,\u001b[0m\u001b[0;34m\u001b[0m\u001b[0;34m\u001b[0m\u001b[0m\n",
            "\u001b[0;32m/usr/lib/python3.7/turtle.py\u001b[0m in \u001b[0;36mScreen\u001b[0;34m()\u001b[0m\n\u001b[1;32m   3660\u001b[0m     else return the existing one.\"\"\"\n\u001b[1;32m   3661\u001b[0m     \u001b[0;32mif\u001b[0m \u001b[0mTurtle\u001b[0m\u001b[0;34m.\u001b[0m\u001b[0m_screen\u001b[0m \u001b[0;32mis\u001b[0m \u001b[0;32mNone\u001b[0m\u001b[0;34m:\u001b[0m\u001b[0;34m\u001b[0m\u001b[0;34m\u001b[0m\u001b[0m\n\u001b[0;32m-> 3662\u001b[0;31m         \u001b[0mTurtle\u001b[0m\u001b[0;34m.\u001b[0m\u001b[0m_screen\u001b[0m \u001b[0;34m=\u001b[0m \u001b[0m_Screen\u001b[0m\u001b[0;34m(\u001b[0m\u001b[0;34m)\u001b[0m\u001b[0;34m\u001b[0m\u001b[0;34m\u001b[0m\u001b[0m\n\u001b[0m\u001b[1;32m   3663\u001b[0m     \u001b[0;32mreturn\u001b[0m \u001b[0mTurtle\u001b[0m\u001b[0;34m.\u001b[0m\u001b[0m_screen\u001b[0m\u001b[0;34m\u001b[0m\u001b[0;34m\u001b[0m\u001b[0m\n\u001b[1;32m   3664\u001b[0m \u001b[0;34m\u001b[0m\u001b[0m\n",
            "\u001b[0;32m/usr/lib/python3.7/turtle.py\u001b[0m in \u001b[0;36m__init__\u001b[0;34m(self)\u001b[0m\n\u001b[1;32m   3676\u001b[0m         \u001b[0;31m# preserved (perhaps by passing it as an optional parameter)\u001b[0m\u001b[0;34m\u001b[0m\u001b[0;34m\u001b[0m\u001b[0;34m\u001b[0m\u001b[0m\n\u001b[1;32m   3677\u001b[0m         \u001b[0;32mif\u001b[0m \u001b[0m_Screen\u001b[0m\u001b[0;34m.\u001b[0m\u001b[0m_root\u001b[0m \u001b[0;32mis\u001b[0m \u001b[0;32mNone\u001b[0m\u001b[0;34m:\u001b[0m\u001b[0;34m\u001b[0m\u001b[0;34m\u001b[0m\u001b[0m\n\u001b[0;32m-> 3678\u001b[0;31m             \u001b[0m_Screen\u001b[0m\u001b[0;34m.\u001b[0m\u001b[0m_root\u001b[0m \u001b[0;34m=\u001b[0m \u001b[0mself\u001b[0m\u001b[0;34m.\u001b[0m\u001b[0m_root\u001b[0m \u001b[0;34m=\u001b[0m \u001b[0m_Root\u001b[0m\u001b[0;34m(\u001b[0m\u001b[0;34m)\u001b[0m\u001b[0;34m\u001b[0m\u001b[0;34m\u001b[0m\u001b[0m\n\u001b[0m\u001b[1;32m   3679\u001b[0m             \u001b[0mself\u001b[0m\u001b[0;34m.\u001b[0m\u001b[0m_root\u001b[0m\u001b[0;34m.\u001b[0m\u001b[0mtitle\u001b[0m\u001b[0;34m(\u001b[0m\u001b[0m_Screen\u001b[0m\u001b[0;34m.\u001b[0m\u001b[0m_title\u001b[0m\u001b[0;34m)\u001b[0m\u001b[0;34m\u001b[0m\u001b[0;34m\u001b[0m\u001b[0m\n\u001b[1;32m   3680\u001b[0m             \u001b[0mself\u001b[0m\u001b[0;34m.\u001b[0m\u001b[0m_root\u001b[0m\u001b[0;34m.\u001b[0m\u001b[0mondestroy\u001b[0m\u001b[0;34m(\u001b[0m\u001b[0mself\u001b[0m\u001b[0;34m.\u001b[0m\u001b[0m_destroy\u001b[0m\u001b[0;34m)\u001b[0m\u001b[0;34m\u001b[0m\u001b[0;34m\u001b[0m\u001b[0m\n",
            "\u001b[0;32m/usr/lib/python3.7/turtle.py\u001b[0m in \u001b[0;36m__init__\u001b[0;34m(self)\u001b[0m\n\u001b[1;32m    432\u001b[0m     \u001b[0;34m\"\"\"Root class for Screen based on Tkinter.\"\"\"\u001b[0m\u001b[0;34m\u001b[0m\u001b[0;34m\u001b[0m\u001b[0m\n\u001b[1;32m    433\u001b[0m     \u001b[0;32mdef\u001b[0m \u001b[0m__init__\u001b[0m\u001b[0;34m(\u001b[0m\u001b[0mself\u001b[0m\u001b[0;34m)\u001b[0m\u001b[0;34m:\u001b[0m\u001b[0;34m\u001b[0m\u001b[0;34m\u001b[0m\u001b[0m\n\u001b[0;32m--> 434\u001b[0;31m         \u001b[0mTK\u001b[0m\u001b[0;34m.\u001b[0m\u001b[0mTk\u001b[0m\u001b[0;34m.\u001b[0m\u001b[0m__init__\u001b[0m\u001b[0;34m(\u001b[0m\u001b[0mself\u001b[0m\u001b[0;34m)\u001b[0m\u001b[0;34m\u001b[0m\u001b[0;34m\u001b[0m\u001b[0m\n\u001b[0m\u001b[1;32m    435\u001b[0m \u001b[0;34m\u001b[0m\u001b[0m\n\u001b[1;32m    436\u001b[0m     \u001b[0;32mdef\u001b[0m \u001b[0msetupcanvas\u001b[0m\u001b[0;34m(\u001b[0m\u001b[0mself\u001b[0m\u001b[0;34m,\u001b[0m \u001b[0mwidth\u001b[0m\u001b[0;34m,\u001b[0m \u001b[0mheight\u001b[0m\u001b[0;34m,\u001b[0m \u001b[0mcwidth\u001b[0m\u001b[0;34m,\u001b[0m \u001b[0mcheight\u001b[0m\u001b[0;34m)\u001b[0m\u001b[0;34m:\u001b[0m\u001b[0;34m\u001b[0m\u001b[0;34m\u001b[0m\u001b[0m\n",
            "\u001b[0;32m/usr/lib/python3.7/tkinter/__init__.py\u001b[0m in \u001b[0;36m__init__\u001b[0;34m(self, screenName, baseName, className, useTk, sync, use)\u001b[0m\n\u001b[1;32m   2021\u001b[0m                 \u001b[0mbaseName\u001b[0m \u001b[0;34m=\u001b[0m \u001b[0mbaseName\u001b[0m \u001b[0;34m+\u001b[0m \u001b[0mext\u001b[0m\u001b[0;34m\u001b[0m\u001b[0;34m\u001b[0m\u001b[0m\n\u001b[1;32m   2022\u001b[0m         \u001b[0minteractive\u001b[0m \u001b[0;34m=\u001b[0m \u001b[0;36m0\u001b[0m\u001b[0;34m\u001b[0m\u001b[0;34m\u001b[0m\u001b[0m\n\u001b[0;32m-> 2023\u001b[0;31m         \u001b[0mself\u001b[0m\u001b[0;34m.\u001b[0m\u001b[0mtk\u001b[0m \u001b[0;34m=\u001b[0m \u001b[0m_tkinter\u001b[0m\u001b[0;34m.\u001b[0m\u001b[0mcreate\u001b[0m\u001b[0;34m(\u001b[0m\u001b[0mscreenName\u001b[0m\u001b[0;34m,\u001b[0m \u001b[0mbaseName\u001b[0m\u001b[0;34m,\u001b[0m \u001b[0mclassName\u001b[0m\u001b[0;34m,\u001b[0m \u001b[0minteractive\u001b[0m\u001b[0;34m,\u001b[0m \u001b[0mwantobjects\u001b[0m\u001b[0;34m,\u001b[0m \u001b[0museTk\u001b[0m\u001b[0;34m,\u001b[0m \u001b[0msync\u001b[0m\u001b[0;34m,\u001b[0m \u001b[0muse\u001b[0m\u001b[0;34m)\u001b[0m\u001b[0;34m\u001b[0m\u001b[0;34m\u001b[0m\u001b[0m\n\u001b[0m\u001b[1;32m   2024\u001b[0m         \u001b[0;32mif\u001b[0m \u001b[0museTk\u001b[0m\u001b[0;34m:\u001b[0m\u001b[0;34m\u001b[0m\u001b[0;34m\u001b[0m\u001b[0m\n\u001b[1;32m   2025\u001b[0m             \u001b[0mself\u001b[0m\u001b[0;34m.\u001b[0m\u001b[0m_loadtk\u001b[0m\u001b[0;34m(\u001b[0m\u001b[0;34m)\u001b[0m\u001b[0;34m\u001b[0m\u001b[0;34m\u001b[0m\u001b[0m\n",
            "\u001b[0;31mTclError\u001b[0m: no display name and no $DISPLAY environment variable"
          ]
        }
      ]
    },
    {
      "cell_type": "markdown",
      "metadata": {
        "id": "2kBn9kP2Iphd"
      },
      "source": [
        "         Exercise 15: TESTING"
      ]
    },
    {
      "cell_type": "markdown",
      "metadata": {
        "id": "RAiLNnbDIs93"
      },
      "source": [
        "**AIM**\n",
        " \n",
        "15a)Write a test case to check the function even numbers which return true on passing a list of all even numbers.\n",
        " \n",
        "**DESCRIPTION**:\n",
        " \n",
        " TestCase is used to create test cases by subclassing it. The last block of the code at the bottom allows us to run all the tests just by running the file. Basic terms used in the code : assertEqual() – This statement is used to check if the result obtained is equal to the expected result test case: A test case is a set of conditions which is used to determine whether a system under test works correctly."
      ]
    },
    {
      "cell_type": "code",
      "metadata": {
        "id": "0t47MwM1I5fb"
      },
      "source": [
        " \n",
        "def evnNo(num):\n",
        "    stat=True\n",
        " \n",
        "    for i in num:\n",
        "        if i%2 ==1:\n",
        "            stat=False\n",
        "            break\n",
        "    return stat\n",
        "        \n",
        "numbers=[]\n",
        "for i in range(0,2):\n",
        "    numbers.append(int(input(\"Enter a value\")))\n",
        "print(evnNo(numbers))def evnNo(num):\n",
        "    stat=True\n",
        " \n",
        "    for i in num:\n",
        "        if i%2 ==1:\n",
        "            stat=False\n",
        "            break\n",
        "    return stat\n",
        "        \n",
        "numbers=[]\n",
        "for i in range(0,2):\n",
        "    numbers.append(int(input(\"Enter a value\")))\n",
        "print(evnNo(numbers))"
      ],
      "execution_count": null,
      "outputs": []
    },
    {
      "cell_type": "markdown",
      "metadata": {
        "id": "xbAeX0HbJBTM"
      },
      "source": [
        " Enter a value10\n",
        "Enter a value2\n",
        "True"
      ]
    },
    {
      "cell_type": "markdown",
      "metadata": {
        "id": "xyoZhNFMJCp1"
      },
      "source": [
        "**AIM** \n",
        " \n",
        "15b) Write a test-case to check the function reverse string which returns the reversed string\n",
        " \n",
        "**DESCRIPTION**:\n",
        " \n",
        " Python string library does’nt support the in-built “reverse()” as done by other python containers like list, hence knowing other methods to reverse string can prove to be useful. This article discusses several ways to achieve it. The reversed() returns the reversed iterator of the given string and then its elements are joined empty string separated using join(). And reversed order string is formed."
      ]
    },
    {
      "cell_type": "code",
      "metadata": {
        "colab": {
          "base_uri": "https://localhost:8080/"
        },
        "id": "cdagSn7vJQGD",
        "outputId": "37de122d-0460-40da-f31b-213a72c634c7"
      },
      "source": [
        "def rev_str(st):\n",
        "    return st[::-1]\n",
        " \n",
        "st=\"swarnandhra\"\n",
        "print(\"Given String is: \",st)\n",
        " \n",
        "print(\"Reverse is: \",rev_str(st))"
      ],
      "execution_count": null,
      "outputs": [
        {
          "output_type": "stream",
          "text": [
            "Given String is:  swarnandhra\n",
            "Reverse is:  arhdnanraws\n"
          ],
          "name": "stdout"
        }
      ]
    },
    {
      "cell_type": "markdown",
      "metadata": {
        "id": "90o-zW0nqNvD"
      },
      "source": [
        " \n",
        "               Exercise-16\n",
        " \n",
        " \n",
        "**AIM**\n",
        " \n",
        " \n",
        "16a)Build any one classical data structure\n",
        "\n",
        "**DESCRIPTION**:\n",
        "\n",
        "What is a Data Structure?\n",
        "Organizing, managing and storing data is important as it enables easier access and eficient\n",
        "modifications. Data Structures allows you to organize your data in such a way that enables you\n",
        "to store collections of data, relate them and perform operations on them accordingly.\n",
        "Stack Stacks are linear Data Structures which are based on the principle of Last-In-First-Out\n",
        "(LIFO) where data which is entered last will be the first to get accessed. It is built using the array\n",
        "structure and has operations namely, pushing (adding) elements, popping (deleting) elements\n",
        "and accessing elements only from one point in the stack called as the TOP. This TOP is the\n",
        "pointer to the current position of the stack. Stacks are prominently used in applications such as\n",
        "Recursive Programming, reversing words, undo mechanisms in word editors and so forth."
      ]
    },
    {
      "cell_type": "code",
      "metadata": {
        "colab": {
          "base_uri": "https://localhost:8080/"
        },
        "id": "dtFjNsrNqTtZ",
        "outputId": "a114072f-da0c-4f2e-a1c3-ca78269614bd"
      },
      "source": [
        "stack=[]\n",
        " \n",
        "while True:\n",
        "    print(\"1.Push\\n2.Pop\\n3.Display\\n4.Exit\")\n",
        "    c=int(input(\"enter your choice: \"))\n",
        "    \n",
        "    if c==1:\n",
        "        e=int(input(\"enter element: \"))\n",
        "        stack.append(e)\n",
        "        print(\"element is Pushed\")\n",
        "    elif c==2:\n",
        "        if len(stack)==0:\n",
        "            print(\"stack is empty\")\n",
        "        else:\n",
        "            print(\"element \"+str(stack[len(stack)-1])+\" is Poped\")\n",
        "            stack.remove(stack[len(stack)-1])\n",
        "    elif c==3:\n",
        "        if len(stack)==0:\n",
        "            print(\"stack is empty\")\n",
        "        else:\n",
        "            print(\"elements in the stack : \"+str(stack))    \n",
        "    elif c==4:\n",
        "        break\n",
        "    else:\n",
        "        print(\"invalid choice......\")"
      ],
      "execution_count": null,
      "outputs": [
        {
          "output_type": "stream",
          "text": [
            "1.Push\n",
            "2.Pop\n",
            "3.Display\n",
            "4.Exit\n",
            "enter your choice: 1\n",
            "enter element: 5\n",
            "element is Pushed\n",
            "1.Push\n",
            "2.Pop\n",
            "3.Display\n",
            "4.Exit\n",
            "enter your choice: 3\n",
            "elements in the stack : [5]\n",
            "1.Push\n",
            "2.Pop\n",
            "3.Display\n",
            "4.Exit\n",
            "enter your choice: 4\n"
          ],
          "name": "stdout"
        }
      ]
    },
    {
      "cell_type": "markdown",
      "metadata": {
        "id": "nnmLZ6JMqaC9"
      },
      "source": [
        " \n",
        "**AIM**\n",
        " \n",
        "16b)write a program to solve knapsack problem\n",
        " \n",
        "**DESCRIPTION**:\n",
        " \n",
        " python program for 0-1 knapsack problem Problem statement-We are given weights and values of n items, we need to put these items in a bag of capacity W up to the maximum capacity w. We need to carry a maximum number of items and return its value."
      ]
    },
    {
      "cell_type": "code",
      "metadata": {
        "colab": {
          "base_uri": "https://localhost:8080/"
        },
        "id": "z8GkgD1PqdbG",
        "outputId": "044bb63f-91f6-42a4-9d4c-67c7d79933ea"
      },
      "source": [
        "def knapSack(W, wt, val, n):\n",
        " K = [[0 for x in range(W + 1)] for x in range(n + 1)]\n",
        " \n",
        "  \n",
        " for i in range(n + 1):\n",
        "  for w in range(W + 1):\n",
        "   if i == 0 or w == 0:\n",
        "    K[i][w] = 0\n",
        "   elif wt[i-1] <= w:\n",
        "    K[i][w] = max(val[i-1] + K[i-1][w-wt[i-1]], K[i-1][w])\n",
        "   else:\n",
        "    K[i][w] = K[i-1][w]\n",
        " \n",
        " return K[n][W]\n",
        " \n",
        " \n",
        "val = [60, 100, 120,130]\n",
        "wt = [10, 20, 30,40]\n",
        "W = 10\n",
        "n = len(val)\n",
        "print(knapSack(W, wt, val, n))"
      ],
      "execution_count": null,
      "outputs": [
        {
          "output_type": "stream",
          "text": [
            "60\n"
          ],
          "name": "stdout"
        }
      ]
    },
    {
      "cell_type": "markdown",
      "metadata": {
        "id": "JFFzTUPRq0dG"
      },
      "source": [
        "      Exercise 17&18-Data Analysis \n",
        " \n",
        " \n",
        "#Data analysis or manipulation using the following packages\n",
        " \n",
        "**DESCRIPTION**:\n",
        " \n",
        " \n",
        "Learn how to analyze data using Python..... It includes following parts: Data Analysis libraries:\n",
        "will learn to use Pandas, Numpy and Scipy libraries to work with a sample dataset. We will\n",
        "introduce you to pandas, an open-source library, and we will use it to load, manipulate, analyze,\n",
        "and visualize cool datasets.\n",
        "**SciPy** is a free and open-source Python library used for scientific computing and technical\n",
        "computing. It is a collection of mathematical algorithms and convenience functions built on the\n",
        "**NumPy** extension of Python\n",
        "NumPy is the fundamental package for scientific computing in Python. .... NumPy arrays\n",
        "facilitate advanced mathematical and other types of operations on large numbers of data.\n",
        "**Matplotlib** is a plotting library for the Python programming language and its numerical\n",
        "mathematics extension NumPy. It provides an object-oriented API for embedding plots into\n",
        "applications using general-purpose GUI toolkits like Tkinter, wxPython, Qt, or GTK\n",
        "**Pandas** is an open source Python package that is most widely used for data science/data\n",
        "analysis and machine learning tasks. It is built on top of another package named Numpy, which\n",
        "provides support for multi-dimensional arrays.\n",
        "**Scikit-learn** is probably the most useful library for machine learning in Python. The sklearn\n",
        "library contains a lot of eficient tools for machine learning and statistical modeling including\n",
        "classification, regression, clustering and dimensionality reduction.\n",
        "**Seaborn** is a library in Python predominantly used for making statistical graphics. Seaborn is a\n",
        "data visualization library built on top of matplotlib and closely integrated with pandas data\n",
        "structures in Python"
      ]
    },
    {
      "cell_type": "code",
      "metadata": {
        "colab": {
          "base_uri": "https://localhost:8080/"
        },
        "id": "_VYYmV13q3KO",
        "outputId": "8743a2ac-6ef6-4b7f-ace7-5a710bf4f394"
      },
      "source": [
        "#sys\n",
        "import sys\n",
        "print('python:{}'.format(sys.version))\n",
        " \n",
        "#scipy\n",
        "import scipy\n",
        "print('scipy:{}'.format(scipy.__version__))\n",
        " \n",
        "#numpy\n",
        "import  numpy\n",
        "print('numpy:{}'.format(numpy.__version__))\n",
        " \n",
        "#matplotlib\n",
        "import  matplotlib\n",
        "print('matplotlib:{}'.format(matplotlib.__version__))\n",
        " \n",
        "import   pandas\n",
        "print('pandas:{}'.format(pandas.__version__))\n",
        " \n",
        "import  sklearn\n",
        "print('sklearn:{}'.format(sklearn.__version__))\n",
        " \n",
        "import  seaborn\n",
        "print('seaborn:{}'.format(seaborn.__version__))\n",
        " \n",
        "import  urllib\n",
        "print('urllib:{}'.format(urllib.__name__))\n",
        " \n",
        " \n",
        "import  csv\n",
        "print('csv:{}'.format(csv.__version__))"
      ],
      "execution_count": null,
      "outputs": [
        {
          "output_type": "stream",
          "text": [
            "python:3.7.11 (default, Jul  3 2021, 18:01:19) \n",
            "[GCC 7.5.0]\n",
            "scipy:1.4.1\n",
            "numpy:1.19.5\n",
            "matplotlib:3.2.2\n",
            "pandas:1.1.5\n",
            "sklearn:0.22.2.post1\n",
            "seaborn:0.11.1\n",
            "urllib:urllib\n",
            "csv:1.0\n"
          ],
          "name": "stdout"
        }
      ]
    },
    {
      "cell_type": "markdown",
      "metadata": {
        "id": "T8OH6oodq_Ey"
      },
      "source": [
        "a)numpy"
      ]
    },
    {
      "cell_type": "code",
      "metadata": {
        "colab": {
          "base_uri": "https://localhost:8080/"
        },
        "id": "lxQr2YHArBAV",
        "outputId": "13c0f374-c170-400e-a83f-ec14107d26ac"
      },
      "source": [
        " \n",
        "import numpy as np\n",
        "a=np.array([2,6,8])\n",
        "print(type(a))\n",
        " \n",
        "print(a.shape)\n",
        "print(a[0])\n",
        "print(a[1])\n",
        "print(a[2])\n",
        " \n",
        "a[0]=10\n",
        "print(a)"
      ],
      "execution_count": null,
      "outputs": [
        {
          "output_type": "stream",
          "text": [
            "<class 'numpy.ndarray'>\n",
            "(3,)\n",
            "2\n",
            "6\n",
            "8\n",
            "[10  6  8]\n"
          ],
          "name": "stdout"
        }
      ]
    },
    {
      "cell_type": "markdown",
      "metadata": {
        "id": "7qetZVzYlrXa"
      },
      "source": [
        ""
      ]
    },
    {
      "cell_type": "code",
      "metadata": {
        "id": "4JV5JMbxrzca",
        "colab": {
          "base_uri": "https://localhost:8080/"
        },
        "outputId": "c6ca6d64-4698-4ad5-92fd-b1ff6369f785"
      },
      "source": [
        "#create a rank 2 array\n",
        "import numpy as np\n",
        "b=np.array([[0,1,2],[3,4,5]])\n",
        "print(b.shape)\n",
        "print(b)\n",
        "print(b[0,0],b[0,1],b[1,0])"
      ],
      "execution_count": null,
      "outputs": [
        {
          "output_type": "stream",
          "name": "stdout",
          "text": [
            "(2, 3)\n",
            "[[0 1 2]\n",
            " [3 4 5]]\n",
            "0 1 3\n"
          ]
        }
      ]
    },
    {
      "cell_type": "code",
      "metadata": {
        "id": "RMxmRROmr40A",
        "colab": {
          "base_uri": "https://localhost:8080/"
        },
        "outputId": "09ee5a32-35d4-4d1f-bbb2-6c6d84b0ed10"
      },
      "source": [
        "#craete a 3x3 array of all zeros\n",
        "\n",
        "a=np.zeros((3,3))\n",
        "print(a)\n"
      ],
      "execution_count": null,
      "outputs": [
        {
          "output_type": "stream",
          "name": "stdout",
          "text": [
            "[[0. 0. 0.]\n",
            " [0. 0. 0.]\n",
            " [0. 0. 0.]]\n"
          ]
        }
      ]
    },
    {
      "cell_type": "code",
      "metadata": {
        "id": "0U_MYcYxr8kH",
        "colab": {
          "base_uri": "https://localhost:8080/"
        },
        "outputId": "522843ab-ea58-4610-861f-85708d8ee08c"
      },
      "source": [
        "#craete a 2x2 array of all ones\n",
        "b=np.ones((2,2))\n",
        "print(b)"
      ],
      "execution_count": null,
      "outputs": [
        {
          "output_type": "stream",
          "name": "stdout",
          "text": [
            "[[1. 1.]\n",
            " [1. 1.]]\n"
          ]
        }
      ]
    },
    {
      "cell_type": "code",
      "metadata": {
        "id": "O_C6yrrgsAsh",
        "colab": {
          "base_uri": "https://localhost:8080/"
        },
        "outputId": "9454d862-10fa-4faf-d82b-9448517a7c01"
      },
      "source": [
        "#craete a 3x3 constant array\n",
        "c=np.full((3,3),7)\n",
        "print(c)"
      ],
      "execution_count": null,
      "outputs": [
        {
          "output_type": "stream",
          "name": "stdout",
          "text": [
            "[[7 7 7]\n",
            " [7 7 7]\n",
            " [7 7 7]]\n"
          ]
        }
      ]
    },
    {
      "cell_type": "code",
      "metadata": {
        "id": "jP3S5hGKsD_D",
        "colab": {
          "base_uri": "https://localhost:8080/"
        },
        "outputId": "186bfbc6-9335-49ea-b017-071dfc321545"
      },
      "source": [
        "#create a 3x3 array filled with random values\n",
        "\n",
        "d=np.random.random((3,3))\n",
        "print(d)"
      ],
      "execution_count": null,
      "outputs": [
        {
          "output_type": "stream",
          "name": "stdout",
          "text": [
            "[[0.43264625 0.78057853 0.25755506]\n",
            " [0.85021815 0.91577214 0.67782467]\n",
            " [0.20335942 0.7104559  0.6000236 ]]\n"
          ]
        }
      ]
    },
    {
      "cell_type": "code",
      "metadata": {
        "id": "Hj2J73L8sKnP",
        "colab": {
          "base_uri": "https://localhost:8080/"
        },
        "outputId": "e71ea405-9b75-4ac1-a16a-44be693bccf2"
      },
      "source": [
        "#craete a 3x3 identity matrix\n",
        "e=np.eye(3)\n",
        "print(e)"
      ],
      "execution_count": null,
      "outputs": [
        {
          "output_type": "stream",
          "name": "stdout",
          "text": [
            "[[1. 0. 0.]\n",
            " [0. 1. 0.]\n",
            " [0. 0. 1.]]\n"
          ]
        }
      ]
    },
    {
      "cell_type": "code",
      "metadata": {
        "id": "Vxv3C3yHsLhb",
        "colab": {
          "base_uri": "https://localhost:8080/"
        },
        "outputId": "984f493d-9799-402f-fba3-b77f60056b14"
      },
      "source": [
        "#convert list to array\n",
        "f=np.array([2,3,0,1])\n",
        "print(f)"
      ],
      "execution_count": null,
      "outputs": [
        {
          "output_type": "stream",
          "text": [
            "[2 3 0 1]\n"
          ],
          "name": "stdout"
        }
      ]
    },
    {
      "cell_type": "code",
      "metadata": {
        "id": "Vot5ITCIsPrl",
        "colab": {
          "base_uri": "https://localhost:8080/"
        },
        "outputId": "d6e0e906-c592-4ed1-ff78-e20905bfb299"
      },
      "source": [
        "#arange() will create array with regularly incrementing values\n",
        "g=np.arange(2,10)\n",
        "print(g)"
      ],
      "execution_count": null,
      "outputs": [
        {
          "output_type": "stream",
          "name": "stdout",
          "text": [
            "[2 3 4 5 6 7 8 9]\n"
          ]
        }
      ]
    },
    {
      "cell_type": "code",
      "metadata": {
        "id": "6fleH_gmsVIB",
        "colab": {
          "base_uri": "https://localhost:8080/"
        },
        "outputId": "5cb3607d-d3ef-44d4-9972-ca4cb5f58fa8"
      },
      "source": [
        "#note  mix of tuple and lists\n",
        "\n",
        "h=np.array([[0,1,2.0],[0,0,0],(1+1j,3.,2.)])\n",
        "print(h)"
      ],
      "execution_count": null,
      "outputs": [
        {
          "output_type": "stream",
          "name": "stdout",
          "text": [
            "[[0.+0.j 1.+0.j 2.+0.j]\n",
            " [0.+0.j 0.+0.j 0.+0.j]\n",
            " [1.+1.j 3.+0.j 2.+0.j]]\n"
          ]
        }
      ]
    },
    {
      "cell_type": "code",
      "metadata": {
        "id": "9xTNbemAv_o5",
        "colab": {
          "base_uri": "https://localhost:8080/"
        },
        "outputId": "cb7a21e9-0ba5-46e7-8895-bcad8a5a5bf4"
      },
      "source": [
        "#create an array of range with float data type\n",
        "i=np.arange(1,8,dtype=np.float)\n",
        "print(i)"
      ],
      "execution_count": null,
      "outputs": [
        {
          "output_type": "stream",
          "name": "stdout",
          "text": [
            "[1. 2. 3. 4. 5. 6. 7.]\n"
          ]
        }
      ]
    },
    {
      "cell_type": "code",
      "metadata": {
        "id": "KK-FIQ8rwOc2",
        "colab": {
          "base_uri": "https://localhost:8080/"
        },
        "outputId": "7a61dae6-ee2d-413a-ee85-010ad45a25be"
      },
      "source": [
        "#linespace\n",
        "j = np.linspace(2.,4.,5)\n",
        "print(j)"
      ],
      "execution_count": null,
      "outputs": [
        {
          "output_type": "stream",
          "name": "stdout",
          "text": [
            "[2.  2.5 3.  3.5 4. ]\n"
          ]
        }
      ]
    },
    {
      "cell_type": "code",
      "metadata": {
        "id": "EusxZRpSwtjw",
        "colab": {
          "base_uri": "https://localhost:8080/"
        },
        "outputId": "ebd46f83-d9d2-4237-fa50-174f67428be6"
      },
      "source": [
        "#indices()\n",
        "k=np.indices((3,3))\n",
        "print(k)\n"
      ],
      "execution_count": null,
      "outputs": [
        {
          "output_type": "stream",
          "name": "stdout",
          "text": [
            "[[[0 0 0]\n",
            "  [1 1 1]\n",
            "  [2 2 2]]\n",
            "\n",
            " [[0 1 2]\n",
            "  [0 1 2]\n",
            "  [0 1 2]]]\n"
          ]
        }
      ]
    },
    {
      "cell_type": "code",
      "metadata": {
        "id": "yK12la9iw5Dn",
        "colab": {
          "base_uri": "https://localhost:8080/"
        },
        "outputId": "8963e03c-897e-44a7-e943-b158707d0777"
      },
      "source": [
        "#numpy datatypes\n",
        "x=np.array([0,1])\n",
        "y=np.array([2.0,3.0])\n",
        "z=np.array([5,6],dtype=np.int64)\n",
        "print(x.dtype,y.dtype,z.dtype)"
      ],
      "execution_count": null,
      "outputs": [
        {
          "output_type": "stream",
          "name": "stdout",
          "text": [
            "int64 float64 int64\n"
          ]
        }
      ]
    },
    {
      "cell_type": "code",
      "metadata": {
        "id": "FpHIBfz6xSpC",
        "colab": {
          "base_uri": "https://localhost:8080/"
        },
        "outputId": "787339c1-b194-413e-85aa-3f9b30ccb7d9"
      },
      "source": [
        "#basic slicing\n",
        "x=np.array([5,6,7,8,9])\n",
        "print(x[1:7:2])\n",
        "print(x[-2:5])\n",
        "print(x[-1:1:-1])"
      ],
      "execution_count": null,
      "outputs": [
        {
          "output_type": "stream",
          "name": "stdout",
          "text": [
            "[6 8]\n",
            "[8 9]\n",
            "[9 8 7]\n"
          ]
        }
      ]
    },
    {
      "cell_type": "code",
      "metadata": {
        "id": "e_r78q_3xlip",
        "colab": {
          "base_uri": "https://localhost:8080/"
        },
        "outputId": "4a71f7b0-f70a-4dba-9395-ee804bae4271"
      },
      "source": [
        "#boolean array indexing\n",
        "a=np.array(([1,2],[3,4],[5,6]))\n",
        "print(a>2)\n",
        "print(a[a>2])"
      ],
      "execution_count": null,
      "outputs": [
        {
          "output_type": "stream",
          "name": "stdout",
          "text": [
            "[[False False]\n",
            " [ True  True]\n",
            " [ True  True]]\n",
            "[3 4 5 6]\n"
          ]
        }
      ]
    },
    {
      "cell_type": "code",
      "metadata": {
        "id": "EfXQM1aqihpd"
      },
      "source": [
        "import numpy as np\n",
        "x=np.array([[1,2],[3,4][5,6]])\n",
        "y=np.array([[7,8],[9,10],[11,12]])\n",
        "print(x+y)\n",
        "print(np.add(x,y))\n",
        "print(x-y)\n",
        "print(np.subtract(x-y))"
      ],
      "execution_count": null,
      "outputs": []
    },
    {
      "cell_type": "code",
      "metadata": {
        "id": "6pj-NGmex3_P"
      },
      "source": [
        "#products\n",
        "print(x*y)\n",
        "print(np.multiply(x,y))"
      ],
      "execution_count": null,
      "outputs": []
    },
    {
      "cell_type": "code",
      "metadata": {
        "id": "Q4VrTCIrMcvy"
      },
      "source": [
        "#division\n",
        "print(x/y)\n",
        "print(np.divide(x,y))"
      ],
      "execution_count": null,
      "outputs": []
    },
    {
      "cell_type": "code",
      "metadata": {
        "id": "fwC4PPv7Mqe2",
        "colab": {
          "base_uri": "https://localhost:8080/"
        },
        "outputId": "27edc9f2-f99a-42c8-fca6-478c510ab6f6"
      },
      "source": [
        "print(np.sqrt(x))"
      ],
      "execution_count": null,
      "outputs": [
        {
          "output_type": "stream",
          "name": "stdout",
          "text": [
            "[2.23606798 2.44948974 2.64575131 2.82842712 3.        ]\n"
          ]
        }
      ]
    },
    {
      "cell_type": "code",
      "metadata": {
        "id": "JYpDx8xTyJg6",
        "colab": {
          "base_uri": "https://localhost:8080/"
        },
        "outputId": "028d1632-5713-4175-bedc-b30838cca7cc"
      },
      "source": [
        "#vectors\n",
        "a=np.array([9,10])\n",
        "b=np.array([11,12])\n",
        "print(a.dot(b))\n",
        "print(np.dot(a,b))"
      ],
      "execution_count": null,
      "outputs": [
        {
          "output_type": "stream",
          "name": "stdout",
          "text": [
            "219\n",
            "219\n"
          ]
        }
      ]
    },
    {
      "cell_type": "code",
      "metadata": {
        "id": "J8rJH0j_MyPP"
      },
      "source": [
        "#matrix/vector product bothproduce the rank 1 array\n",
        "x=np.array([1,2],[3,4])\n",
        "print(x.dot(a))\n",
        "print(np.dot(x,a))"
      ],
      "execution_count": null,
      "outputs": []
    },
    {
      "cell_type": "code",
      "metadata": {
        "id": "RCQlT6xJN9-I"
      },
      "source": [
        "#matrix product\n",
        "y=np.array([5,6],[7,8])\n",
        "print(x.dot(y))\n",
        "print(np.dot(x,y))\n"
      ],
      "execution_count": null,
      "outputs": []
    },
    {
      "cell_type": "code",
      "metadata": {
        "id": "NVL5bTE4yePq",
        "colab": {
          "base_uri": "https://localhost:8080/"
        },
        "outputId": "cb85d677-9962-4003-a8b0-4326138ed173"
      },
      "source": [
        "#sum function\n",
        "x=np.array([[1,2],[3,4]])\n",
        "print(np.sum(x))\n",
        "print(np.sum(x,axis=0))\n",
        "print(np.sum(x,axis=1))"
      ],
      "execution_count": null,
      "outputs": [
        {
          "output_type": "stream",
          "name": "stdout",
          "text": [
            "10\n",
            "[4 6]\n",
            "[3 7]\n"
          ]
        }
      ]
    },
    {
      "cell_type": "code",
      "metadata": {
        "id": "v8c8T4g8zAcb"
      },
      "source": [
        "#transpose function\n",
        "x=np.array([[1,2],[3,4])\n",
        "print(x)\n",
        "print(x,T)"
      ],
      "execution_count": null,
      "outputs": []
    },
    {
      "cell_type": "code",
      "metadata": {
        "id": "1o01e5bnOSh9"
      },
      "source": [
        "#broadcasting using numpy\n",
        "a=np.array([[1,2,3],[4,5,6],[7,8,9])\n",
        "v=np.array([1,0,1])\n",
        "b=a+v\n",
        "print(b)"
      ],
      "execution_count": null,
      "outputs": []
    },
    {
      "cell_type": "code",
      "metadata": {
        "id": "Rz6c4cXPOr2I"
      },
      "source": [
        "x=np.array([[1,2,1],[3,4,1],[7,8,9])\n",
        "print(\"x.T:\\n\",x.T)\n",
        "w=np.array([[1,1])\n",
        "print(w:\\n\",w)\n",
        "print(\"final:\\n\",(x.T+w).T)"
      ],
      "execution_count": null,
      "outputs": []
    },
    {
      "cell_type": "code",
      "metadata": {
        "id": "zJZ2bgUOPQe0",
        "colab": {
          "base_uri": "https://localhost:8080/"
        },
        "outputId": "33549048-9021-44c8-8a7a-94d39cee4e18"
      },
      "source": [
        "#matrix multiplication by  constant\n",
        "print(x*2)"
      ],
      "execution_count": null,
      "outputs": [
        {
          "output_type": "stream",
          "name": "stdout",
          "text": [
            "[[2 4]\n",
            " [6 8]]\n"
          ]
        }
      ]
    },
    {
      "cell_type": "code",
      "metadata": {
        "id": "ZU7bfXCLPatq",
        "colab": {
          "base_uri": "https://localhost:8080/"
        },
        "outputId": "dfcfe72b-243b-41d7-9ec0-0c39e8547bb1"
      },
      "source": [
        "import numpy as np\n",
        "np.random.rand(3,2)\n"
      ],
      "execution_count": null,
      "outputs": [
        {
          "output_type": "execute_result",
          "data": {
            "text/plain": [
              "array([[0.82733992, 0.14564218],\n",
              "       [0.76171834, 0.13043275],\n",
              "       [0.25611285, 0.88356618]])"
            ]
          },
          "metadata": {},
          "execution_count": 85
        }
      ]
    },
    {
      "cell_type": "code",
      "metadata": {
        "id": "mQqUT_oZPgFw",
        "colab": {
          "base_uri": "https://localhost:8080/"
        },
        "outputId": "523ca0c1-ff4f-4b4b-f393-366e19ba8346"
      },
      "source": [
        "np.random.rand(10)"
      ],
      "execution_count": null,
      "outputs": [
        {
          "output_type": "execute_result",
          "data": {
            "text/plain": [
              "array([0.78560264, 0.85576671, 0.32943226, 0.24621552, 0.78836779,\n",
              "       0.0949774 , 0.5739503 , 0.23542441, 0.06108883, 0.16421482])"
            ]
          },
          "metadata": {},
          "execution_count": 86
        }
      ]
    },
    {
      "cell_type": "code",
      "metadata": {
        "id": "xYBRHoUgPj8P",
        "colab": {
          "base_uri": "https://localhost:8080/"
        },
        "outputId": "d3b2066b-76e5-448c-dbc6-1043f2f317a3"
      },
      "source": [
        "import random\n",
        "print(random.randint(0,9))"
      ],
      "execution_count": null,
      "outputs": [
        {
          "output_type": "stream",
          "name": "stdout",
          "text": [
            "2\n"
          ]
        }
      ]
    },
    {
      "cell_type": "markdown",
      "metadata": {
        "id": "JFV0HeZ9tzJc"
      },
      "source": [
        "#pandas"
      ]
    },
    {
      "cell_type": "code",
      "metadata": {
        "id": "bIWclI6BtuDn",
        "colab": {
          "base_uri": "https://localhost:8080/"
        },
        "outputId": "a8f3f727-47de-4800-ae21-e0c9bb727ad9"
      },
      "source": [
        "import pandas as pd\n",
        "\n",
        "s=pd.Series([1,2,3,4,5],index=['A','B','C','D','E'])\n",
        "s"
      ],
      "execution_count": null,
      "outputs": [
        {
          "output_type": "execute_result",
          "data": {
            "text/plain": [
              "A    1\n",
              "B    2\n",
              "C    3\n",
              "D    4\n",
              "E    5\n",
              "dtype: int64"
            ]
          },
          "metadata": {},
          "execution_count": 88
        }
      ]
    },
    {
      "cell_type": "code",
      "metadata": {
        "id": "k1Om_rfst12n",
        "colab": {
          "base_uri": "https://localhost:8080/"
        },
        "outputId": "6723e2b6-59c9-4f5e-96f0-b67d503ae7fa"
      },
      "source": [
        "#creating data frame\n",
        "import pandas as pd \n",
        "data = {'Name':['Teju', 'sahi', 'honey', 'bunny'],\n",
        "        'Age':[19,15,20,13]}\n",
        "df = pd.DataFrame(data)\n",
        "print(df)"
      ],
      "execution_count": null,
      "outputs": [
        {
          "output_type": "stream",
          "name": "stdout",
          "text": [
            "    Name  Age\n",
            "0   Teju   19\n",
            "1   sahi   15\n",
            "2  honey   20\n",
            "3  bunny   13\n"
          ]
        }
      ]
    },
    {
      "cell_type": "code",
      "metadata": {
        "id": "knOQvUQJP0JI"
      },
      "source": [
        "#load csv data from URL using numpy\n",
        "from numpy import loadtxt\n",
        "from urllib.request import urlopen\n",
        "url='https://raw.githubusercontent.com/jbrowlee/datasets/master/pima-indins-diabetes'\n",
        "raw_data=pd.read_csv(urloprn(url))\n",
        "raw_data.shape\n",
        "raw_data.head()"
      ],
      "execution_count": null,
      "outputs": []
    },
    {
      "cell_type": "code",
      "metadata": {
        "id": "n2NMoQUgQj_7"
      },
      "source": [
        "raw_data.tail()"
      ],
      "execution_count": null,
      "outputs": []
    },
    {
      "cell_type": "code",
      "metadata": {
        "id": "LyYpE_4QQm9m"
      },
      "source": [
        "raw_data.head(25)"
      ],
      "execution_count": null,
      "outputs": []
    },
    {
      "cell_type": "code",
      "metadata": {
        "id": "2WYNTEU7RA2s"
      },
      "source": [
        "raw_data.describe()\n"
      ],
      "execution_count": null,
      "outputs": []
    },
    {
      "cell_type": "code",
      "metadata": {
        "id": "Z04idk5xRETe"
      },
      "source": [
        "raw_data.cov()"
      ],
      "execution_count": null,
      "outputs": []
    },
    {
      "cell_type": "code",
      "metadata": {
        "id": "hc9rpwqZREzC"
      },
      "source": [
        "raw_data.corr()"
      ],
      "execution_count": null,
      "outputs": []
    },
    {
      "cell_type": "code",
      "metadata": {
        "id": "D0ZdwqnqzerN",
        "colab": {
          "base_uri": "https://localhost:8080/"
        },
        "outputId": "1cfa424e-8abb-485a-aebb-d911c9031d8a"
      },
      "source": [
        "#read from iris data\n",
        "from sklearn.datasets import load_iris\n",
        "import numpy as np\n",
        "iris=load_iris()\n",
        "iris"
      ],
      "execution_count": null,
      "outputs": [
        {
          "output_type": "execute_result",
          "data": {
            "text/plain": [
              "{'DESCR': '.. _iris_dataset:\\n\\nIris plants dataset\\n--------------------\\n\\n**Data Set Characteristics:**\\n\\n    :Number of Instances: 150 (50 in each of three classes)\\n    :Number of Attributes: 4 numeric, predictive attributes and the class\\n    :Attribute Information:\\n        - sepal length in cm\\n        - sepal width in cm\\n        - petal length in cm\\n        - petal width in cm\\n        - class:\\n                - Iris-Setosa\\n                - Iris-Versicolour\\n                - Iris-Virginica\\n                \\n    :Summary Statistics:\\n\\n    ============== ==== ==== ======= ===== ====================\\n                    Min  Max   Mean    SD   Class Correlation\\n    ============== ==== ==== ======= ===== ====================\\n    sepal length:   4.3  7.9   5.84   0.83    0.7826\\n    sepal width:    2.0  4.4   3.05   0.43   -0.4194\\n    petal length:   1.0  6.9   3.76   1.76    0.9490  (high!)\\n    petal width:    0.1  2.5   1.20   0.76    0.9565  (high!)\\n    ============== ==== ==== ======= ===== ====================\\n\\n    :Missing Attribute Values: None\\n    :Class Distribution: 33.3% for each of 3 classes.\\n    :Creator: R.A. Fisher\\n    :Donor: Michael Marshall (MARSHALL%PLU@io.arc.nasa.gov)\\n    :Date: July, 1988\\n\\nThe famous Iris database, first used by Sir R.A. Fisher. The dataset is taken\\nfrom Fisher\\'s paper. Note that it\\'s the same as in R, but not as in the UCI\\nMachine Learning Repository, which has two wrong data points.\\n\\nThis is perhaps the best known database to be found in the\\npattern recognition literature.  Fisher\\'s paper is a classic in the field and\\nis referenced frequently to this day.  (See Duda & Hart, for example.)  The\\ndata set contains 3 classes of 50 instances each, where each class refers to a\\ntype of iris plant.  One class is linearly separable from the other 2; the\\nlatter are NOT linearly separable from each other.\\n\\n.. topic:: References\\n\\n   - Fisher, R.A. \"The use of multiple measurements in taxonomic problems\"\\n     Annual Eugenics, 7, Part II, 179-188 (1936); also in \"Contributions to\\n     Mathematical Statistics\" (John Wiley, NY, 1950).\\n   - Duda, R.O., & Hart, P.E. (1973) Pattern Classification and Scene Analysis.\\n     (Q327.D83) John Wiley & Sons.  ISBN 0-471-22361-1.  See page 218.\\n   - Dasarathy, B.V. (1980) \"Nosing Around the Neighborhood: A New System\\n     Structure and Classification Rule for Recognition in Partially Exposed\\n     Environments\".  IEEE Transactions on Pattern Analysis and Machine\\n     Intelligence, Vol. PAMI-2, No. 1, 67-71.\\n   - Gates, G.W. (1972) \"The Reduced Nearest Neighbor Rule\".  IEEE Transactions\\n     on Information Theory, May 1972, 431-433.\\n   - See also: 1988 MLC Proceedings, 54-64.  Cheeseman et al\"s AUTOCLASS II\\n     conceptual clustering system finds 3 classes in the data.\\n   - Many, many more ...',\n",
              " 'data': array([[5.1, 3.5, 1.4, 0.2],\n",
              "        [4.9, 3. , 1.4, 0.2],\n",
              "        [4.7, 3.2, 1.3, 0.2],\n",
              "        [4.6, 3.1, 1.5, 0.2],\n",
              "        [5. , 3.6, 1.4, 0.2],\n",
              "        [5.4, 3.9, 1.7, 0.4],\n",
              "        [4.6, 3.4, 1.4, 0.3],\n",
              "        [5. , 3.4, 1.5, 0.2],\n",
              "        [4.4, 2.9, 1.4, 0.2],\n",
              "        [4.9, 3.1, 1.5, 0.1],\n",
              "        [5.4, 3.7, 1.5, 0.2],\n",
              "        [4.8, 3.4, 1.6, 0.2],\n",
              "        [4.8, 3. , 1.4, 0.1],\n",
              "        [4.3, 3. , 1.1, 0.1],\n",
              "        [5.8, 4. , 1.2, 0.2],\n",
              "        [5.7, 4.4, 1.5, 0.4],\n",
              "        [5.4, 3.9, 1.3, 0.4],\n",
              "        [5.1, 3.5, 1.4, 0.3],\n",
              "        [5.7, 3.8, 1.7, 0.3],\n",
              "        [5.1, 3.8, 1.5, 0.3],\n",
              "        [5.4, 3.4, 1.7, 0.2],\n",
              "        [5.1, 3.7, 1.5, 0.4],\n",
              "        [4.6, 3.6, 1. , 0.2],\n",
              "        [5.1, 3.3, 1.7, 0.5],\n",
              "        [4.8, 3.4, 1.9, 0.2],\n",
              "        [5. , 3. , 1.6, 0.2],\n",
              "        [5. , 3.4, 1.6, 0.4],\n",
              "        [5.2, 3.5, 1.5, 0.2],\n",
              "        [5.2, 3.4, 1.4, 0.2],\n",
              "        [4.7, 3.2, 1.6, 0.2],\n",
              "        [4.8, 3.1, 1.6, 0.2],\n",
              "        [5.4, 3.4, 1.5, 0.4],\n",
              "        [5.2, 4.1, 1.5, 0.1],\n",
              "        [5.5, 4.2, 1.4, 0.2],\n",
              "        [4.9, 3.1, 1.5, 0.2],\n",
              "        [5. , 3.2, 1.2, 0.2],\n",
              "        [5.5, 3.5, 1.3, 0.2],\n",
              "        [4.9, 3.6, 1.4, 0.1],\n",
              "        [4.4, 3. , 1.3, 0.2],\n",
              "        [5.1, 3.4, 1.5, 0.2],\n",
              "        [5. , 3.5, 1.3, 0.3],\n",
              "        [4.5, 2.3, 1.3, 0.3],\n",
              "        [4.4, 3.2, 1.3, 0.2],\n",
              "        [5. , 3.5, 1.6, 0.6],\n",
              "        [5.1, 3.8, 1.9, 0.4],\n",
              "        [4.8, 3. , 1.4, 0.3],\n",
              "        [5.1, 3.8, 1.6, 0.2],\n",
              "        [4.6, 3.2, 1.4, 0.2],\n",
              "        [5.3, 3.7, 1.5, 0.2],\n",
              "        [5. , 3.3, 1.4, 0.2],\n",
              "        [7. , 3.2, 4.7, 1.4],\n",
              "        [6.4, 3.2, 4.5, 1.5],\n",
              "        [6.9, 3.1, 4.9, 1.5],\n",
              "        [5.5, 2.3, 4. , 1.3],\n",
              "        [6.5, 2.8, 4.6, 1.5],\n",
              "        [5.7, 2.8, 4.5, 1.3],\n",
              "        [6.3, 3.3, 4.7, 1.6],\n",
              "        [4.9, 2.4, 3.3, 1. ],\n",
              "        [6.6, 2.9, 4.6, 1.3],\n",
              "        [5.2, 2.7, 3.9, 1.4],\n",
              "        [5. , 2. , 3.5, 1. ],\n",
              "        [5.9, 3. , 4.2, 1.5],\n",
              "        [6. , 2.2, 4. , 1. ],\n",
              "        [6.1, 2.9, 4.7, 1.4],\n",
              "        [5.6, 2.9, 3.6, 1.3],\n",
              "        [6.7, 3.1, 4.4, 1.4],\n",
              "        [5.6, 3. , 4.5, 1.5],\n",
              "        [5.8, 2.7, 4.1, 1. ],\n",
              "        [6.2, 2.2, 4.5, 1.5],\n",
              "        [5.6, 2.5, 3.9, 1.1],\n",
              "        [5.9, 3.2, 4.8, 1.8],\n",
              "        [6.1, 2.8, 4. , 1.3],\n",
              "        [6.3, 2.5, 4.9, 1.5],\n",
              "        [6.1, 2.8, 4.7, 1.2],\n",
              "        [6.4, 2.9, 4.3, 1.3],\n",
              "        [6.6, 3. , 4.4, 1.4],\n",
              "        [6.8, 2.8, 4.8, 1.4],\n",
              "        [6.7, 3. , 5. , 1.7],\n",
              "        [6. , 2.9, 4.5, 1.5],\n",
              "        [5.7, 2.6, 3.5, 1. ],\n",
              "        [5.5, 2.4, 3.8, 1.1],\n",
              "        [5.5, 2.4, 3.7, 1. ],\n",
              "        [5.8, 2.7, 3.9, 1.2],\n",
              "        [6. , 2.7, 5.1, 1.6],\n",
              "        [5.4, 3. , 4.5, 1.5],\n",
              "        [6. , 3.4, 4.5, 1.6],\n",
              "        [6.7, 3.1, 4.7, 1.5],\n",
              "        [6.3, 2.3, 4.4, 1.3],\n",
              "        [5.6, 3. , 4.1, 1.3],\n",
              "        [5.5, 2.5, 4. , 1.3],\n",
              "        [5.5, 2.6, 4.4, 1.2],\n",
              "        [6.1, 3. , 4.6, 1.4],\n",
              "        [5.8, 2.6, 4. , 1.2],\n",
              "        [5. , 2.3, 3.3, 1. ],\n",
              "        [5.6, 2.7, 4.2, 1.3],\n",
              "        [5.7, 3. , 4.2, 1.2],\n",
              "        [5.7, 2.9, 4.2, 1.3],\n",
              "        [6.2, 2.9, 4.3, 1.3],\n",
              "        [5.1, 2.5, 3. , 1.1],\n",
              "        [5.7, 2.8, 4.1, 1.3],\n",
              "        [6.3, 3.3, 6. , 2.5],\n",
              "        [5.8, 2.7, 5.1, 1.9],\n",
              "        [7.1, 3. , 5.9, 2.1],\n",
              "        [6.3, 2.9, 5.6, 1.8],\n",
              "        [6.5, 3. , 5.8, 2.2],\n",
              "        [7.6, 3. , 6.6, 2.1],\n",
              "        [4.9, 2.5, 4.5, 1.7],\n",
              "        [7.3, 2.9, 6.3, 1.8],\n",
              "        [6.7, 2.5, 5.8, 1.8],\n",
              "        [7.2, 3.6, 6.1, 2.5],\n",
              "        [6.5, 3.2, 5.1, 2. ],\n",
              "        [6.4, 2.7, 5.3, 1.9],\n",
              "        [6.8, 3. , 5.5, 2.1],\n",
              "        [5.7, 2.5, 5. , 2. ],\n",
              "        [5.8, 2.8, 5.1, 2.4],\n",
              "        [6.4, 3.2, 5.3, 2.3],\n",
              "        [6.5, 3. , 5.5, 1.8],\n",
              "        [7.7, 3.8, 6.7, 2.2],\n",
              "        [7.7, 2.6, 6.9, 2.3],\n",
              "        [6. , 2.2, 5. , 1.5],\n",
              "        [6.9, 3.2, 5.7, 2.3],\n",
              "        [5.6, 2.8, 4.9, 2. ],\n",
              "        [7.7, 2.8, 6.7, 2. ],\n",
              "        [6.3, 2.7, 4.9, 1.8],\n",
              "        [6.7, 3.3, 5.7, 2.1],\n",
              "        [7.2, 3.2, 6. , 1.8],\n",
              "        [6.2, 2.8, 4.8, 1.8],\n",
              "        [6.1, 3. , 4.9, 1.8],\n",
              "        [6.4, 2.8, 5.6, 2.1],\n",
              "        [7.2, 3. , 5.8, 1.6],\n",
              "        [7.4, 2.8, 6.1, 1.9],\n",
              "        [7.9, 3.8, 6.4, 2. ],\n",
              "        [6.4, 2.8, 5.6, 2.2],\n",
              "        [6.3, 2.8, 5.1, 1.5],\n",
              "        [6.1, 2.6, 5.6, 1.4],\n",
              "        [7.7, 3. , 6.1, 2.3],\n",
              "        [6.3, 3.4, 5.6, 2.4],\n",
              "        [6.4, 3.1, 5.5, 1.8],\n",
              "        [6. , 3. , 4.8, 1.8],\n",
              "        [6.9, 3.1, 5.4, 2.1],\n",
              "        [6.7, 3.1, 5.6, 2.4],\n",
              "        [6.9, 3.1, 5.1, 2.3],\n",
              "        [5.8, 2.7, 5.1, 1.9],\n",
              "        [6.8, 3.2, 5.9, 2.3],\n",
              "        [6.7, 3.3, 5.7, 2.5],\n",
              "        [6.7, 3. , 5.2, 2.3],\n",
              "        [6.3, 2.5, 5. , 1.9],\n",
              "        [6.5, 3. , 5.2, 2. ],\n",
              "        [6.2, 3.4, 5.4, 2.3],\n",
              "        [5.9, 3. , 5.1, 1.8]]),\n",
              " 'feature_names': ['sepal length (cm)',\n",
              "  'sepal width (cm)',\n",
              "  'petal length (cm)',\n",
              "  'petal width (cm)'],\n",
              " 'filename': '/usr/local/lib/python3.7/dist-packages/sklearn/datasets/data/iris.csv',\n",
              " 'target': array([0, 0, 0, 0, 0, 0, 0, 0, 0, 0, 0, 0, 0, 0, 0, 0, 0, 0, 0, 0, 0, 0,\n",
              "        0, 0, 0, 0, 0, 0, 0, 0, 0, 0, 0, 0, 0, 0, 0, 0, 0, 0, 0, 0, 0, 0,\n",
              "        0, 0, 0, 0, 0, 0, 1, 1, 1, 1, 1, 1, 1, 1, 1, 1, 1, 1, 1, 1, 1, 1,\n",
              "        1, 1, 1, 1, 1, 1, 1, 1, 1, 1, 1, 1, 1, 1, 1, 1, 1, 1, 1, 1, 1, 1,\n",
              "        1, 1, 1, 1, 1, 1, 1, 1, 1, 1, 1, 1, 2, 2, 2, 2, 2, 2, 2, 2, 2, 2,\n",
              "        2, 2, 2, 2, 2, 2, 2, 2, 2, 2, 2, 2, 2, 2, 2, 2, 2, 2, 2, 2, 2, 2,\n",
              "        2, 2, 2, 2, 2, 2, 2, 2, 2, 2, 2, 2, 2, 2, 2, 2, 2, 2]),\n",
              " 'target_names': array(['setosa', 'versicolor', 'virginica'], dtype='<U10')}"
            ]
          },
          "metadata": {},
          "execution_count": 103
        }
      ]
    },
    {
      "cell_type": "code",
      "metadata": {
        "id": "qehY9_o7zwnl"
      },
      "source": [
        "x=pd.DataFrame(iris.data)"
      ],
      "execution_count": null,
      "outputs": []
    },
    {
      "cell_type": "code",
      "metadata": {
        "id": "nqc8b76jz8lH",
        "colab": {
          "base_uri": "https://localhost:8080/",
          "height": 203
        },
        "outputId": "cf8dc6b7-b926-47cd-e414-8ea7d018a6e0"
      },
      "source": [
        "x.shape\n",
        "x.columns=['sepal_length','sepal_width','petal_length','petal_width']\n",
        "x.head()"
      ],
      "execution_count": null,
      "outputs": [
        {
          "output_type": "execute_result",
          "data": {
            "text/html": [
              "<div>\n",
              "<style scoped>\n",
              "    .dataframe tbody tr th:only-of-type {\n",
              "        vertical-align: middle;\n",
              "    }\n",
              "\n",
              "    .dataframe tbody tr th {\n",
              "        vertical-align: top;\n",
              "    }\n",
              "\n",
              "    .dataframe thead th {\n",
              "        text-align: right;\n",
              "    }\n",
              "</style>\n",
              "<table border=\"1\" class=\"dataframe\">\n",
              "  <thead>\n",
              "    <tr style=\"text-align: right;\">\n",
              "      <th></th>\n",
              "      <th>sepal_length</th>\n",
              "      <th>sepal_width</th>\n",
              "      <th>petal_length</th>\n",
              "      <th>petal_width</th>\n",
              "    </tr>\n",
              "  </thead>\n",
              "  <tbody>\n",
              "    <tr>\n",
              "      <th>0</th>\n",
              "      <td>5.1</td>\n",
              "      <td>3.5</td>\n",
              "      <td>1.4</td>\n",
              "      <td>0.2</td>\n",
              "    </tr>\n",
              "    <tr>\n",
              "      <th>1</th>\n",
              "      <td>4.9</td>\n",
              "      <td>3.0</td>\n",
              "      <td>1.4</td>\n",
              "      <td>0.2</td>\n",
              "    </tr>\n",
              "    <tr>\n",
              "      <th>2</th>\n",
              "      <td>4.7</td>\n",
              "      <td>3.2</td>\n",
              "      <td>1.3</td>\n",
              "      <td>0.2</td>\n",
              "    </tr>\n",
              "    <tr>\n",
              "      <th>3</th>\n",
              "      <td>4.6</td>\n",
              "      <td>3.1</td>\n",
              "      <td>1.5</td>\n",
              "      <td>0.2</td>\n",
              "    </tr>\n",
              "    <tr>\n",
              "      <th>4</th>\n",
              "      <td>5.0</td>\n",
              "      <td>3.6</td>\n",
              "      <td>1.4</td>\n",
              "      <td>0.2</td>\n",
              "    </tr>\n",
              "  </tbody>\n",
              "</table>\n",
              "</div>"
            ],
            "text/plain": [
              "   sepal_length  sepal_width  petal_length  petal_width\n",
              "0           5.1          3.5           1.4          0.2\n",
              "1           4.9          3.0           1.4          0.2\n",
              "2           4.7          3.2           1.3          0.2\n",
              "3           4.6          3.1           1.5          0.2\n",
              "4           5.0          3.6           1.4          0.2"
            ]
          },
          "metadata": {},
          "execution_count": 105
        }
      ]
    },
    {
      "cell_type": "code",
      "metadata": {
        "id": "8r425PRG0Zwk",
        "colab": {
          "base_uri": "https://localhost:8080/",
          "height": 203
        },
        "outputId": "d71fad38-9bef-45ed-cfa6-3f3ca922569c"
      },
      "source": [
        "x.tail()"
      ],
      "execution_count": null,
      "outputs": [
        {
          "output_type": "execute_result",
          "data": {
            "text/html": [
              "<div>\n",
              "<style scoped>\n",
              "    .dataframe tbody tr th:only-of-type {\n",
              "        vertical-align: middle;\n",
              "    }\n",
              "\n",
              "    .dataframe tbody tr th {\n",
              "        vertical-align: top;\n",
              "    }\n",
              "\n",
              "    .dataframe thead th {\n",
              "        text-align: right;\n",
              "    }\n",
              "</style>\n",
              "<table border=\"1\" class=\"dataframe\">\n",
              "  <thead>\n",
              "    <tr style=\"text-align: right;\">\n",
              "      <th></th>\n",
              "      <th>sepal_length</th>\n",
              "      <th>sepal_width</th>\n",
              "      <th>petal_length</th>\n",
              "      <th>petal_width</th>\n",
              "    </tr>\n",
              "  </thead>\n",
              "  <tbody>\n",
              "    <tr>\n",
              "      <th>145</th>\n",
              "      <td>6.7</td>\n",
              "      <td>3.0</td>\n",
              "      <td>5.2</td>\n",
              "      <td>2.3</td>\n",
              "    </tr>\n",
              "    <tr>\n",
              "      <th>146</th>\n",
              "      <td>6.3</td>\n",
              "      <td>2.5</td>\n",
              "      <td>5.0</td>\n",
              "      <td>1.9</td>\n",
              "    </tr>\n",
              "    <tr>\n",
              "      <th>147</th>\n",
              "      <td>6.5</td>\n",
              "      <td>3.0</td>\n",
              "      <td>5.2</td>\n",
              "      <td>2.0</td>\n",
              "    </tr>\n",
              "    <tr>\n",
              "      <th>148</th>\n",
              "      <td>6.2</td>\n",
              "      <td>3.4</td>\n",
              "      <td>5.4</td>\n",
              "      <td>2.3</td>\n",
              "    </tr>\n",
              "    <tr>\n",
              "      <th>149</th>\n",
              "      <td>5.9</td>\n",
              "      <td>3.0</td>\n",
              "      <td>5.1</td>\n",
              "      <td>1.8</td>\n",
              "    </tr>\n",
              "  </tbody>\n",
              "</table>\n",
              "</div>"
            ],
            "text/plain": [
              "     sepal_length  sepal_width  petal_length  petal_width\n",
              "145           6.7          3.0           5.2          2.3\n",
              "146           6.3          2.5           5.0          1.9\n",
              "147           6.5          3.0           5.2          2.0\n",
              "148           6.2          3.4           5.4          2.3\n",
              "149           5.9          3.0           5.1          1.8"
            ]
          },
          "metadata": {},
          "execution_count": 106
        }
      ]
    },
    {
      "cell_type": "code",
      "metadata": {
        "id": "0HA-z4TP0hPW",
        "colab": {
          "base_uri": "https://localhost:8080/",
          "height": 295
        },
        "outputId": "5c312019-80cd-4dac-c221-ec1cd8073e3c"
      },
      "source": [
        "x.describe()"
      ],
      "execution_count": null,
      "outputs": [
        {
          "output_type": "execute_result",
          "data": {
            "text/html": [
              "<div>\n",
              "<style scoped>\n",
              "    .dataframe tbody tr th:only-of-type {\n",
              "        vertical-align: middle;\n",
              "    }\n",
              "\n",
              "    .dataframe tbody tr th {\n",
              "        vertical-align: top;\n",
              "    }\n",
              "\n",
              "    .dataframe thead th {\n",
              "        text-align: right;\n",
              "    }\n",
              "</style>\n",
              "<table border=\"1\" class=\"dataframe\">\n",
              "  <thead>\n",
              "    <tr style=\"text-align: right;\">\n",
              "      <th></th>\n",
              "      <th>sepal_length</th>\n",
              "      <th>sepal_width</th>\n",
              "      <th>petal_length</th>\n",
              "      <th>petal_width</th>\n",
              "    </tr>\n",
              "  </thead>\n",
              "  <tbody>\n",
              "    <tr>\n",
              "      <th>count</th>\n",
              "      <td>150.000000</td>\n",
              "      <td>150.000000</td>\n",
              "      <td>150.000000</td>\n",
              "      <td>150.000000</td>\n",
              "    </tr>\n",
              "    <tr>\n",
              "      <th>mean</th>\n",
              "      <td>5.843333</td>\n",
              "      <td>3.057333</td>\n",
              "      <td>3.758000</td>\n",
              "      <td>1.199333</td>\n",
              "    </tr>\n",
              "    <tr>\n",
              "      <th>std</th>\n",
              "      <td>0.828066</td>\n",
              "      <td>0.435866</td>\n",
              "      <td>1.765298</td>\n",
              "      <td>0.762238</td>\n",
              "    </tr>\n",
              "    <tr>\n",
              "      <th>min</th>\n",
              "      <td>4.300000</td>\n",
              "      <td>2.000000</td>\n",
              "      <td>1.000000</td>\n",
              "      <td>0.100000</td>\n",
              "    </tr>\n",
              "    <tr>\n",
              "      <th>25%</th>\n",
              "      <td>5.100000</td>\n",
              "      <td>2.800000</td>\n",
              "      <td>1.600000</td>\n",
              "      <td>0.300000</td>\n",
              "    </tr>\n",
              "    <tr>\n",
              "      <th>50%</th>\n",
              "      <td>5.800000</td>\n",
              "      <td>3.000000</td>\n",
              "      <td>4.350000</td>\n",
              "      <td>1.300000</td>\n",
              "    </tr>\n",
              "    <tr>\n",
              "      <th>75%</th>\n",
              "      <td>6.400000</td>\n",
              "      <td>3.300000</td>\n",
              "      <td>5.100000</td>\n",
              "      <td>1.800000</td>\n",
              "    </tr>\n",
              "    <tr>\n",
              "      <th>max</th>\n",
              "      <td>7.900000</td>\n",
              "      <td>4.400000</td>\n",
              "      <td>6.900000</td>\n",
              "      <td>2.500000</td>\n",
              "    </tr>\n",
              "  </tbody>\n",
              "</table>\n",
              "</div>"
            ],
            "text/plain": [
              "       sepal_length  sepal_width  petal_length  petal_width\n",
              "count    150.000000   150.000000    150.000000   150.000000\n",
              "mean       5.843333     3.057333      3.758000     1.199333\n",
              "std        0.828066     0.435866      1.765298     0.762238\n",
              "min        4.300000     2.000000      1.000000     0.100000\n",
              "25%        5.100000     2.800000      1.600000     0.300000\n",
              "50%        5.800000     3.000000      4.350000     1.300000\n",
              "75%        6.400000     3.300000      5.100000     1.800000\n",
              "max        7.900000     4.400000      6.900000     2.500000"
            ]
          },
          "metadata": {},
          "execution_count": 107
        }
      ]
    },
    {
      "cell_type": "code",
      "metadata": {
        "id": "3iGnzsqh0lFG",
        "colab": {
          "base_uri": "https://localhost:8080/",
          "height": 172
        },
        "outputId": "c2c9471a-990e-4690-cfa8-52e6374fcf0c"
      },
      "source": [
        "x.cov()"
      ],
      "execution_count": null,
      "outputs": [
        {
          "output_type": "execute_result",
          "data": {
            "text/html": [
              "<div>\n",
              "<style scoped>\n",
              "    .dataframe tbody tr th:only-of-type {\n",
              "        vertical-align: middle;\n",
              "    }\n",
              "\n",
              "    .dataframe tbody tr th {\n",
              "        vertical-align: top;\n",
              "    }\n",
              "\n",
              "    .dataframe thead th {\n",
              "        text-align: right;\n",
              "    }\n",
              "</style>\n",
              "<table border=\"1\" class=\"dataframe\">\n",
              "  <thead>\n",
              "    <tr style=\"text-align: right;\">\n",
              "      <th></th>\n",
              "      <th>sepal_length</th>\n",
              "      <th>sepal_width</th>\n",
              "      <th>petal_length</th>\n",
              "      <th>petal_width</th>\n",
              "    </tr>\n",
              "  </thead>\n",
              "  <tbody>\n",
              "    <tr>\n",
              "      <th>sepal_length</th>\n",
              "      <td>0.685694</td>\n",
              "      <td>-0.042434</td>\n",
              "      <td>1.274315</td>\n",
              "      <td>0.516271</td>\n",
              "    </tr>\n",
              "    <tr>\n",
              "      <th>sepal_width</th>\n",
              "      <td>-0.042434</td>\n",
              "      <td>0.189979</td>\n",
              "      <td>-0.329656</td>\n",
              "      <td>-0.121639</td>\n",
              "    </tr>\n",
              "    <tr>\n",
              "      <th>petal_length</th>\n",
              "      <td>1.274315</td>\n",
              "      <td>-0.329656</td>\n",
              "      <td>3.116278</td>\n",
              "      <td>1.295609</td>\n",
              "    </tr>\n",
              "    <tr>\n",
              "      <th>petal_width</th>\n",
              "      <td>0.516271</td>\n",
              "      <td>-0.121639</td>\n",
              "      <td>1.295609</td>\n",
              "      <td>0.581006</td>\n",
              "    </tr>\n",
              "  </tbody>\n",
              "</table>\n",
              "</div>"
            ],
            "text/plain": [
              "              sepal_length  sepal_width  petal_length  petal_width\n",
              "sepal_length      0.685694    -0.042434      1.274315     0.516271\n",
              "sepal_width      -0.042434     0.189979     -0.329656    -0.121639\n",
              "petal_length      1.274315    -0.329656      3.116278     1.295609\n",
              "petal_width       0.516271    -0.121639      1.295609     0.581006"
            ]
          },
          "metadata": {},
          "execution_count": 109
        }
      ]
    },
    {
      "cell_type": "code",
      "metadata": {
        "id": "wnH-vohs0vrL",
        "colab": {
          "base_uri": "https://localhost:8080/",
          "height": 172
        },
        "outputId": "5909b2ee-0721-43f3-a0ef-a6400974b337"
      },
      "source": [
        "x.corr()"
      ],
      "execution_count": null,
      "outputs": [
        {
          "output_type": "execute_result",
          "data": {
            "text/html": [
              "<div>\n",
              "<style scoped>\n",
              "    .dataframe tbody tr th:only-of-type {\n",
              "        vertical-align: middle;\n",
              "    }\n",
              "\n",
              "    .dataframe tbody tr th {\n",
              "        vertical-align: top;\n",
              "    }\n",
              "\n",
              "    .dataframe thead th {\n",
              "        text-align: right;\n",
              "    }\n",
              "</style>\n",
              "<table border=\"1\" class=\"dataframe\">\n",
              "  <thead>\n",
              "    <tr style=\"text-align: right;\">\n",
              "      <th></th>\n",
              "      <th>sepal_length</th>\n",
              "      <th>sepal_width</th>\n",
              "      <th>petal_length</th>\n",
              "      <th>petal_width</th>\n",
              "    </tr>\n",
              "  </thead>\n",
              "  <tbody>\n",
              "    <tr>\n",
              "      <th>sepal_length</th>\n",
              "      <td>1.000000</td>\n",
              "      <td>-0.117570</td>\n",
              "      <td>0.871754</td>\n",
              "      <td>0.817941</td>\n",
              "    </tr>\n",
              "    <tr>\n",
              "      <th>sepal_width</th>\n",
              "      <td>-0.117570</td>\n",
              "      <td>1.000000</td>\n",
              "      <td>-0.428440</td>\n",
              "      <td>-0.366126</td>\n",
              "    </tr>\n",
              "    <tr>\n",
              "      <th>petal_length</th>\n",
              "      <td>0.871754</td>\n",
              "      <td>-0.428440</td>\n",
              "      <td>1.000000</td>\n",
              "      <td>0.962865</td>\n",
              "    </tr>\n",
              "    <tr>\n",
              "      <th>petal_width</th>\n",
              "      <td>0.817941</td>\n",
              "      <td>-0.366126</td>\n",
              "      <td>0.962865</td>\n",
              "      <td>1.000000</td>\n",
              "    </tr>\n",
              "  </tbody>\n",
              "</table>\n",
              "</div>"
            ],
            "text/plain": [
              "              sepal_length  sepal_width  petal_length  petal_width\n",
              "sepal_length      1.000000    -0.117570      0.871754     0.817941\n",
              "sepal_width      -0.117570     1.000000     -0.428440    -0.366126\n",
              "petal_length      0.871754    -0.428440      1.000000     0.962865\n",
              "petal_width       0.817941    -0.366126      0.962865     1.000000"
            ]
          },
          "metadata": {},
          "execution_count": 108
        }
      ]
    },
    {
      "cell_type": "code",
      "metadata": {
        "id": "dJ3Z5mQJRm0f"
      },
      "source": [
        "#grouping operation\n",
        "df=pd.Dataframe({'NAME':['teju','sahi','bunny'],'state':['IND','IND','IND'],\n",
        "                 'grade':['A','A','A'],'age':np.random.uniform(20,16,size=3),'salary':np.random.uniform(35000,25000,size=3)})\n",
        "print(df)"
      ],
      "execution_count": null,
      "outputs": []
    },
    {
      "cell_type": "code",
      "metadata": {
        "id": "omatdJSMRmn6"
      },
      "source": [
        "df.groupby(['name','state']).max()"
      ],
      "execution_count": null,
      "outputs": []
    },
    {
      "cell_type": "markdown",
      "metadata": {
        "id": "a7cHK5fu01Zu"
      },
      "source": [
        "#SCIPY"
      ]
    },
    {
      "cell_type": "code",
      "metadata": {
        "id": "tWA9jCEk03OG"
      },
      "source": [
        "import numpy as np\n",
        "np.linspace(1.,3.,5.)"
      ],
      "execution_count": null,
      "outputs": []
    },
    {
      "cell_type": "code",
      "metadata": {
        "id": "x1I51hw01DQG",
        "colab": {
          "base_uri": "https://localhost:8080/"
        },
        "outputId": "fcc37e31-1bf2-4d23-e4ab-80cab2be3cf7"
      },
      "source": [
        "#kmeans using scipy\n",
        "from scipy.cluster.vq import kmeans,vq,whiten\n",
        "from numpy import vstack,array\n",
        "from numpy.random import rand\n",
        "data=vstack((rand(100,3)+array([.5,.5,.5]),rand(100,3)))\n",
        "data"
      ],
      "execution_count": null,
      "outputs": [
        {
          "output_type": "execute_result",
          "data": {
            "text/plain": [
              "array([[6.83840352e-01, 1.36501722e+00, 1.19978050e+00],\n",
              "       [6.05755652e-01, 5.95673570e-01, 1.16633079e+00],\n",
              "       [1.29420924e+00, 1.40435858e+00, 1.20304615e+00],\n",
              "       [1.49012624e+00, 1.33142585e+00, 5.66044754e-01],\n",
              "       [1.42276448e+00, 9.88384300e-01, 5.19682429e-01],\n",
              "       [1.40504911e+00, 6.72628538e-01, 1.00872427e+00],\n",
              "       [9.14047266e-01, 1.16027837e+00, 5.51460541e-01],\n",
              "       [9.86401519e-01, 1.44926338e+00, 8.12413527e-01],\n",
              "       [5.96505507e-01, 1.26776830e+00, 6.14431963e-01],\n",
              "       [7.93170461e-01, 9.52585265e-01, 1.48747662e+00],\n",
              "       [1.46304457e+00, 1.14386505e+00, 6.48880105e-01],\n",
              "       [6.68138805e-01, 9.51137152e-01, 1.35136880e+00],\n",
              "       [9.03122075e-01, 9.23235706e-01, 5.00365162e-01],\n",
              "       [8.82713634e-01, 1.45993272e+00, 7.55895015e-01],\n",
              "       [1.06140071e+00, 1.43008399e+00, 8.55893632e-01],\n",
              "       [1.33204542e+00, 1.09978707e+00, 1.06027828e+00],\n",
              "       [1.32935990e+00, 9.54780416e-01, 1.09032475e+00],\n",
              "       [1.28776870e+00, 1.43006515e+00, 5.86519378e-01],\n",
              "       [8.62690023e-01, 9.58901936e-01, 5.32645822e-01],\n",
              "       [1.05938576e+00, 1.46862464e+00, 5.15345917e-01],\n",
              "       [7.03903539e-01, 6.16765079e-01, 1.46519061e+00],\n",
              "       [8.85705265e-01, 6.13705948e-01, 1.03769055e+00],\n",
              "       [1.07344848e+00, 1.21587477e+00, 6.35534228e-01],\n",
              "       [1.38240336e+00, 9.10923758e-01, 8.36680895e-01],\n",
              "       [6.86889577e-01, 1.48038482e+00, 1.13476540e+00],\n",
              "       [1.34851410e+00, 9.35494381e-01, 6.02980231e-01],\n",
              "       [9.34937219e-01, 8.64821979e-01, 8.10857994e-01],\n",
              "       [9.09092768e-01, 1.27380134e+00, 1.48703039e+00],\n",
              "       [7.99495197e-01, 6.33366439e-01, 9.58059252e-01],\n",
              "       [7.35374429e-01, 1.27995668e+00, 1.08014524e+00],\n",
              "       [7.83808951e-01, 1.44417938e+00, 8.14968290e-01],\n",
              "       [1.05735959e+00, 1.36759015e+00, 8.53928611e-01],\n",
              "       [9.01765307e-01, 1.11600205e+00, 1.37972519e+00],\n",
              "       [7.71042923e-01, 1.39090496e+00, 6.94884664e-01],\n",
              "       [1.25398654e+00, 1.10822318e+00, 1.02104901e+00],\n",
              "       [5.33934060e-01, 1.30206145e+00, 1.28950964e+00],\n",
              "       [8.61060511e-01, 8.04370256e-01, 1.16379783e+00],\n",
              "       [1.05048880e+00, 6.50807455e-01, 1.20299138e+00],\n",
              "       [6.54397970e-01, 1.43537740e+00, 5.28072055e-01],\n",
              "       [1.42684965e+00, 1.32050690e+00, 7.97073004e-01],\n",
              "       [1.33391356e+00, 1.30206244e+00, 1.40618592e+00],\n",
              "       [8.51205161e-01, 8.28380743e-01, 1.31902418e+00],\n",
              "       [7.75453153e-01, 7.50578457e-01, 5.01297584e-01],\n",
              "       [1.30927077e+00, 1.45879715e+00, 1.32595062e+00],\n",
              "       [1.28199767e+00, 5.02905609e-01, 1.42980653e+00],\n",
              "       [1.03730684e+00, 8.07969950e-01, 1.12825984e+00],\n",
              "       [7.53964722e-01, 1.34556101e+00, 1.28157611e+00],\n",
              "       [1.36842004e+00, 1.01487234e+00, 1.31893415e+00],\n",
              "       [1.00254617e+00, 8.49968002e-01, 1.20136968e+00],\n",
              "       [1.04601063e+00, 1.45419199e+00, 8.37091072e-01],\n",
              "       [1.13034737e+00, 1.21466185e+00, 6.11110676e-01],\n",
              "       [1.10303280e+00, 1.49778853e+00, 1.47200114e+00],\n",
              "       [6.08480793e-01, 9.73370856e-01, 1.48211971e+00],\n",
              "       [7.69801302e-01, 8.97411266e-01, 1.01872351e+00],\n",
              "       [1.33098999e+00, 1.36247895e+00, 5.42629810e-01],\n",
              "       [7.41300694e-01, 1.34592226e+00, 5.06341144e-01],\n",
              "       [1.29767754e+00, 1.07738796e+00, 1.22193831e+00],\n",
              "       [1.04124723e+00, 1.11363711e+00, 1.33025773e+00],\n",
              "       [9.07823397e-01, 7.88535697e-01, 1.19030628e+00],\n",
              "       [9.53251705e-01, 5.38865094e-01, 1.05408454e+00],\n",
              "       [8.74552106e-01, 5.06264062e-01, 7.47135226e-01],\n",
              "       [9.29407991e-01, 5.01889754e-01, 1.09901536e+00],\n",
              "       [9.83343299e-01, 1.01457015e+00, 7.75803824e-01],\n",
              "       [1.16460104e+00, 9.07810596e-01, 9.41504706e-01],\n",
              "       [1.47101215e+00, 1.12914390e+00, 1.36488318e+00],\n",
              "       [1.04290537e+00, 1.39189437e+00, 1.06897984e+00],\n",
              "       [1.08047315e+00, 1.05699174e+00, 8.94602565e-01],\n",
              "       [7.75234259e-01, 7.41702389e-01, 9.11461086e-01],\n",
              "       [7.32733886e-01, 1.35497348e+00, 9.32440828e-01],\n",
              "       [1.39876956e+00, 7.67753802e-01, 6.18169785e-01],\n",
              "       [5.34525811e-01, 1.27711181e+00, 1.05840886e+00],\n",
              "       [1.20790836e+00, 9.57870422e-01, 6.93169374e-01],\n",
              "       [1.20466022e+00, 1.06206240e+00, 8.75366317e-01],\n",
              "       [6.99030501e-01, 1.09193076e+00, 1.06120720e+00],\n",
              "       [9.12681072e-01, 1.28369350e+00, 9.19577156e-01],\n",
              "       [8.60809800e-01, 8.61488576e-01, 1.21469834e+00],\n",
              "       [1.09652808e+00, 1.31714908e+00, 5.82807835e-01],\n",
              "       [7.92114783e-01, 1.04936733e+00, 1.33289571e+00],\n",
              "       [1.40279879e+00, 1.22014181e+00, 1.12480783e+00],\n",
              "       [1.48857559e+00, 5.43473011e-01, 1.40027099e+00],\n",
              "       [5.36257545e-01, 9.12804871e-01, 1.01318543e+00],\n",
              "       [6.39229401e-01, 5.35282965e-01, 8.12477103e-01],\n",
              "       [8.48559676e-01, 1.24975646e+00, 1.28576434e+00],\n",
              "       [1.28203732e+00, 1.19111200e+00, 7.54855536e-01],\n",
              "       [1.04779701e+00, 8.09894801e-01, 7.39397640e-01],\n",
              "       [1.42840458e+00, 1.15192318e+00, 1.14049913e+00],\n",
              "       [1.23473675e+00, 1.42088213e+00, 1.12668476e+00],\n",
              "       [1.24911083e+00, 1.18655052e+00, 6.09748202e-01],\n",
              "       [1.48386489e+00, 1.31296570e+00, 1.08497067e+00],\n",
              "       [9.86675271e-01, 5.17820329e-01, 7.86956498e-01],\n",
              "       [5.23210090e-01, 1.27470052e+00, 6.57122881e-01],\n",
              "       [1.39917012e+00, 5.70231033e-01, 9.76681821e-01],\n",
              "       [1.06303798e+00, 1.04583640e+00, 5.59482244e-01],\n",
              "       [7.84748267e-01, 8.79959264e-01, 1.15645436e+00],\n",
              "       [1.02910858e+00, 1.49664543e+00, 6.34768837e-01],\n",
              "       [1.23975205e+00, 7.79054455e-01, 8.91578014e-01],\n",
              "       [7.35542691e-01, 1.27965971e+00, 1.30831842e+00],\n",
              "       [6.98180987e-01, 6.64757267e-01, 1.21439441e+00],\n",
              "       [7.27980336e-01, 1.41330989e+00, 9.50614632e-01],\n",
              "       [5.84215241e-01, 1.36397479e+00, 1.33978524e+00],\n",
              "       [4.76371449e-01, 7.86019727e-02, 9.60114123e-01],\n",
              "       [1.36023974e-01, 8.28335494e-01, 6.94200523e-01],\n",
              "       [9.91714413e-01, 9.88066951e-01, 3.67604745e-01],\n",
              "       [6.62129561e-01, 2.91591876e-01, 9.11154152e-01],\n",
              "       [5.27244698e-01, 9.08651381e-01, 2.05936531e-01],\n",
              "       [6.67841260e-01, 4.26751650e-01, 7.28563618e-01],\n",
              "       [7.25367684e-01, 7.73680853e-01, 8.49460270e-01],\n",
              "       [2.74211929e-01, 1.75586730e-01, 1.96696474e-01],\n",
              "       [4.98469648e-02, 4.00274426e-01, 7.09429499e-01],\n",
              "       [8.26597939e-01, 3.03622757e-01, 9.44625487e-01],\n",
              "       [5.38510131e-01, 2.79319974e-01, 1.94135911e-01],\n",
              "       [9.67099488e-01, 6.67282479e-01, 7.09879634e-01],\n",
              "       [6.15520246e-01, 9.95636922e-01, 9.60330352e-01],\n",
              "       [8.86919576e-01, 1.93083474e-01, 1.65795402e-01],\n",
              "       [6.70383212e-01, 3.05694003e-01, 7.67408372e-01],\n",
              "       [8.51598020e-01, 4.46988703e-01, 9.80315986e-01],\n",
              "       [3.96342731e-01, 2.50522695e-01, 6.23646336e-01],\n",
              "       [3.57414186e-01, 8.13064019e-01, 8.38192852e-01],\n",
              "       [8.37186629e-01, 9.25953245e-02, 5.31479921e-02],\n",
              "       [7.74872064e-01, 6.09469527e-01, 9.60654117e-01],\n",
              "       [5.78446651e-01, 2.34873812e-03, 8.31566344e-01],\n",
              "       [4.77295372e-01, 4.04223084e-01, 2.01643230e-01],\n",
              "       [1.41081000e-04, 6.08931477e-01, 8.01370416e-01],\n",
              "       [4.42951581e-01, 9.83085524e-01, 1.35356372e-01],\n",
              "       [8.38668297e-02, 5.01117181e-01, 6.08158640e-01],\n",
              "       [5.17993784e-01, 8.42637337e-01, 6.00874718e-01],\n",
              "       [3.41491138e-01, 5.57902056e-01, 4.56096855e-02],\n",
              "       [2.26328565e-01, 1.57362164e-01, 8.03641457e-01],\n",
              "       [1.54742055e-01, 7.46416281e-01, 5.17993249e-02],\n",
              "       [8.66651504e-01, 8.58187099e-01, 2.00743104e-01],\n",
              "       [7.51946111e-01, 4.74157609e-01, 5.16933081e-02],\n",
              "       [5.07485623e-01, 4.34709026e-01, 4.59893366e-01],\n",
              "       [2.04204444e-02, 5.32143803e-01, 4.90085929e-01],\n",
              "       [8.39961144e-01, 9.57368267e-01, 3.34051247e-01],\n",
              "       [5.62193674e-01, 3.44825511e-01, 9.69793350e-01],\n",
              "       [6.82645144e-01, 5.49096504e-01, 3.80144723e-01],\n",
              "       [6.21452706e-01, 7.49585401e-01, 8.00436448e-01],\n",
              "       [2.18259329e-01, 1.39192811e-01, 2.07351160e-02],\n",
              "       [4.01465159e-01, 1.53966408e-02, 7.31095395e-01],\n",
              "       [4.25315638e-01, 1.03291570e-01, 4.97475518e-01],\n",
              "       [1.15783076e-01, 1.18105046e-01, 1.76176592e-01],\n",
              "       [5.38263348e-01, 7.04669801e-01, 7.77861106e-01],\n",
              "       [7.45131574e-01, 8.88827094e-01, 7.37912474e-01],\n",
              "       [9.73936023e-01, 6.40555569e-01, 5.89376494e-01],\n",
              "       [5.33863585e-01, 8.78924522e-01, 1.97154680e-02],\n",
              "       [4.35305861e-01, 9.64804331e-01, 9.34750099e-01],\n",
              "       [4.48853372e-01, 7.85024386e-03, 5.69248921e-01],\n",
              "       [2.69669361e-01, 2.33916473e-01, 5.91337401e-01],\n",
              "       [2.71331974e-01, 7.00079834e-01, 1.21942787e-01],\n",
              "       [9.38643504e-02, 7.74423910e-01, 6.63690939e-01],\n",
              "       [6.73484073e-01, 7.22246901e-01, 8.35969702e-01],\n",
              "       [2.76146518e-01, 4.37036497e-01, 4.39668220e-01],\n",
              "       [2.73423776e-01, 9.57367675e-01, 7.61842424e-01],\n",
              "       [7.00018953e-01, 1.28488578e-01, 7.52762755e-01],\n",
              "       [5.06605137e-02, 8.17011787e-01, 7.12633740e-01],\n",
              "       [5.46660338e-01, 6.81905220e-01, 2.39116902e-01],\n",
              "       [8.29509129e-01, 9.25678016e-01, 2.30732665e-01],\n",
              "       [7.73311413e-01, 8.08170525e-01, 3.37704282e-01],\n",
              "       [5.89654913e-01, 2.56374718e-01, 5.14740232e-01],\n",
              "       [9.91995837e-01, 2.74809270e-01, 1.82037138e-01],\n",
              "       [5.89754502e-01, 7.23316226e-01, 1.26428580e-01],\n",
              "       [9.45666986e-01, 7.63155191e-01, 2.80142393e-01],\n",
              "       [2.09535919e-01, 4.44135294e-01, 3.86197946e-01],\n",
              "       [5.02426072e-01, 1.61396675e-01, 3.17538847e-01],\n",
              "       [1.41229861e-01, 7.80918417e-01, 6.77630409e-01],\n",
              "       [3.27628575e-01, 2.26825096e-01, 9.76183912e-01],\n",
              "       [8.68819101e-01, 4.67822778e-01, 9.28557924e-01],\n",
              "       [9.42622938e-02, 7.42926945e-01, 8.89603516e-01],\n",
              "       [2.04849501e-01, 1.98825645e-01, 3.14103006e-01],\n",
              "       [5.30194968e-01, 9.92096778e-01, 6.00641822e-02],\n",
              "       [9.58533428e-01, 8.48974855e-01, 5.09060719e-01],\n",
              "       [5.75729849e-01, 1.72853822e-01, 5.81995960e-01],\n",
              "       [3.09242609e-01, 8.60924931e-01, 7.70578373e-01],\n",
              "       [8.40935387e-01, 4.15914822e-03, 3.02584534e-01],\n",
              "       [6.37591991e-01, 3.18038488e-01, 4.92138026e-02],\n",
              "       [4.29214136e-01, 2.22306058e-01, 1.00521828e-01],\n",
              "       [8.62692855e-01, 5.97142738e-01, 1.05382988e-01],\n",
              "       [4.36730193e-01, 7.06505100e-01, 7.49655479e-01],\n",
              "       [5.55087251e-01, 2.32674872e-01, 6.40822868e-01],\n",
              "       [8.66542827e-01, 7.22034515e-01, 8.73391106e-01],\n",
              "       [7.45928146e-01, 3.27715239e-01, 7.34835122e-01],\n",
              "       [6.75989271e-01, 8.60143663e-01, 3.87281356e-01],\n",
              "       [8.02057177e-01, 2.96250599e-01, 7.28310148e-01],\n",
              "       [7.54657398e-01, 9.81886471e-01, 5.63316299e-01],\n",
              "       [3.71435556e-01, 9.72494722e-01, 8.21286045e-01],\n",
              "       [5.04323333e-01, 8.98588642e-01, 4.63895494e-01],\n",
              "       [2.58257535e-01, 1.13832546e-01, 2.75742237e-01],\n",
              "       [3.41644603e-01, 1.01510282e-01, 9.18504290e-01],\n",
              "       [4.10704722e-01, 9.29771220e-01, 2.48956386e-01],\n",
              "       [8.69797440e-01, 3.61643616e-01, 4.68560918e-01],\n",
              "       [2.88815452e-01, 2.67883810e-01, 5.55507476e-01],\n",
              "       [9.25184518e-01, 3.07403629e-01, 9.22735587e-01],\n",
              "       [3.75924765e-01, 6.40849873e-01, 7.35716837e-01],\n",
              "       [4.94578236e-01, 2.32951468e-01, 5.25327213e-01],\n",
              "       [9.78251492e-01, 3.59672755e-01, 6.93526340e-01],\n",
              "       [7.12457625e-01, 9.06492223e-01, 7.58399432e-01],\n",
              "       [7.70159905e-01, 3.11229793e-01, 7.40851497e-01],\n",
              "       [4.40788787e-01, 3.17246292e-01, 1.15908328e-01],\n",
              "       [7.12637935e-01, 2.94950155e-01, 4.78618180e-01],\n",
              "       [7.86167620e-01, 9.38445970e-01, 3.81285861e-01]])"
            ]
          },
          "metadata": {},
          "execution_count": 113
        }
      ]
    },
    {
      "cell_type": "code",
      "metadata": {
        "id": "xtTXX1ru14im",
        "colab": {
          "base_uri": "https://localhost:8080/"
        },
        "outputId": "76f2398a-ed18-4aa5-bfa0-1a25a4435a89"
      },
      "source": [
        "data=whiten(data)\n",
        "data"
      ],
      "execution_count": null,
      "outputs": [
        {
          "output_type": "execute_result",
          "data": {
            "text/plain": [
              "array([[1.92319730e+00, 3.37348732e+00, 3.27294444e+00],\n",
              "       [1.70359592e+00, 1.47214058e+00, 3.18169521e+00],\n",
              "       [3.63976724e+00, 3.47071511e+00, 3.28185299e+00],\n",
              "       [4.19075409e+00, 3.29047003e+00, 1.54414331e+00],\n",
              "       [4.00130937e+00, 2.44268121e+00, 1.41766908e+00],\n",
              "       [3.95148757e+00, 1.66232617e+00, 2.75175209e+00],\n",
              "       [2.57061933e+00, 2.86749817e+00, 1.50435826e+00],\n",
              "       [2.77410470e+00, 3.58169228e+00, 2.21622567e+00],\n",
              "       [1.67758129e+00, 3.13314749e+00, 1.67614132e+00],\n",
              "       [2.23067165e+00, 2.35420790e+00, 4.05776585e+00],\n",
              "       [4.11459099e+00, 2.82693449e+00, 1.77011423e+00],\n",
              "       [1.87903908e+00, 2.35062905e+00, 3.68647015e+00],\n",
              "       [2.53989389e+00, 2.28167375e+00, 1.36497249e+00],\n",
              "       [2.48249825e+00, 3.60806037e+00, 2.06204584e+00],\n",
              "       [2.98502856e+00, 3.53429257e+00, 2.33483733e+00],\n",
              "       [3.74617575e+00, 2.71800068e+00, 2.89238898e+00],\n",
              "       [3.73862313e+00, 2.35963297e+00, 2.97435432e+00],\n",
              "       [3.62165420e+00, 3.53424600e+00, 1.59999711e+00],\n",
              "       [2.42618488e+00, 2.36981884e+00, 1.45303260e+00],\n",
              "       [2.97936182e+00, 3.62954148e+00, 1.40583928e+00],\n",
              "       [1.97962197e+00, 1.52426588e+00, 3.99697067e+00],\n",
              "       [2.49091175e+00, 1.51670558e+00, 2.83077072e+00],\n",
              "       [3.01891108e+00, 3.00489845e+00, 1.73370731e+00],\n",
              "       [3.88779982e+00, 2.25124614e+00, 2.28242589e+00],\n",
              "       [1.93177278e+00, 3.65860545e+00, 3.09558632e+00],\n",
              "       [3.79249144e+00, 2.31196969e+00, 1.64490154e+00],\n",
              "       [2.62936916e+00, 2.13731076e+00, 2.21198224e+00],\n",
              "       [2.55668556e+00, 3.14805748e+00, 4.05654854e+00],\n",
              "       [2.24845901e+00, 1.56529429e+00, 2.61354031e+00],\n",
              "       [2.06812907e+00, 3.16326972e+00, 2.94658511e+00],\n",
              "       [2.20434382e+00, 3.56912774e+00, 2.22319494e+00],\n",
              "       [2.97366352e+00, 3.37984604e+00, 2.32947685e+00],\n",
              "       [2.53607819e+00, 2.75807420e+00, 3.76382504e+00],\n",
              "       [2.16844130e+00, 3.43746598e+00, 1.89561249e+00],\n",
              "       [3.52664700e+00, 2.73884959e+00, 2.78537339e+00],\n",
              "       [1.50160858e+00, 3.21789919e+00, 3.51772129e+00],\n",
              "       [2.42160212e+00, 1.98791109e+00, 3.17478542e+00],\n",
              "       [2.95434046e+00, 1.60839781e+00, 3.28170357e+00],\n",
              "       [1.84039506e+00, 3.54737464e+00, 1.44055558e+00],\n",
              "       [4.01279828e+00, 3.26348505e+00, 2.17437744e+00],\n",
              "       [3.75142961e+00, 3.21790163e+00, 3.83600867e+00],\n",
              "       [2.39388544e+00, 2.04725032e+00, 3.59823556e+00],\n",
              "       [2.18084441e+00, 1.85497067e+00, 1.36751609e+00],\n",
              "       [3.68212551e+00, 3.60525392e+00, 3.61713056e+00],\n",
              "       [3.60542404e+00, 1.24287494e+00, 3.90044456e+00],\n",
              "       [2.91726819e+00, 1.99680733e+00, 3.07783945e+00],\n",
              "       [2.12041146e+00, 3.32540348e+00, 3.49607899e+00],\n",
              "       [3.84847387e+00, 2.50814344e+00, 3.59798995e+00],\n",
              "       [2.81950908e+00, 2.10060081e+00, 3.27727964e+00],\n",
              "       [2.94174628e+00, 3.59387279e+00, 2.28354484e+00],\n",
              "       [3.17893058e+00, 3.00190085e+00, 1.66708101e+00],\n",
              "       [3.10211250e+00, 3.70161677e+00, 4.01554947e+00],\n",
              "       [1.71125996e+00, 2.40557716e+00, 4.04315244e+00],\n",
              "       [2.16494943e+00, 2.21785153e+00, 2.77902954e+00],\n",
              "       [3.74320752e+00, 3.36721427e+00, 1.48026845e+00],\n",
              "       [2.08479579e+00, 3.32629628e+00, 1.38127468e+00],\n",
              "       [3.64952132e+00, 2.66264380e+00, 3.33338990e+00],\n",
              "       [2.92834994e+00, 2.75222950e+00, 3.62888015e+00],\n",
              "       [2.55311565e+00, 1.94877775e+00, 3.24709921e+00],\n",
              "       [2.68087588e+00, 1.33174478e+00, 2.87549276e+00],\n",
              "       [2.45954519e+00, 1.25117498e+00, 2.03814955e+00],\n",
              "       [2.61381904e+00, 1.24036437e+00, 2.99806191e+00],\n",
              "       [2.76550392e+00, 2.50739661e+00, 2.11635613e+00],\n",
              "       [3.27526384e+00, 2.24355231e+00, 2.56838029e+00],\n",
              "       [4.13699863e+00, 2.79055280e+00, 3.72333675e+00],\n",
              "       [2.93301322e+00, 3.43991120e+00, 2.91612642e+00],\n",
              "       [3.03866689e+00, 2.61223682e+00, 2.44043347e+00],\n",
              "       [2.18022880e+00, 1.83303447e+00, 2.48642272e+00],\n",
              "       [2.06070295e+00, 3.34866535e+00, 2.54365446e+00],\n",
              "       [3.93382729e+00, 1.89741762e+00, 1.68633793e+00],\n",
              "       [1.50327279e+00, 3.15623894e+00, 2.88728928e+00],\n",
              "       [3.39705910e+00, 2.36726957e+00, 1.89093326e+00],\n",
              "       [3.38792420e+00, 2.62476839e+00, 2.38795790e+00],\n",
              "       [1.96591729e+00, 2.69858469e+00, 2.89492303e+00],\n",
              "       [2.56677712e+00, 3.17250485e+00, 2.50856297e+00],\n",
              "       [2.42089703e+00, 2.12907262e+00, 3.31363960e+00],\n",
              "       [3.08381897e+00, 3.25518658e+00, 1.58987220e+00],\n",
              "       [2.22770272e+00, 2.59339394e+00, 3.63607644e+00],\n",
              "       [3.94515887e+00, 3.01544397e+00, 3.06842253e+00],\n",
              "       [4.18639312e+00, 1.34313274e+00, 3.81987302e+00],\n",
              "       [1.50814303e+00, 2.25589510e+00, 2.76392191e+00],\n",
              "       [1.79773576e+00, 1.32289196e+00, 2.21639910e+00],\n",
              "       [2.38644542e+00, 3.08863325e+00, 3.50750430e+00],\n",
              "       [3.60553558e+00, 2.94370005e+00, 2.05921019e+00],\n",
              "       [2.94677022e+00, 2.00156438e+00, 2.01704178e+00],\n",
              "       [4.01717127e+00, 2.84684924e+00, 3.11122766e+00],\n",
              "       [3.47250987e+00, 3.51155121e+00, 3.07354273e+00],\n",
              "       [3.51293481e+00, 2.93242684e+00, 1.66336425e+00],\n",
              "       [4.17314499e+00, 3.24484782e+00, 2.95974866e+00],\n",
              "       [2.77487459e+00, 1.27973500e+00, 2.14678009e+00],\n",
              "       [1.47144904e+00, 3.15027970e+00, 1.79260013e+00],\n",
              "       [3.93495380e+00, 1.40926219e+00, 2.66434180e+00],\n",
              "       [2.98963313e+00, 2.58466763e+00, 1.52624109e+00],\n",
              "       [2.20698551e+00, 2.17472086e+00, 3.15475279e+00],\n",
              "       [2.89421184e+00, 3.69879172e+00, 1.73161936e+00],\n",
              "       [3.48661466e+00, 1.92534592e+00, 2.43218264e+00],\n",
              "       [2.06860229e+00, 3.16253578e+00, 3.56903074e+00],\n",
              "       [1.96352816e+00, 1.64287320e+00, 3.31281049e+00],\n",
              "       [2.04733431e+00, 3.49283727e+00, 2.59323174e+00],\n",
              "       [1.64301678e+00, 3.37091109e+00, 3.65487075e+00],\n",
              "       [1.33972247e+00, 1.94255981e-01, 2.61914590e+00],\n",
              "       [3.82546801e-01, 2.04713849e+00, 1.89374618e+00],\n",
              "       [2.78904641e+00, 2.44189691e+00, 1.00280835e+00],\n",
              "       [1.86213899e+00, 7.20636695e-01, 2.48558542e+00],\n",
              "       [1.48279576e+00, 2.24563022e+00, 5.61785114e-01],\n",
              "       [1.87820228e+00, 1.05466895e+00, 1.98748708e+00],\n",
              "       [2.03998662e+00, 1.91206566e+00, 2.31728743e+00],\n",
              "       [7.71179470e-01, 4.33942958e-01, 5.36578675e-01],\n",
              "       [1.40187030e-01, 9.89233457e-01, 1.93529011e+00],\n",
              "       [2.32468136e+00, 7.50369672e-01, 2.57689364e+00],\n",
              "       [1.51447809e+00, 6.90308064e-01, 5.29593581e-01],\n",
              "       [2.71982067e+00, 1.64911398e+00, 1.93651805e+00],\n",
              "       [1.73105736e+00, 2.46060525e+00, 2.61973576e+00],\n",
              "       [2.49432682e+00, 4.77184202e-01, 4.52282013e-01],\n",
              "       [1.88535113e+00, 7.55488523e-01, 2.09345373e+00],\n",
              "       [2.39499030e+00, 1.10468257e+00, 2.67425563e+00],\n",
              "       [1.11465383e+00, 6.19138810e-01, 1.70127770e+00],\n",
              "       [1.00517320e+00, 2.00939675e+00, 2.28655044e+00],\n",
              "       [2.35446045e+00, 2.28838984e-01, 1.44985208e-01],\n",
              "       [2.17921018e+00, 1.50623574e+00, 2.62061898e+00],\n",
              "       [1.62679349e+00, 5.80464346e-03, 2.26847364e+00],\n",
              "       [1.34232086e+00, 9.98992124e-01, 5.50073190e-01],\n",
              "       [3.96768919e-04, 1.50490601e+00, 2.18610058e+00],\n",
              "       [1.24573415e+00, 2.42958587e+00, 3.69245780e-01],\n",
              "       [2.35862741e-01, 1.23845504e+00, 1.65902800e+00],\n",
              "       [1.45677897e+00, 2.08248389e+00, 1.63915780e+00],\n",
              "       [9.60392043e-01, 1.37879251e+00, 1.24421064e-01],\n",
              "       [6.36514769e-01, 3.88902981e-01, 2.19229587e+00],\n",
              "       [4.35188566e-01, 1.84468432e+00, 1.41306108e-01],\n",
              "       [2.43732594e+00, 2.12091339e+00, 5.47617689e-01],\n",
              "       [2.11473442e+00, 1.17182748e+00, 1.41016899e-01],\n",
              "       [1.42722636e+00, 1.07433472e+00, 1.25456734e+00],\n",
              "       [5.74294034e-02, 1.31513387e+00, 1.33693123e+00],\n",
              "       [2.36226335e+00, 2.36602855e+00, 9.11275998e-01],\n",
              "       [1.58108446e+00, 8.52197667e-01, 2.64555037e+00],\n",
              "       [1.91983596e+00, 1.35703057e+00, 1.03701682e+00],\n",
              "       [1.74774150e+00, 1.85251645e+00, 2.18355276e+00],\n",
              "       [6.13821268e-01, 3.43999457e-01, 5.65644154e-02],\n",
              "       [1.12905988e+00, 3.80510749e-02, 1.99439365e+00],\n",
              "       [1.19613574e+00, 2.55273558e-01, 1.35708968e+00],\n",
              "       [3.25622344e-01, 2.91883406e-01, 4.80601408e-01],\n",
              "       [1.51378405e+00, 1.74151257e+00, 2.12196830e+00],\n",
              "       [2.09556957e+00, 2.19663671e+00, 2.01299032e+00],\n",
              "       [2.73904738e+00, 1.58306142e+00, 1.60779119e+00],\n",
              "       [1.50141038e+00, 2.17216361e+00, 5.37828639e-02],\n",
              "       [1.22423173e+00, 2.38440595e+00, 2.54995404e+00],\n",
              "       [1.26233205e+00, 1.94009993e-02, 1.55288412e+00],\n",
              "       [7.58404187e-01, 5.78098390e-01, 1.61314045e+00],\n",
              "       [7.63080034e-01, 1.73016898e+00, 3.32654153e-01],\n",
              "       [2.63979252e-01, 1.91390204e+00, 1.81051748e+00],\n",
              "       [1.89407183e+00, 1.78495240e+00, 2.28048580e+00],\n",
              "       [7.76620210e-01, 1.08008680e+00, 1.19939410e+00],\n",
              "       [7.68962909e-01, 2.36602709e+00, 2.07827009e+00],\n",
              "       [1.96869716e+00, 3.17545143e-01, 2.05350118e+00],\n",
              "       [1.42475013e-01, 2.01915322e+00, 1.94403113e+00],\n",
              "       [1.53739931e+00, 1.68525245e+00, 6.52299595e-01],\n",
              "       [2.33286864e+00, 2.28770964e+00, 6.29427794e-01],\n",
              "       [2.17482109e+00, 1.99730303e+00, 9.21241303e-01],\n",
              "       [1.65831503e+00, 6.33601430e-01, 1.40418700e+00],\n",
              "       [2.78983787e+00, 6.79160362e-01, 4.96588699e-01],\n",
              "       [1.65859511e+00, 1.78759512e+00, 3.44891186e-01],\n",
              "       [2.65954500e+00, 1.88605266e+00, 7.64215195e-01],\n",
              "       [5.89287998e-01, 1.09763069e+00, 1.05352972e+00],\n",
              "       [1.41299714e+00, 3.98873824e-01, 8.66230952e-01],\n",
              "       [3.97187568e-01, 1.92995249e+00, 1.84854370e+00],\n",
              "       [9.21405687e-01, 5.60572846e-01, 2.66298353e+00],\n",
              "       [2.44342198e+00, 1.15617165e+00, 2.53306208e+00],\n",
              "       [2.65098408e-01, 1.83606082e+00, 2.42679630e+00],\n",
              "       [5.76108158e-01, 4.91375334e-01, 8.56858139e-01],\n",
              "       [1.49109295e+00, 2.45185618e+00, 1.63852247e-01],\n",
              "       [2.69572992e+00, 2.09814636e+00, 1.38869356e+00],\n",
              "       [1.61915290e+00, 4.27188879e-01, 1.58765744e+00],\n",
              "       [8.69697947e-01, 2.12767964e+00, 2.10210134e+00],\n",
              "       [2.36500326e+00, 1.02788694e-02, 8.25436291e-01],\n",
              "       [1.79313079e+00, 7.85996537e-01, 1.34252925e-01],\n",
              "       [1.20709968e+00, 5.49404547e-01, 2.74218792e-01],\n",
              "       [2.42619284e+00, 1.47577146e+00, 2.87479805e-01],\n",
              "       [1.22823744e+00, 1.74604830e+00, 2.04502468e+00],\n",
              "       [1.56109872e+00, 5.75029911e-01, 1.74813446e+00],\n",
              "       [2.43702031e+00, 1.78442751e+00, 2.38256962e+00],\n",
              "       [2.09780980e+00, 8.09911546e-01, 2.00459545e+00],\n",
              "       [1.90111732e+00, 2.12574882e+00, 1.05648521e+00],\n",
              "       [2.25566419e+00, 7.32150208e-01, 1.98679563e+00],\n",
              "       [2.12235950e+00, 2.42662255e+00, 1.53670021e+00],\n",
              "       [1.04460618e+00, 2.40341189e+00, 2.24042947e+00],\n",
              "       [1.41833290e+00, 2.22076129e+00, 1.26548496e+00],\n",
              "       [7.26310156e-01, 2.81324400e-01, 7.52211777e-01],\n",
              "       [9.60823641e-01, 2.50871305e-01, 2.50563625e+00],\n",
              "       [1.15504475e+00, 2.29782554e+00, 6.79141243e-01],\n",
              "       [2.44617341e+00, 8.93761732e-01, 1.27821202e+00],\n",
              "       [8.12249663e-01, 6.62044863e-01, 1.51539811e+00],\n",
              "       [2.60194117e+00, 7.59713673e-01, 2.51717902e+00],\n",
              "       [1.05723140e+00, 1.58378876e+00, 2.00700072e+00],\n",
              "       [1.39092629e+00, 5.75713488e-01, 1.43306778e+00],\n",
              "       [2.75118399e+00, 8.88890971e-01, 1.89190704e+00],\n",
              "       [2.00367904e+00, 2.24029410e+00, 2.06887777e+00],\n",
              "       [2.16595795e+00, 7.69169610e-01, 2.02100783e+00],\n",
              "       [1.23965162e+00, 7.84038713e-01, 3.16192434e-01],\n",
              "       [2.00418613e+00, 7.28936306e-01, 1.30564775e+00],\n",
              "       [2.21097722e+00, 2.31926421e+00, 1.04012979e+00]])"
            ]
          },
          "metadata": {},
          "execution_count": 114
        }
      ]
    },
    {
      "cell_type": "code",
      "metadata": {
        "id": "K3zs4Utb19LK",
        "colab": {
          "base_uri": "https://localhost:8080/"
        },
        "outputId": "b90d7cfc-621b-4a15-95e8-6ad42938b56b"
      },
      "source": [
        "centroids=kmeans(data,3)\n",
        "centroids"
      ],
      "execution_count": null,
      "outputs": [
        {
          "output_type": "execute_result",
          "data": {
            "text/plain": [
              "(array([[2.23551704, 2.1503706 , 3.001189  ],\n",
              "        [3.20100224, 2.91055425, 2.25286527],\n",
              "        [1.41593494, 1.18611645, 1.30900416]]), 1.125396615302445)"
            ]
          },
          "metadata": {},
          "execution_count": 116
        }
      ]
    },
    {
      "cell_type": "code",
      "metadata": {
        "id": "Y2nR8JEA2EeJ"
      },
      "source": [
        "clx=vq(data,centroids)\n",
        "clx"
      ],
      "execution_count": null,
      "outputs": []
    },
    {
      "cell_type": "code",
      "metadata": {
        "id": "YEFCjj1DTcAD",
        "colab": {
          "base_uri": "https://localhost:8080/"
        },
        "outputId": "4df0b199-d727-4e91-92fc-c67ce0c06351"
      },
      "source": [
        "#fast fourier transforms\n",
        "from scipy.fftpack import fft\n",
        "x=np.array([1.0,2.0,1.0,-1.0])\n",
        "y=fft(x)\n",
        "print(\"fft:\\n\",y)"
      ],
      "execution_count": null,
      "outputs": [
        {
          "output_type": "stream",
          "name": "stdout",
          "text": [
            "fft:\n",
            " [3.-0.j 0.-3.j 1.-0.j 0.+3.j]\n"
          ]
        }
      ]
    },
    {
      "cell_type": "code",
      "metadata": {
        "id": "uDagwq6TS6Iv",
        "colab": {
          "base_uri": "https://localhost:8080/"
        },
        "outputId": "a85b90ad-398d-4d56-a6e9-ddcb430e547d"
      },
      "source": [
        "#discrete cosine transform\n",
        "from scipy.fftpack import dct\n",
        "print(\"dct:\\n\",dct(np.array([4.,3.,5.,10.,5.,3.])))"
      ],
      "execution_count": null,
      "outputs": [
        {
          "output_type": "stream",
          "name": "stdout",
          "text": [
            "dct:\n",
            " [ 60.          -3.48476592 -13.85640646  11.3137085    6.\n",
            "  -6.31319305]\n"
          ]
        }
      ]
    },
    {
      "cell_type": "code",
      "metadata": {
        "id": "Go4o59RGTOlT",
        "colab": {
          "base_uri": "https://localhost:8080/"
        },
        "outputId": "5a9f4b7c-e481-42ea-fb36-fee86dece2f1"
      },
      "source": [
        "#inverse discrete cosine transforms\n",
        "from scipy.fftpack import idct\n",
        "print(\"idct:\\n\",idct(np.array([4.,3.,5.,10.,5.,3.])))"
      ],
      "execution_count": null,
      "outputs": [
        {
          "output_type": "stream",
          "name": "stdout",
          "text": [
            "idct:\n",
            " [ 39.15085889 -20.14213562  -6.45392043   7.13341236   8.14213562\n",
            "  -3.83035081]\n"
          ]
        }
      ]
    },
    {
      "cell_type": "code",
      "metadata": {
        "id": "0flbSA8HT1bl",
        "colab": {
          "base_uri": "https://localhost:8080/"
        },
        "outputId": "6b34e9ea-e8d8-4b2e-d369-d7b51827c98b"
      },
      "source": [
        "#scipy integration\n",
        "import scipy.integrate\n",
        "from numpy import exp\n",
        "f=lambda x:exp(-x**2)\n",
        "i=scipy.integrate.quad(f,0,1)\n",
        "print(i)"
      ],
      "execution_count": null,
      "outputs": [
        {
          "output_type": "stream",
          "name": "stdout",
          "text": [
            "(0.7468241328124271, 8.291413475940725e-15)\n"
          ]
        }
      ]
    },
    {
      "cell_type": "code",
      "metadata": {
        "id": "zlgbYB9nUK8S"
      },
      "source": [
        "#linear algebra\n",
        "x+3y+5z=10\n",
        "2x+5y+z=8\n",
        "2x+3y+8z=3"
      ],
      "execution_count": null,
      "outputs": []
    },
    {
      "cell_type": "code",
      "metadata": {
        "id": "2YVXVvAmUZYC"
      },
      "source": [
        "from scipy import linalg\n",
        " \n",
        "import numpy as np\n",
        "a=np.array([1,3,5],[2,5,1],[2,3,8])\n",
        "b=np.array([10,8,3])\n",
        "x=linalg.solve(a,b)\n",
        "print(x)"
      ],
      "execution_count": null,
      "outputs": []
    },
    {
      "cell_type": "code",
      "metadata": {
        "id": "tDrcBngXU3g9",
        "colab": {
          "base_uri": "https://localhost:8080/",
          "height": 330
        },
        "outputId": "9b67ae2e-baa3-4834-dc18-76296e07c957"
      },
      "source": [
        "#finding a determinant\n",
        "from scipy import linalg\n",
        " \n",
        "import numpy as np\n",
        "A=np.array([[1,2],[3,4]])\n",
        "x=linalg.det(a)\n",
        "print(x)"
      ],
      "execution_count": null,
      "outputs": [
        {
          "output_type": "error",
          "ename": "ValueError",
          "evalue": "ignored",
          "traceback": [
            "\u001b[0;31m---------------------------------------------------------------------------\u001b[0m",
            "\u001b[0;31mValueError\u001b[0m                                Traceback (most recent call last)",
            "\u001b[0;32m<ipython-input-123-dc728d8a0c40>\u001b[0m in \u001b[0;36m<module>\u001b[0;34m()\u001b[0m\n\u001b[1;32m      4\u001b[0m \u001b[0;32mimport\u001b[0m \u001b[0mnumpy\u001b[0m \u001b[0;32mas\u001b[0m \u001b[0mnp\u001b[0m\u001b[0;34m\u001b[0m\u001b[0;34m\u001b[0m\u001b[0m\n\u001b[1;32m      5\u001b[0m \u001b[0mA\u001b[0m\u001b[0;34m=\u001b[0m\u001b[0mnp\u001b[0m\u001b[0;34m.\u001b[0m\u001b[0marray\u001b[0m\u001b[0;34m(\u001b[0m\u001b[0;34m[\u001b[0m\u001b[0;34m[\u001b[0m\u001b[0;36m1\u001b[0m\u001b[0;34m,\u001b[0m\u001b[0;36m2\u001b[0m\u001b[0;34m]\u001b[0m\u001b[0;34m,\u001b[0m\u001b[0;34m[\u001b[0m\u001b[0;36m3\u001b[0m\u001b[0;34m,\u001b[0m\u001b[0;36m4\u001b[0m\u001b[0;34m]\u001b[0m\u001b[0;34m]\u001b[0m\u001b[0;34m)\u001b[0m\u001b[0;34m\u001b[0m\u001b[0;34m\u001b[0m\u001b[0m\n\u001b[0;32m----> 6\u001b[0;31m \u001b[0mx\u001b[0m\u001b[0;34m=\u001b[0m\u001b[0mlinalg\u001b[0m\u001b[0;34m.\u001b[0m\u001b[0mdet\u001b[0m\u001b[0;34m(\u001b[0m\u001b[0ma\u001b[0m\u001b[0;34m)\u001b[0m\u001b[0;34m\u001b[0m\u001b[0;34m\u001b[0m\u001b[0m\n\u001b[0m\u001b[1;32m      7\u001b[0m \u001b[0mprint\u001b[0m\u001b[0;34m(\u001b[0m\u001b[0mx\u001b[0m\u001b[0;34m)\u001b[0m\u001b[0;34m\u001b[0m\u001b[0;34m\u001b[0m\u001b[0m\n",
            "\u001b[0;32m/usr/local/lib/python3.7/dist-packages/scipy/linalg/basic.py\u001b[0m in \u001b[0;36mdet\u001b[0;34m(a, overwrite_a, check_finite)\u001b[0m\n\u001b[1;32m   1034\u001b[0m     \u001b[0ma1\u001b[0m \u001b[0;34m=\u001b[0m \u001b[0m_asarray_validated\u001b[0m\u001b[0;34m(\u001b[0m\u001b[0ma\u001b[0m\u001b[0;34m,\u001b[0m \u001b[0mcheck_finite\u001b[0m\u001b[0;34m=\u001b[0m\u001b[0mcheck_finite\u001b[0m\u001b[0;34m)\u001b[0m\u001b[0;34m\u001b[0m\u001b[0;34m\u001b[0m\u001b[0m\n\u001b[1;32m   1035\u001b[0m     \u001b[0;32mif\u001b[0m \u001b[0mlen\u001b[0m\u001b[0;34m(\u001b[0m\u001b[0ma1\u001b[0m\u001b[0;34m.\u001b[0m\u001b[0mshape\u001b[0m\u001b[0;34m)\u001b[0m \u001b[0;34m!=\u001b[0m \u001b[0;36m2\u001b[0m \u001b[0;32mor\u001b[0m \u001b[0ma1\u001b[0m\u001b[0;34m.\u001b[0m\u001b[0mshape\u001b[0m\u001b[0;34m[\u001b[0m\u001b[0;36m0\u001b[0m\u001b[0;34m]\u001b[0m \u001b[0;34m!=\u001b[0m \u001b[0ma1\u001b[0m\u001b[0;34m.\u001b[0m\u001b[0mshape\u001b[0m\u001b[0;34m[\u001b[0m\u001b[0;36m1\u001b[0m\u001b[0;34m]\u001b[0m\u001b[0;34m:\u001b[0m\u001b[0;34m\u001b[0m\u001b[0;34m\u001b[0m\u001b[0m\n\u001b[0;32m-> 1036\u001b[0;31m         \u001b[0;32mraise\u001b[0m \u001b[0mValueError\u001b[0m\u001b[0;34m(\u001b[0m\u001b[0;34m'expected square matrix'\u001b[0m\u001b[0;34m)\u001b[0m\u001b[0;34m\u001b[0m\u001b[0;34m\u001b[0m\u001b[0m\n\u001b[0m\u001b[1;32m   1037\u001b[0m     \u001b[0moverwrite_a\u001b[0m \u001b[0;34m=\u001b[0m \u001b[0moverwrite_a\u001b[0m \u001b[0;32mor\u001b[0m \u001b[0m_datacopied\u001b[0m\u001b[0;34m(\u001b[0m\u001b[0ma1\u001b[0m\u001b[0;34m,\u001b[0m \u001b[0ma\u001b[0m\u001b[0;34m)\u001b[0m\u001b[0;34m\u001b[0m\u001b[0;34m\u001b[0m\u001b[0m\n\u001b[1;32m   1038\u001b[0m     \u001b[0mfdet\u001b[0m\u001b[0;34m,\u001b[0m \u001b[0;34m=\u001b[0m \u001b[0mget_flinalg_funcs\u001b[0m\u001b[0;34m(\u001b[0m\u001b[0;34m(\u001b[0m\u001b[0;34m'det'\u001b[0m\u001b[0;34m,\u001b[0m\u001b[0;34m)\u001b[0m\u001b[0;34m,\u001b[0m \u001b[0;34m(\u001b[0m\u001b[0ma1\u001b[0m\u001b[0;34m,\u001b[0m\u001b[0;34m)\u001b[0m\u001b[0;34m)\u001b[0m\u001b[0;34m\u001b[0m\u001b[0;34m\u001b[0m\u001b[0m\n",
            "\u001b[0;31mValueError\u001b[0m: expected square matrix"
          ]
        }
      ]
    },
    {
      "cell_type": "code",
      "metadata": {
        "id": "jcI73tvrU3--",
        "colab": {
          "base_uri": "https://localhost:8080/"
        },
        "outputId": "c600f766-493b-471c-9ddc-e9f92620fa34"
      },
      "source": [
        "#eigen values and eigen vectors\n",
        "from scipy import linalg\n",
        " \n",
        "import numpy as np\n",
        "A=np.array([[1,2],[3,4]])\n",
        "l,v=linalg.eig(A)\n",
        "print(\"eigen values:\\n\",l)\n",
        "print(\"eigen vectors:\\n\",v)"
      ],
      "execution_count": null,
      "outputs": [
        {
          "output_type": "stream",
          "name": "stdout",
          "text": [
            "eigen values:\n",
            " [-0.37228132+0.j  5.37228132+0.j]\n",
            "eigen vectors:\n",
            " [[-0.82456484 -0.41597356]\n",
            " [ 0.56576746 -0.90937671]]\n"
          ]
        }
      ]
    },
    {
      "cell_type": "markdown",
      "metadata": {
        "id": "V7GXR7n6ug6E"
      },
      "source": [
        "#MATPLOTLIB"
      ]
    },
    {
      "cell_type": "code",
      "metadata": {
        "id": "kDSzpl6JuXSt",
        "colab": {
          "base_uri": "https://localhost:8080/",
          "height": 265
        },
        "outputId": "a3c73da1-18fd-4fdf-877d-4d27c5664388"
      },
      "source": [
        "#import library\n",
        "\n",
        "import matplotlib.pyplot as plt\n",
        "import numpy as np\n",
        "\n",
        "x=np.arange(5)\n",
        "y=(35,45,28,37,60)\n",
        "\n",
        "plt.bar(x,y)\n",
        "plt.show()"
      ],
      "execution_count": null,
      "outputs": [
        {
          "output_type": "display_data",
          "data": {
            "image/png": "[encoded data removed]",
            "text/plain": [
              "<Figure size 432x288 with 1 Axes>"
            ]
          },
          "metadata": {
            "needs_background": "light"
          }
        }
      ]
    },
    {
      "cell_type": "code",
      "metadata": {
        "id": "WngQyXMfuo16",
        "colab": {
          "base_uri": "https://localhost:8080/",
          "height": 265
        },
        "outputId": "dbf1c038-899e-436b-90cc-6e259a976ef8"
      },
      "source": [
        "plt.scatter(x,y)\n",
        "plt.show()"
      ],
      "execution_count": null,
      "outputs": [
        {
          "output_type": "display_data",
          "data": {
            "image/png": "[encoded data removed]",
            "text/plain": [
              "<Figure size 432x288 with 1 Axes>"
            ]
          },
          "metadata": {
            "needs_background": "light"
          }
        }
      ]
    },
    {
      "cell_type": "code",
      "metadata": {
        "id": "1QJ6ZGyxurCC",
        "colab": {
          "base_uri": "https://localhost:8080/",
          "height": 203
        },
        "outputId": "10aa98c8-bd08-478b-ddc2-569fabe8054c"
      },
      "source": [
        "import pandas as pd\n",
        "from sklearn.datasets import load_iris\n",
        "\n",
        "iris=load_iris()\n",
        "df=pd.DataFrame(iris.data)\n",
        "df.columns=['sepal_length','sepal_width','petal_length','petal_width']\n",
        "df.head()"
      ],
      "execution_count": null,
      "outputs": [
        {
          "output_type": "execute_result",
          "data": {
            "text/html": [
              "<div>\n",
              "<style scoped>\n",
              "    .dataframe tbody tr th:only-of-type {\n",
              "        vertical-align: middle;\n",
              "    }\n",
              "\n",
              "    .dataframe tbody tr th {\n",
              "        vertical-align: top;\n",
              "    }\n",
              "\n",
              "    .dataframe thead th {\n",
              "        text-align: right;\n",
              "    }\n",
              "</style>\n",
              "<table border=\"1\" class=\"dataframe\">\n",
              "  <thead>\n",
              "    <tr style=\"text-align: right;\">\n",
              "      <th></th>\n",
              "      <th>sepal_length</th>\n",
              "      <th>sepal_width</th>\n",
              "      <th>petal_length</th>\n",
              "      <th>petal_width</th>\n",
              "    </tr>\n",
              "  </thead>\n",
              "  <tbody>\n",
              "    <tr>\n",
              "      <th>0</th>\n",
              "      <td>5.1</td>\n",
              "      <td>3.5</td>\n",
              "      <td>1.4</td>\n",
              "      <td>0.2</td>\n",
              "    </tr>\n",
              "    <tr>\n",
              "      <th>1</th>\n",
              "      <td>4.9</td>\n",
              "      <td>3.0</td>\n",
              "      <td>1.4</td>\n",
              "      <td>0.2</td>\n",
              "    </tr>\n",
              "    <tr>\n",
              "      <th>2</th>\n",
              "      <td>4.7</td>\n",
              "      <td>3.2</td>\n",
              "      <td>1.3</td>\n",
              "      <td>0.2</td>\n",
              "    </tr>\n",
              "    <tr>\n",
              "      <th>3</th>\n",
              "      <td>4.6</td>\n",
              "      <td>3.1</td>\n",
              "      <td>1.5</td>\n",
              "      <td>0.2</td>\n",
              "    </tr>\n",
              "    <tr>\n",
              "      <th>4</th>\n",
              "      <td>5.0</td>\n",
              "      <td>3.6</td>\n",
              "      <td>1.4</td>\n",
              "      <td>0.2</td>\n",
              "    </tr>\n",
              "  </tbody>\n",
              "</table>\n",
              "</div>"
            ],
            "text/plain": [
              "   sepal_length  sepal_width  petal_length  petal_width\n",
              "0           5.1          3.5           1.4          0.2\n",
              "1           4.9          3.0           1.4          0.2\n",
              "2           4.7          3.2           1.3          0.2\n",
              "3           4.6          3.1           1.5          0.2\n",
              "4           5.0          3.6           1.4          0.2"
            ]
          },
          "metadata": {},
          "execution_count": 92
        }
      ]
    },
    {
      "cell_type": "code",
      "metadata": {
        "id": "cjHUpnZ8uvI0",
        "colab": {
          "base_uri": "https://localhost:8080/",
          "height": 281
        },
        "outputId": "6dec2ee2-2209-47a6-bf46-c7cba3f2319a"
      },
      "source": [
        "df.hist()\n",
        "plt.show()"
      ],
      "execution_count": null,
      "outputs": [
        {
          "output_type": "display_data",
          "data": {
            "image/png": "[encoded data removed]",
            "text/plain": [
              "<Figure size 432x288 with 4 Axes>"
            ]
          },
          "metadata": {
            "needs_background": "light"
          }
        }
      ]
    },
    {
      "cell_type": "code",
      "metadata": {
        "id": "24vKZWZduzLo",
        "colab": {
          "base_uri": "https://localhost:8080/",
          "height": 265
        },
        "outputId": "1a874d5f-ecc9-45ee-b7be-e1dd943db4dd"
      },
      "source": [
        "df.plot()\n",
        "plt.show()\n"
      ],
      "execution_count": null,
      "outputs": [
        {
          "output_type": "display_data",
          "data": {
            "image/png": "[encoded data removed]",
            "text/plain": [
              "<Figure size 432x288 with 1 Axes>"
            ]
          },
          "metadata": {
            "needs_background": "light"
          }
        }
      ]
    },
    {
      "cell_type": "code",
      "metadata": {
        "id": "hm3G7xWUvF5L",
        "colab": {
          "base_uri": "https://localhost:8080/",
          "height": 266
        },
        "outputId": "5e14a6b6-ffa3-4610-bd77-b20a41b25c40"
      },
      "source": [
        "df.boxplot()\n",
        "plt.show()"
      ],
      "execution_count": null,
      "outputs": [
        {
          "output_type": "display_data",
          "data": {
            "image/png": "[encoded data removed]",
            "text/plain": [
              "<Figure size 432x288 with 1 Axes>"
            ]
          },
          "metadata": {
            "needs_background": "light"
          }
        }
      ]
    },
    {
      "cell_type": "code",
      "metadata": {
        "id": "z_ehTLPevLTT",
        "colab": {
          "base_uri": "https://localhost:8080/",
          "height": 306
        },
        "outputId": "9e7b63a6-a462-4803-e34d-d12fd1187886"
      },
      "source": [
        "#Custom labels\n",
        "x=np.linspace(0,20,1000)\n",
        "y=np.sin(x)\n",
        "\n",
        "plt.plot(x,y,label='sample Label')\n",
        "plt.title('sample plot Title')\n",
        "plt.xlabel('x axis label')\n",
        "plt.ylabel('y axis label')\n",
        "plt.grid(True)\n",
        "\n",
        "plt.figtext(0.5, 0.01, 'Fig1: sinusoidal', ha='right', va='bottom')\n",
        "\n",
        "plt.legend(loc='best',framealpha=0.5,prop={'size':'small'})\n",
        "\n",
        "plt.tight_layout(pad=1)\n",
        "\n",
        "plt.show()"
      ],
      "execution_count": null,
      "outputs": [
        {
          "output_type": "display_data",
          "data": {
            "image/png": "[encoded data removed]",
            "text/plain": [
              "<Figure size 432x288 with 1 Axes>"
            ]
          },
          "metadata": {
            "needs_background": "light"
          }
        }
      ]
    },
    {
      "cell_type": "markdown",
      "metadata": {
        "id": "Hu7Jv3FjlrPc"
      },
      "source": [
        ""
      ]
    }
  ]
}