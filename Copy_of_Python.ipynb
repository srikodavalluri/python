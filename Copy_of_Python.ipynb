{
  "nbformat": 4,
  "nbformat_minor": 0,
  "metadata": {
    "colab": {
      "name": "Copy of Python.ipynb",
      "provenance": [],
      "collapsed_sections": [],
      "authorship_tag": "ABX9TyN5wFJ5VtW682opRrcQvmk2",
      "include_colab_link": true
    },
    "kernelspec": {
      "name": "python3",
      "display_name": "Python 3"
    },
    "language_info": {
      "name": "python"
    }
  },
  "cells": [
    {
      "cell_type": "markdown",
      "metadata": {
        "id": "view-in-github",
        "colab_type": "text"
      },
      "source": [
        "<a href=\"https://colab.research.google.com/github/srikodavalluri/python/blob/main/Copy_of_Python.ipynb\" target=\"_parent\"><img src=\"https://colab.research.google.com/assets/colab-badge.svg\" alt=\"Open In Colab\"/></a>"
      ]
    },
    {
      "cell_type": "markdown",
      "metadata": {
        "id": "PubaO98lMfeZ"
      },
      "source": [
        "Exercise 1\n",
        " \n",
        "a)Running Instructions In Interactive Interpreter And A python Script"
      ]
    },
    {
      "cell_type": "code",
      "metadata": {
        "colab": {
          "base_uri": "https://localhost:8080/"
        },
        "id": "V3e5qNGwMzKQ",
        "outputId": "56af8a5f-2655-419e-e09c-89310398d39e"
      },
      "source": [
        "print(\"Swathi Sri\")"
      ],
      "execution_count": null,
      "outputs": [
        {
          "output_type": "stream",
          "text": [
            "Swathi Sri\n"
          ],
          "name": "stdout"
        }
      ]
    },
    {
      "cell_type": "markdown",
      "metadata": {
        "id": "GWyZCNdnNOJu"
      },
      "source": [
        "b)Write a program to purposefully raise indentation error and correct it"
      ]
    },
    {
      "cell_type": "code",
      "metadata": {
        "colab": {
          "base_uri": "https://localhost:8080/"
        },
        "id": "XlVEVrQhNb_L",
        "outputId": "7416467b-0fd5-44ca-be39-1370af2c5e92"
      },
      "source": [
        "num=10\n",
        "if num>=10 :\n",
        "#print(\"true\")raises indentation error\n",
        "           print(\"true\")#correct code\n",
        "else :\n",
        "#print(\"false\")\n",
        "           print(\"false\")"
      ],
      "execution_count": null,
      "outputs": [
        {
          "output_type": "stream",
          "text": [
            "true\n"
          ],
          "name": "stdout"
        }
      ]
    },
    {
      "cell_type": "markdown",
      "metadata": {
        "id": "Wgqta7whCCM8"
      },
      "source": [
        "Exercise 2 Operations\n",
        " \n",
        "a)write a program to compute Distance between two points taking input from the user"
      ]
    },
    {
      "cell_type": "code",
      "metadata": {
        "id": "cJECioXuCC9O"
      },
      "source": [
        "import math\n",
        " \n",
        "x1=int(input(\"enter x1 value:\"))\n",
        "x2=int(input(\"enter x2 value:\"))\n",
        "y1=int(input(\"enter y1 value:\"))\n",
        "y2=int(input(\"enter y2 value:\"))\n",
        " \n",
        "d=math.sqrt(((x2-x1)**2)+((y2-y1)**2))\n",
        " \n",
        "print(\"distance of two points:\",d)"
      ],
      "execution_count": null,
      "outputs": []
    },
    {
      "cell_type": "markdown",
      "metadata": {
        "id": "zRuMWXxZCF2Z"
      },
      "source": [
        " enter x1 value:4\n",
        "enter x2 value:5\n",
        "enter y1 value:7\n",
        "enter y2 value:8\n",
        "distance of two points: 1.4142135623730951"
      ]
    },
    {
      "cell_type": "markdown",
      "metadata": {
        "id": "14rFyKpHCIgl"
      },
      "source": [
        " b)write a program add.py that takes 2 numbers as command line arguments and prints it's sum"
      ]
    },
    {
      "cell_type": "code",
      "metadata": {
        "id": "wSgnQd47CKzg"
      },
      "source": [
        "import sys\n",
        "a=int(sys.argv[1])\n",
        "b=int(sys.argv[2])\n",
        " \n",
        "sum=a+b\n",
        "print(\"sum of two numbers is:\",sum)"
      ],
      "execution_count": null,
      "outputs": []
    },
    {
      "cell_type": "markdown",
      "metadata": {
        "id": "aBWqpvXLCNdE"
      },
      "source": [
        " C:\\Users\\sri\\Desktop\\python\\exercise-2> python add.py 15 20 Sum:35"
      ]
    },
    {
      "cell_type": "markdown",
      "metadata": {
        "id": "RP1Ul2EtCQEk"
      },
      "source": [
        " Exercise-3 Control Flow\n",
        " \n",
        "a)Write a program for checking weather the given number is an even number or not"
      ]
    },
    {
      "cell_type": "code",
      "metadata": {
        "id": "PXLtHt1cCSe3"
      },
      "source": [
        "num=int(input(\"enter a number : \"))\n",
        " \n",
        "if num%2==0 :\n",
        " \n",
        "            print(\"Given number is even\")\n",
        " \n",
        "else :\n",
        " \n",
        "            print(\"Given number is odd\")"
      ],
      "execution_count": null,
      "outputs": []
    },
    {
      "cell_type": "markdown",
      "metadata": {
        "id": "AuW2Ad0WCUae"
      },
      "source": [
        " enter a number : 4\n",
        "Given number is even"
      ]
    },
    {
      "cell_type": "markdown",
      "metadata": {
        "id": "azlEzi2sCXGo"
      },
      "source": [
        " b)Using a for loop write a program that prints out the decimal equivalents of 1/2,1/3,1/4,......1/10"
      ]
    },
    {
      "cell_type": "code",
      "metadata": {
        "id": "3wzL9e0ZCZLx"
      },
      "source": [
        "num=int(input(\"enter a number : \"))\n",
        "for i in range(2,num):\n",
        "    val=1/i\n",
        "print(\"1/\"+str(i)+\"=\",val)"
      ],
      "execution_count": null,
      "outputs": []
    },
    {
      "cell_type": "markdown",
      "metadata": {
        "id": "WC3Dkge5CbYe"
      },
      "source": [
        " enter a number : 10\n",
        "1/9= 0.1111111111111111"
      ]
    },
    {
      "cell_type": "markdown",
      "metadata": {
        "id": "ljfQW9avCeFv"
      },
      "source": [
        " c)write a program using a for loop that loops over a sequence.what is sequence?"
      ]
    },
    {
      "cell_type": "code",
      "metadata": {
        "id": "XEce6hqpCi2d"
      },
      "source": [
        "arr=[2,\"Sri\",-23,'S',11.5,True,7,5.5,'swa']\n",
        " \n",
        "print(\"given array : \",arr)\n",
        "for x in arr:\n",
        "     print(x)"
      ],
      "execution_count": null,
      "outputs": []
    },
    {
      "cell_type": "markdown",
      "metadata": {
        "id": "ZTEqy2BLCmQ1"
      },
      "source": [
        " given array :  [2, 'Sri', -23, 'S', 11.5, True, 7, 5.5, 'swa']\n",
        "2\n",
        "Sri\n",
        "-23\n",
        "S\n",
        "11.5\n",
        "True\n",
        "7\n",
        "5.5\n",
        "swa"
      ]
    },
    {
      "cell_type": "markdown",
      "metadata": {
        "id": "0nlmUHl5DebB"
      },
      "source": [
        " d)write a program using a while loop that asks the user for a number,and prints a countdown from that number to zero."
      ]
    },
    {
      "cell_type": "code",
      "metadata": {
        "id": "cqLhdLfIDg8D"
      },
      "source": [
        "num=int(input(\"enter the value of num : \"))\n",
        "while num>=0:\n",
        "           print(num)\n",
        "           num-=1"
      ],
      "execution_count": null,
      "outputs": []
    },
    {
      "cell_type": "markdown",
      "metadata": {
        "id": "nxl0WeH_Djvm"
      },
      "source": [
        " enter the value of num : 10\n",
        "10\n",
        "9\n",
        "8\n",
        "7\n",
        "6\n",
        "5\n",
        "4\n",
        "3\n",
        "2\n",
        "1\n",
        "0"
      ]
    },
    {
      "cell_type": "markdown",
      "metadata": {
        "id": "SgcknuhYDmGO"
      },
      "source": [
        " Exercise-4 Control Flow\n",
        " \n",
        "a)find the sum of all the primes below two million"
      ]
    },
    {
      "cell_type": "code",
      "metadata": {
        "id": "HrW_efeEDoy0"
      },
      "source": [
        "n=int(input(\"enter Limit for sum of primes : \"))\n",
        "psum=0\n",
        "for i in range(2,n+1):\n",
        "    c=0\n",
        "    for j in range(2,i+1):\n",
        "        if i%j==0:\n",
        "            c+=1\n",
        "    if(c==1):\n",
        "        print(i,end='\\n')    \n",
        "        psum+=i\n",
        " \n",
        "print(\"\") \n",
        "print(\"Sum of sum number : \",psum)"
      ],
      "execution_count": null,
      "outputs": []
    },
    {
      "cell_type": "markdown",
      "metadata": {
        "id": "vfDtwmwSDrGE"
      },
      "source": [
        " enter Limit for sum of primes : 50\n",
        "2\n",
        "3\n",
        "5\n",
        "7\n",
        "11\n",
        "13\n",
        "17\n",
        "19\n",
        "23\n",
        "29\n",
        "31\n",
        "37\n",
        "41\n",
        "43\n",
        "47\n",
        " \n",
        "Sum of sum number :  328"
      ]
    },
    {
      "cell_type": "markdown",
      "metadata": {
        "id": "CBToYYxUDtm0"
      },
      "source": [
        " c) by considering the terms in the Fibonacci sequence whose values do not exceed four million,find the sum of the even-valued terms"
      ]
    },
    {
      "cell_type": "code",
      "metadata": {
        "id": "jmvuPDs_DwDA"
      },
      "source": [
        "num=int(input(\"enter the value of num:\"))\n",
        " \n",
        "x=0\n",
        "y=1\n",
        "z=x+y\n",
        "sum=0\n",
        "print(\"even numbers in Fibonacci series:\",end='')\n",
        "while z<=num:\n",
        "  if z%2==0:\n",
        "   print(z,end='\\t')\n",
        "   sum+=c\n",
        "  x=y\n",
        "  y=z\n",
        "  z=x+y\n",
        "print(\"\\nsum of Fibonacci series is:\",sum)"
      ],
      "execution_count": null,
      "outputs": []
    },
    {
      "cell_type": "markdown",
      "metadata": {
        "id": "_I9PVbyYDzCr"
      },
      "source": [
        " enter the value of num:100\n",
        "even numbers in Fibonacci series:2  8   34  \n",
        "sum of Fibonacci series is: 4791"
      ]
    },
    {
      "cell_type": "markdown",
      "metadata": {
        "id": "hQnMqZOoD2_W"
      },
      "source": [
        " b)each new term in the Fibonacci sequence is generated by adding the previous two terms.By starting with 1 and 2,the first 10 terms will be:1,2,3,4,5,813,21,34,55,89..."
      ]
    },
    {
      "cell_type": "code",
      "metadata": {
        "id": "piEd3i2pD6aG"
      },
      "source": [
        "num=int(input(\"enter value of num : \"))\n",
        "p=0\n",
        "q=1\n",
        "r=p+q\n",
        "while r<num:\n",
        "     print(r,end='\\t')\n",
        "     p=q\n",
        "     q=r\n",
        "     r=p+q"
      ],
      "execution_count": null,
      "outputs": []
    },
    {
      "cell_type": "markdown",
      "metadata": {
        "id": "-ZgRYfBAD9Lh"
      },
      "source": [
        " enter value of num : 1000\n",
        "1   2   3   5   8   13  21  34  55  89  144 233 377 610 987"
      ]
    },
    {
      "cell_type": "markdown",
      "metadata": {
        "id": "Z1uurqeRD_gH"
      },
      "source": [
        " Exercise 5 DS\n",
        " \n",
        "a)write a program to count the numbers of characters in the string and store them in a dictionary data structures"
      ]
    },
    {
      "cell_type": "code",
      "metadata": {
        "id": "P71sX1TXEBth"
      },
      "source": [
        "name=input(\"enter a name:\")\n",
        "dic={}\n",
        " \n",
        "for ch in name:\n",
        "  keys=dic.keys()\n",
        "  \n",
        "  if(ch in keys):\n",
        "     dic[ch]=dic[ch]+1\n",
        "  else:\n",
        "     dic[ch]=1\n",
        " \n",
        "print(\"dictionary is:\",dic)"
      ],
      "execution_count": null,
      "outputs": []
    },
    {
      "cell_type": "markdown",
      "metadata": {
        "id": "N7X1IG82EEMH"
      },
      "source": [
        " enter a name:Swathisrk\n",
        "dictionary is: {'S': 1, 'w': 1, 'a': 1, 't': 1, 'h': 1, 'i': 1, 's': 1, 'r': 1, 'k': 1}"
      ]
    },
    {
      "cell_type": "markdown",
      "metadata": {
        "id": "RTbA8PtGEG0w"
      },
      "source": [
        " b)write a program to use a split and join methods in the string and trace a birthday with a dictionary data structure"
      ]
    },
    {
      "cell_type": "code",
      "metadata": {
        "id": "8TRf2VW9EJA_"
      },
      "source": [
        "dob={\"Sri\":\"20-08-2002\",\"Swathi\":\"15-05-2003\"}\n",
        " \n",
        "name=input(\"which person dob u want:\")\n",
        "x=name.split()\n",
        "birth=\"\"\n",
        " \n",
        " \n",
        "for i in x:\n",
        "    if i in dob.keys():\n",
        "       pers=i\n",
        " \n",
        "print(\" \".join([pers,\"Bday is\",dob[pers]]))"
      ],
      "execution_count": null,
      "outputs": []
    },
    {
      "cell_type": "markdown",
      "metadata": {
        "id": "XI9SvK8AEMVY"
      },
      "source": [
        " which person dob u want:Sri\n",
        "Sri Bday is 20-08-2002"
      ]
    },
    {
      "cell_type": "markdown",
      "metadata": {
        "id": "-zsx_TzUEP0x"
      },
      "source": [
        " Exercise 6 DS\n",
        " \n",
        "a) write a program combine lists that combines these lists into a dictionary"
      ]
    },
    {
      "cell_type": "code",
      "metadata": {
        "id": "0CKW1ps7ES8l"
      },
      "source": [
        "name=[\"Sri\",\"Hema\",\"Harika\",\"Sindhu\",\"Sai\"]\n",
        "ages=[15,18,16,20,35]\n",
        " \n",
        "print(\"given lists are:\")\n",
        "print(\"persons names:\",name)\n",
        "print(\"persons ages:\",ages)\n",
        " \n",
        "dic=dict(zip(name,ages))\n",
        "print(\"\\nDictionary:\",dic)"
      ],
      "execution_count": null,
      "outputs": []
    },
    {
      "cell_type": "markdown",
      "metadata": {
        "id": "A3dfej1CEVNE"
      },
      "source": [
        " given lists are:\n",
        "persons names: ['Sri', 'Hema', 'Harika', 'Sindhu', 'Sai']\n",
        "persons ages: [15, 18, 16, 20, 35]\n",
        " \n",
        "Dictionary: {'Sri': 15, 'Hema': 18, 'Harika': 16, 'Sindhu': 20, 'Sai': 35}"
      ]
    },
    {
      "cell_type": "markdown",
      "metadata": {
        "id": "Kh4FicRKEXwA"
      },
      "source": [
        " b)write a program to count frequency of charactersin a given file.Can yo use character frequency to tell whether the given file is a python program file,C program file or a text file?"
      ]
    },
    {
      "cell_type": "code",
      "metadata": {
        "id": "74XFjnmUEaoL"
      },
      "source": [
        "filetypes=['.py','.c','.txt']\n",
        "fn=input(\"enter the file name:\")\n",
        "f=open(fn,\"r\")\n",
        "count=dict()\n",
        " \n",
        "print(\"given file is\",end=\"\")\n",
        "for ft in filetypes:\n",
        "   if(ft in fn):\n",
        "      if(ft=='.py'):\n",
        "         print(\"Python File\")\n",
        "      elif(ft=='.c'):\n",
        "         print(\"C File\")\n",
        "      elif(ft=='.txt'):\n",
        "         print(\"text file\")\n",
        "   for line in f:\n",
        "     for ch in line:\n",
        "       if ch in count:\n",
        "          count[ch]=count[ch]+1\n",
        "       else:\n",
        "          count[ch]=1\n",
        "   print(count)\n",
        "   f.close()"
      ],
      "execution_count": null,
      "outputs": []
    },
    {
      "cell_type": "markdown",
      "metadata": {
        "id": "MlRHwvcDEdJF"
      },
      "source": [
        " enter the file name:data.txt Given file is Text file {'s':1,'w':2,'a':3,'t':4,'h':5,'i':6}"
      ]
    },
    {
      "cell_type": "markdown",
      "metadata": {
        "id": "fOfgxMGaEfhC"
      },
      "source": [
        " Execise-7 Files\n",
        " \n",
        "a)write a program to print each line of a file in reverse order."
      ]
    },
    {
      "cell_type": "code",
      "metadata": {
        "id": "5VR-JNXPEhzu"
      },
      "source": [
        "obj=open(\"abc.txt\",\"r\")\n",
        "if obj:\n",
        "   st=obj.read()\n",
        "   print(\"File content is: \\n\",st)\n",
        "obj.close()\n",
        " \n",
        "print()\n",
        "lines=st.split(\"\\n\")\n",
        " \n",
        " \n",
        "for ln in lines:\n",
        "    i=Len(ln)-1 \n",
        "    while(i>=0):\n",
        "       print(ln[i],end=\"\")\n",
        "       i=i-1\n",
        "    print()"
      ],
      "execution_count": null,
      "outputs": []
    },
    {
      "cell_type": "markdown",
      "metadata": {
        "id": "9TLlWnFGEkC5"
      },
      "source": [
        " File content is: welcome to python programming...! pavaneswar Swanandhra college of engineering and technology\n",
        " \n",
        "!..gnimmargorp nothyp ot emocleW rawsenavap ygolonhcet dna gnirreenigne fo egelloc arhdnanraws"
      ]
    },
    {
      "cell_type": "markdown",
      "metadata": {
        "id": "J2fDc9jWEmsE"
      },
      "source": [
        " b) write a program to compute the number of characters,words and lines in a file"
      ]
    },
    {
      "cell_type": "code",
      "metadata": {
        "id": "EjOMStn9EpJ0"
      },
      "source": [
        "nc=be=nl=0\n",
        "file=open(\"abc.txt\",\"r\")\n",
        " \n",
        "nl=nw=nc=0\n",
        "print(\"file content:\\n\")\n",
        "for line in file: \n",
        "  ln=line.strip(\"\\n\")\n",
        "  print(ln)\n",
        "  words=ln.split()\n",
        "  nl+=1\n",
        "  nw+=len(words)\n",
        "  nc+=len(line)\n",
        "  file.close()\n",
        "  print(\"\\n no.of lines:\",nl,\"words\",nw,\"characters:\",nc)"
      ],
      "execution_count": null,
      "outputs": []
    },
    {
      "cell_type": "markdown",
      "metadata": {
        "id": "6hrlQPW-ErqV"
      },
      "source": [
        " welcome to python programming...! Swathi Sri cse-A\n",
        " \n",
        "no of lines:3 words:7 characters:43"
      ]
    },
    {
      "cell_type": "markdown",
      "metadata": {
        "id": "c3l7ZY0oEuM3"
      },
      "source": [
        " Exercise 8 FUNCTIONS\n",
        " \n",
        "a)write a function ball collide that takes two balls as parameters and computes if they are colliding.Your function should return a Boolean representing whether or not the balls are colliding"
      ]
    },
    {
      "cell_type": "code",
      "metadata": {
        "id": "LACSHfvMExB5"
      },
      "source": [
        "import math\n",
        "def collide(ball_tup1,ball_tup2):\n",
        " x1,y1,r1=ball_tup1\n",
        " x2,y2,r2=ball_tup2\n",
        " \n",
        " d=math.sqrt((x2-x1)**2+(y2-y1)**2)\n",
        "print(\"centroid distance of two balls:\",d)\n",
        "print(\"Sum of radius ball-01&ball-02 is:{}+{}={}\".format(r1,r2,r1+r2))\n",
        " \n",
        "if d<=r1+r2:\n",
        "       return True\n",
        "else:\n",
        "       return False\n",
        " \n",
        "b1=(2,-4,3)\n",
        "b2=(4,6,3)\n",
        " \n",
        " \n",
        "if collide(b1,b2):\n",
        "     print(\"balls are collide..!\")\n",
        "else:\n",
        "    print(\"balls are not collide..!\")"
      ],
      "execution_count": null,
      "outputs": []
    },
    {
      "cell_type": "markdown",
      "metadata": {
        "id": "KE9XCvdiEzXb"
      },
      "source": [
        " centroid distance of two balls: 10.198039027185569\n",
        "Sum of radius ball-01&ball-02 is:3+3=6\n",
        "balls are not collide..!"
      ]
    },
    {
      "cell_type": "markdown",
      "metadata": {
        "id": "e45r-DJQE2Ob"
      },
      "source": [
        " b)find mean,median,mode for the given set of numbers in a list"
      ]
    },
    {
      "cell_type": "code",
      "metadata": {
        "id": "S_0xuTWWE4z-"
      },
      "source": [
        "def list_mean(num_list):\n",
        "  return sum(num_list)/len(num_list)\n",
        " \n",
        "def list_median(num_list):\n",
        "  num_list.sort()\n",
        "  n=len(num_list)\n",
        "  mid=n//2\n",
        "  if(n%2==1):\n",
        "    return num_list[mid]\n",
        "  else:\n",
        "     mid\n",
        "     return(num_list[mid-1]+num_list[mid])/2\n",
        "def list_mode(num_list):\n",
        "  num_list.sort()\n",
        "  temp=[]\n",
        " \n",
        "  i=0 \n",
        "  while i<len(num_list):\n",
        "    temp.append(num_list.count(num_list[i]))\n",
        "    i+=1\n",
        "   \n",
        "  dic=dict(zip(num_list,temp))\n",
        "  mode={k for(k,v) in dic.items() if v==max(temp)}\n",
        "  return mode\n",
        " \n",
        "lst=[1,1,2,2,2,3,4,5,3]\n",
        "print(\"given list is:\",lst)\n",
        "print(\"mean of the given list is:\",list_mean(lst))\n",
        "print(\"median of the given list is:\",list_median(lst))\n",
        "print(\"mode of the given list is:\",list_mode(lst))"
      ],
      "execution_count": null,
      "outputs": []
    },
    {
      "cell_type": "markdown",
      "metadata": {
        "id": "rHr_BBO-E8LP"
      },
      "source": [
        " given list is: [1, 1, 2, 2, 2, 3, 4, 5, 3]\n",
        "mean of the given list is: 2.5555555555555554\n",
        "median of the given list is: 2\n",
        "mode of the given list is: {2}"
      ]
    },
    {
      "cell_type": "markdown",
      "metadata": {
        "id": "Q82irI_dE--Z"
      },
      "source": [
        " Exercise-9 FUNCTIONS continued\n",
        " \n",
        "a) Write a function nealy equal to test whether two strings are nearly equal. Two strings a and bare nearly equal when a can be generated by a single mutation on b."
      ]
    },
    {
      "cell_type": "code",
      "metadata": {
        "id": "Z0iqNHEaFBQE"
      },
      "source": [
        "def equal(str1,str2):\n",
        "  c=0\n",
        "  i=j=0\n",
        "  while(i<len(str1) and j<len(str2)):\n",
        "    if (str1[i]!=str2[j]):\n",
        "      c+=1\n",
        "      if (len(str1)>len(str2)):\n",
        "        i+=1\n",
        "      elif (len(str1)==len(str2)):\n",
        "        pass\n",
        "      else:\n",
        "        i-=1\n",
        "    if(c>1):\n",
        "      return False\n",
        "    i+=1\n",
        "    j+=1\n",
        "  if (c<2):\n",
        "    return True\n",
        " \n",
        "s=input(\"enter string-1:\")\n",
        "s1=input(\"enter string-2:\")\n",
        "blen=equal(s,s1)\n",
        "if (blen):\n",
        "  print(\"String are nearly equal\")\n",
        "else:\n",
        "    print(\"String are NOT equal\")"
      ],
      "execution_count": null,
      "outputs": []
    },
    {
      "cell_type": "markdown",
      "metadata": {
        "id": "5P5gsKjVFDds"
      },
      "source": [
        " enter string-1:Sri\n",
        "enter string-2:Swathi\n",
        "String are NOT equal"
      ]
    },
    {
      "cell_type": "markdown",
      "metadata": {
        "id": "hW-hO1kDFGZZ"
      },
      "source": [
        " b) Write a function dup to find all duplicates in the list."
      ]
    },
    {
      "cell_type": "code",
      "metadata": {
        "id": "-jfPFxfiFJU7"
      },
      "source": [
        "def dup(list):\n",
        "  temp=[]\n",
        "  for i in list:\n",
        "    c=list.count(i)\n",
        "    if (c>1 and (i not in temp)):\n",
        "      temp.append(i)\n",
        "  print(\"Duplicates in the list:\",temp) \n",
        " \n",
        "ls=[44,20,10,15,44,17,15]\n",
        "print(\"Given elements in the list:\",ls)\n",
        "dup(ls)"
      ],
      "execution_count": null,
      "outputs": []
    },
    {
      "cell_type": "markdown",
      "metadata": {
        "id": "StHS1S0aFL6z"
      },
      "source": [
        " Given elements in the list: [44, 20, 10, 15, 44, 17, 15]\n",
        "Duplicates in the list: [44, 15]"
      ]
    },
    {
      "cell_type": "markdown",
      "metadata": {
        "id": "23szptrvFOjP"
      },
      "source": [
        " c) Write a function unique to find all the unique elements of a list."
      ]
    },
    {
      "cell_type": "code",
      "metadata": {
        "id": "kKX5WSucFQ38"
      },
      "source": [
        "def uni(list):\n",
        "  print(\"Unique Elements in the list: \",end=\"\")\n",
        "  for i in list:\n",
        "    c=list.count(i)\n",
        "    if c==1:\n",
        "       print(i,end=\" \")\n",
        "  \n",
        " \n",
        "ls=[1,2,8,11,1,3,2,1]\n",
        "print(\"Given elements in the list:\",ls)\n",
        "uni(ls)"
      ],
      "execution_count": null,
      "outputs": []
    },
    {
      "cell_type": "markdown",
      "metadata": {
        "id": "uk9hjxQQFTQM"
      },
      "source": [
        " Given elements in the list: [1, 2, 8, 11, 1, 3, 2, 1]\n",
        "Unique Elements in the list: 8 11 3"
      ]
    },
    {
      "cell_type": "markdown",
      "metadata": {
        "id": "noPKxmVHFV65"
      },
      "source": [
        " Exercise-10 FUNCTION-PROBLEM SOLVING\n",
        " \n",
        "a) Write a function cumulative product to compute cumulative product of a list of numbers."
      ]
    },
    {
      "cell_type": "code",
      "metadata": {
        "id": "uyh_1a8kFY6S"
      },
      "source": [
        "def pro(list):\n",
        "  product=1\n",
        "  temp=[]\n",
        "  for i in list:\n",
        "    product*=i\n",
        "    temp.append(product)\n",
        "  return temp  \n",
        " \n",
        "ls=[1,2,3,4,5]\n",
        "print(\"Given list is: \",ls)\n",
        "print(\"Cumulative Product list is: \",prod(ls))"
      ],
      "execution_count": null,
      "outputs": []
    },
    {
      "cell_type": "markdown",
      "metadata": {
        "id": "MTbz25uQFbtd"
      },
      "source": [
        " Given list is: [1, 2, 4, 3, 5] Cumulative Producet list is: [1, 2, 8, 24, 120]"
      ]
    },
    {
      "cell_type": "markdown",
      "metadata": {
        "id": "RehY9QxvFeHX"
      },
      "source": [
        " b) Write a function reverse to reverse a list. Without using the reverse function."
      ]
    },
    {
      "cell_type": "code",
      "metadata": {
        "id": "Rju_i6tBFg5e"
      },
      "source": [
        "def rev(list):\n",
        "  p=0\n",
        "  q=len(list)-1\n",
        "  while (p<=q):\n",
        "    temp=list[p]\n",
        "    list[p]=list[q]\n",
        "    list[q]=temp\n",
        "   q-=1\n",
        "    p+=1\n",
        "  return list\n",
        " \n",
        "ls=[50,100,150,200,250]\n",
        "print(\"Given List is: \",ls)\n",
        "rev(ls)\n",
        "print(\"Reverse of the List is:\",ls)"
      ],
      "execution_count": null,
      "outputs": []
    },
    {
      "cell_type": "markdown",
      "metadata": {
        "id": "JsXYBljnFjdo"
      },
      "source": [
        " Given List is: [50,100,150, 200, 250] Reverse of the List is: [250, 200, 150, 100, 50]"
      ]
    },
    {
      "cell_type": "markdown",
      "metadata": {
        "id": "a8Z81VckFl2j"
      },
      "source": [
        " c) Write function to compute ged, lem of two numbers. Each function shouldn't exceed one line."
      ]
    },
    {
      "cell_type": "code",
      "metadata": {
        "id": "omSzu6sBFooY"
      },
      "source": [
        "gcd=lambda a,b: a if b==0 else gcd(a,a%b)\n",
        "lcm=lambda a,b: (a*b)/gcd(a,b)\n",
        " \n",
        "x=2\n",
        "y=4\n",
        "print(\"Given Number: \",x,y)\n",
        "print(\"GCD is: \",gcd(x,y))\n",
        "print(\"LCM is: \",lcm(x,y))"
      ],
      "execution_count": null,
      "outputs": []
    },
    {
      "cell_type": "markdown",
      "metadata": {
        "id": "FqsUxKiRFsSF"
      },
      "source": [
        " Given Number:  2 4\n",
        "GCD is:  2\n",
        "LCM is:  4.0"
      ]
    }
  ]
}