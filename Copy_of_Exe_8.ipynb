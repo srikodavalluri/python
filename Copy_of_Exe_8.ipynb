{
  "nbformat": 4,
  "nbformat_minor": 0,
  "metadata": {
    "colab": {
      "name": "Copy of Exe-8.ipynb",
      "provenance": [],
      "collapsed_sections": [],
      "authorship_tag": "ABX9TyNjGskfUrQspBq/+st3VX+5",
      "include_colab_link": true
    },
    "kernelspec": {
      "name": "python3",
      "display_name": "Python 3"
    },
    "language_info": {
      "name": "python"
    }
  },
  "cells": [
    {
      "cell_type": "markdown",
      "metadata": {
        "id": "view-in-github",
        "colab_type": "text"
      },
      "source": [
        "<a href=\"https://colab.research.google.com/github/srikodavalluri/python/blob/main/Copy_of_Exe_8.ipynb\" target=\"_parent\"><img src=\"https://colab.research.google.com/assets/colab-badge.svg\" alt=\"Open In Colab\"/></a>"
      ]
    },
    {
      "cell_type": "markdown",
      "metadata": {
        "id": "9ZmzOiNUJQku"
      },
      "source": [
        " Exercise 8   FUNCTIONS\n",
        " \n",
        " \n",
        "a)write a function ball collide that takes two balls as parameters and computes if they are colliding.Your function should return a Boolean representing whether or not the balls are colliding"
      ]
    },
    {
      "cell_type": "code",
      "metadata": {
        "colab": {
          "base_uri": "https://localhost:8080/"
        },
        "id": "4M66m0QhL_MW",
        "outputId": "c6e2b9bd-ffc4-4a1e-a53a-f3d5e5b0460c"
      },
      "source": [
        "import math\n",
        "def collide(ball_tup1,ball_tup2):\n",
        " x1,y1,r1=ball_tup1\n",
        " x2,y2,r2=ball_tup2\n",
        " \n",
        " d=math.sqrt((x2-x1)**2+(y2-y1)**2)\n",
        " print(\"centroid distance of two balls:\",d)\n",
        " print(\"Sum of radius ball-01&ball-02 is:{}+{}={}\".format(r1,r2,r1+r2))\n",
        " \n",
        " if d<=r1+r2:\n",
        "       return True\n",
        " else:\n",
        "       return False\n",
        " \n",
        "b1=(2,-4,3)\n",
        "b2=(4,6,3)\n",
        " \n",
        " \n",
        "if collide(b1,b2):\n",
        "     print(\"balls are collide..!\")\n",
        "else:\n",
        "    print(\"balls are not collide..!\")"
      ],
      "execution_count": null,
      "outputs": [
        {
          "output_type": "stream",
          "text": [
            "centroid distance of two balls: 10.198039027185569\n",
            "Sum of radius ball-01&ball-02 is:3+3=6\n",
            "balls are not collide..!\n"
          ],
          "name": "stdout"
        }
      ]
    },
    {
      "cell_type": "markdown",
      "metadata": {
        "id": "yikq-XOxM27D"
      },
      "source": [
        "b)find mean,median,mode for the given set of numbers in a list"
      ]
    },
    {
      "cell_type": "code",
      "metadata": {
        "colab": {
          "base_uri": "https://localhost:8080/"
        },
        "id": "yYdNQbUSM_Pf",
        "outputId": "03e970fe-4dae-4beb-e337-d02b704fe98b"
      },
      "source": [
        "def list_mean(num_list):\n",
        "  return sum(num_list)/len(num_list)\n",
        " \n",
        "def list_median(num_list):\n",
        "  num_list.sort()\n",
        "  n=len(num_list)\n",
        "  mid=n//2\n",
        "  if(n%2==1):\n",
        "    return num_list[mid]\n",
        "  else:\n",
        "     mid\n",
        "     return(num_list[mid-1]+num_list[mid])/2\n",
        "def list_mode(num_list):\n",
        "  num_list.sort()\n",
        "  temp=[]\n",
        " \n",
        "  i=0 \n",
        "  while i<len(num_list):\n",
        "    temp.append(num_list.count(num_list[i]))\n",
        "    i+=1\n",
        "   \n",
        "  dic=dict(zip(num_list,temp))\n",
        "  mode={k for(k,v) in dic.items() if v==max(temp)}\n",
        "  return mode\n",
        " \n",
        "lst=[1,1,2,2,2,3,4,5,3]\n",
        "print(\"given list is:\",lst)\n",
        "print(\"mean of the given list is:\",list_mean(lst))\n",
        "print(\"median of the given list is:\",list_median(lst))\n",
        "print(\"mode of the given list is:\",list_mode(lst))"
      ],
      "execution_count": null,
      "outputs": [
        {
          "output_type": "stream",
          "text": [
            "given list is: [1, 1, 2, 2, 2, 3, 4, 5, 3]\n",
            "mean of the given list is: 2.5555555555555554\n",
            "median of the given list is: 2\n",
            "mode of the given list is: {2}\n"
          ],
          "name": "stdout"
        }
      ]
    }
  ]
}