{
  "nbformat": 4,
  "nbformat_minor": 0,
  "metadata": {
    "colab": {
      "name": "Exe-2.ipynb",
      "provenance": [],
      "collapsed_sections": [],
      "authorship_tag": "ABX9TyP7w3K+k638iyorRDgp1i9l",
      "include_colab_link": true
    },
    "kernelspec": {
      "display_name": "Python 3",
      "name": "python3"
    },
    "language_info": {
      "name": "python"
    }
  },
  "cells": [
    {
      "cell_type": "markdown",
      "metadata": {
        "id": "view-in-github",
        "colab_type": "text"
      },
      "source": [
        "<a href=\"https://colab.research.google.com/github/srikodavalluri/python/blob/main/Exe_2.ipynb\" target=\"_parent\"><img src=\"https://colab.research.google.com/assets/colab-badge.svg\" alt=\"Open In Colab\"/></a>"
      ]
    },
    {
      "cell_type": "markdown",
      "metadata": {
        "id": "-HzilQhEPuJh"
      },
      "source": [
        "Execise 2 Operations\n",
        " \n",
        "a) Write a program to compute distance between two points taking input from user"
      ]
    },
    {
      "cell_type": "code",
      "metadata": {
        "colab": {
          "base_uri": "https://localhost:8080/"
        },
        "id": "G49RAhN-QJ2_",
        "outputId": "3d98c435-aae1-499b-e2db-7617587439e6"
      },
      "source": [
        "import math\n",
        "a1=int(input(\"enter a1 value : \"))\n",
        "a2=int(input(\"enter a2 value : \"))\n",
        "b1=int(input(\"enter b1 value : \"))\n",
        "b2=int(input(\"enter b2 value : \"))\n",
        " \n",
        "dis=math.sqrt(((a2-a1)**2)+((b2-b1)**2))\n",
        " \n",
        "print(\"Distance between two points is : \",dis)"
      ],
      "execution_count": null,
      "outputs": [
        {
          "output_type": "stream",
          "text": [
            "enter a1 value : 4\n",
            "enter a2 value : 5\n",
            "enter b1 value : 8\n",
            "enter b2 value : 9\n",
            "Distance between two points is :  1.4142135623730951\n"
          ],
          "name": "stdout"
        }
      ]
    },
    {
      "cell_type": "markdown",
      "metadata": {
        "id": "J-DSjjBoRqX7"
      },
      "source": [
        "b)Write a program add.py that takes 2 numbers as command line arguments and prints it's sum."
      ]
    },
    {
      "cell_type": "code",
      "metadata": {
        "id": "GU9B0WYVR51_"
      },
      "source": [
        "#import sys\n",
        " \n",
        "#a=int(sys.argv[1])\n",
        "#b=int(sys.argv[2])\n",
        " \n",
        "#add=a+y\n",
        " \n",
        "#print(\"sum of 2 numbers is : \",sum)"
      ],
      "execution_count": null,
      "outputs": []
    }
  ]
}