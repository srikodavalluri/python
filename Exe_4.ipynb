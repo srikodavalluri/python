{
  "nbformat": 4,
  "nbformat_minor": 0,
  "metadata": {
    "colab": {
      "name": "Exe-4.ipynb",
      "provenance": [],
      "collapsed_sections": [],
      "authorship_tag": "ABX9TyO38Q1NRV38twNhhdGY+uNx",
      "include_colab_link": true
    },
    "kernelspec": {
      "name": "python3",
      "display_name": "Python 3"
    },
    "language_info": {
      "name": "python"
    }
  },
  "cells": [
    {
      "cell_type": "markdown",
      "metadata": {
        "id": "view-in-github",
        "colab_type": "text"
      },
      "source": [
        "<a href=\"https://colab.research.google.com/github/srikodavalluri/python/blob/main/Exe_4.ipynb\" target=\"_parent\"><img src=\"https://colab.research.google.com/assets/colab-badge.svg\" alt=\"Open In Colab\"/></a>"
      ]
    },
    {
      "cell_type": "code",
      "metadata": {
        "id": "WVRrX9J-v0hN"
      },
      "source": [
        ""
      ],
      "execution_count": null,
      "outputs": []
    },
    {
      "cell_type": "markdown",
      "metadata": {
        "id": "0hs0yaQrv3dp"
      },
      "source": [
        "Exercise-4 Control Flow\n",
        " \n",
        "a)find the sum of all the primes below two million"
      ]
    },
    {
      "cell_type": "code",
      "metadata": {
        "colab": {
          "base_uri": "https://localhost:8080/"
        },
        "id": "-IzUGc8DwF4z",
        "outputId": "e0c4087d-587b-4b6f-db57-9346d4bf5e68"
      },
      "source": [
        "num=int(input(\"enter a ending number : \"))\n",
        "st=\"\"\n",
        "sum=0\n",
        "for i in range(2,num):\n",
        "    state=True\n",
        "    for j in range (2,i):\n",
        "       if (i%j)==0:\n",
        "          state=False\n",
        "          break;\n",
        "       if state==True:\n",
        "           st+=\"\"+str(i)\n",
        "           sum+=i\n",
        "print(\"prime numbers:\")\n",
        "print(st)\n",
        "print(\"Sum of the prime numbers:\",sum)"
      ],
      "execution_count": null,
      "outputs": [
        {
          "output_type": "stream",
          "text": [
            "enter a ending number : 100\n",
            "prime numbers:\n",
            "35557777791111111111111111111313131313131313131313151717171717171717171717171717171919191919191919191919191919191919212323232323232323232323232323232323232323232525252729292929292929292929292929292929292929292929292929292931313131313131313131313131313131313131313131313131313131313335353537373737373737373737373737373737373737373737373737373737373737373737373941414141414141414141414141414141414141414141414141414141414141414141414141414143434343434343434343434343434343434343434343434343434343434343434343434343434343434547474747474747474747474747474747474747474747474747474747474747474747474747474747474747474749494949495153535353535353535353535353535353535353535353535353535353535353535353535353535353535353535353535353535355555557595959595959595959595959595959595959595959595959595959595959595959595959595959595959595959595959595959595959595959616161616161616161616161616161616161616161616161616161616161616161616161616161616161616161616161616161616161616161616163656565676767676767676767676767676767676767676767676767676767676767676767676767676767676767676767676767676767676767676767676767676767676769717171717171717171717171717171717171717171717171717171717171717171717171717171717171717171717171717171717171717171717171717171717171717171737373737373737373737373737373737373737373737373737373737373737373737373737373737373737373737373737373737373737373737373737373737373737373737375777777777779797979797979797979797979797979797979797979797979797979797979797979797979797979797979797979797979797979797979797979797979797979797979797979797979797979798183838383838383838383838383838383838383838383838383838383838383838383838383838383838383838383838383838383838383838383838383838383838383838383838383838383838383838385858587898989898989898989898989898989898989898989898989898989898989898989898989898989898989898989898989898989898989898989898989898989898989898989898989898989898989898989898989898989919191919193959595979797979797979797979797979797979797979797979797979797979797979797979797979797979797979797979797979797979797979797979797979797979797979797979797979797979797979797979797979797979797979797979799\n",
            "Sum of the prime numbers: 66705\n"
          ],
          "name": "stdout"
        }
      ]
    },
    {
      "cell_type": "markdown",
      "metadata": {
        "id": "7VRT8hqOz0Jp"
      },
      "source": [
        "c) by considering the terms in the Fibonacci sequence whose values do not exceed four million,find the sum of the even-valued terms"
      ]
    },
    {
      "cell_type": "code",
      "metadata": {
        "colab": {
          "base_uri": "https://localhost:8080/"
        },
        "id": "gzwqtTKI0BEe",
        "outputId": "410ecbd4-1446-4bfe-cc72-98a35b37f2e5"
      },
      "source": [
        "n=int(input(\"enter the value of n:\"))\n",
        " \n",
        "a=0\n",
        "b=1\n",
        "c=a+b\n",
        "sum=0\n",
        "print(\"even numbers in Fibonacci series:\",end='')\n",
        "while c<=n:\n",
        "  if c%2==0:\n",
        "   print(c,end='')\n",
        "   sum+=c\n",
        "  a=b\n",
        "  b=c\n",
        "  c=a+b\n",
        "print(\"\\nsum of Fibonacci series is:\",sum)"
      ],
      "execution_count": null,
      "outputs": [
        {
          "output_type": "stream",
          "text": [
            "enter the value of n:4000000\n",
            "even numbers in Fibonacci series:2834144610258410946463681964188320403524578\n",
            "sum of Fibonacci series is: 4613732\n"
          ],
          "name": "stdout"
        }
      ]
    },
    {
      "cell_type": "markdown",
      "metadata": {
        "id": "oN2USJfQyomF"
      },
      "source": [
        "b)each new term in the Fibonacci sequence is generated by adding the previous two terms.By starting with 1 and 2,the first 10 terms will be:1,2,3,4,5,813,21,34,55,89..."
      ]
    },
    {
      "cell_type": "code",
      "metadata": {
        "colab": {
          "base_uri": "https://localhost:8080/"
        },
        "id": "RysuwQ-szArZ",
        "outputId": "48f5f7db-3842-4c74-8d7e-807fb73a4222"
      },
      "source": [
        "n=int(input(\"enter value of n : \"))\n",
        "a=0\n",
        "b=1\n",
        "c=a+b\n",
        "while c<n:\n",
        "     print(c,end='')\n",
        "     a=b\n",
        "     b=c\n",
        "     c=a+b"
      ],
      "execution_count": null,
      "outputs": [
        {
          "output_type": "stream",
          "text": [
            "enter value of n : 1000\n",
            "123581321345589144233377610987"
          ],
          "name": "stdout"
        }
      ]
    }
  ]
}