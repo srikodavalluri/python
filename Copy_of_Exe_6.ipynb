{
  "nbformat": 4,
  "nbformat_minor": 0,
  "metadata": {
    "colab": {
      "name": "Copy of Exe-6.ipynb",
      "provenance": [],
      "collapsed_sections": [],
      "authorship_tag": "ABX9TyOJfUH4rSveoiRAyEnaAp6K",
      "include_colab_link": true
    },
    "kernelspec": {
      "name": "python3",
      "display_name": "Python 3"
    },
    "language_info": {
      "name": "python"
    }
  },
  "cells": [
    {
      "cell_type": "markdown",
      "metadata": {
        "id": "view-in-github",
        "colab_type": "text"
      },
      "source": [
        "<a href=\"https://colab.research.google.com/github/srikodavalluri/python/blob/main/Copy_of_Exe_6.ipynb\" target=\"_parent\"><img src=\"https://colab.research.google.com/assets/colab-badge.svg\" alt=\"Open In Colab\"/></a>"
      ]
    },
    {
      "cell_type": "code",
      "metadata": {
        "id": "yCiCK1kn9TuD"
      },
      "source": [
        ""
      ],
      "execution_count": null,
      "outputs": []
    },
    {
      "cell_type": "markdown",
      "metadata": {
        "id": "JfPE9MWp9XpW"
      },
      "source": [
        "Exercise 6        DS\n",
        " \n",
        "a) write a program combine lists that combines these lists into a dictionary"
      ]
    },
    {
      "cell_type": "code",
      "metadata": {
        "colab": {
          "base_uri": "https://localhost:8080/"
        },
        "id": "sT9NNZ0r9pD_",
        "outputId": "ecf3ec79-61fe-4878-d48e-962acdfc5a35"
      },
      "source": [
        "name=[\"Sri\",\"Hema\",\"Harika\",\"Sindhu\",\"Sai\"]\n",
        "ages=[15,18,16,20,35]\n",
        " \n",
        "print(\"given lists are:\")\n",
        "print(\"persons names:\",name)\n",
        "print(\"persons ages:\",ages)\n",
        " \n",
        "dic=dict(zip(name,ages))\n",
        "print(\"\\nDictionary:\",dic)"
      ],
      "execution_count": null,
      "outputs": [
        {
          "output_type": "stream",
          "text": [
            "given lists are:\n",
            "persons names: ['Sri', 'Hema', 'Harika', 'Sindhu', 'Sai']\n",
            "persons ages: [15, 18, 16, 20, 35]\n",
            "\n",
            "Dictionary: {'Sri': 15, 'Hema': 18, 'Harika': 16, 'Sindhu': 20, 'Sai': 35}\n"
          ],
          "name": "stdout"
        }
      ]
    },
    {
      "cell_type": "markdown",
      "metadata": {
        "id": "h9FfmRKX_5X1"
      },
      "source": [
        "b)write a program to count frequency of charactersin a given file.Can yo use character frequency to tell whether the given file is a python program file,C program file or a text file?"
      ]
    },
    {
      "cell_type": "code",
      "metadata": {
        "id": "bi0QrO_gASdr"
      },
      "source": [
        "filetypes=['.py','.c','.txt']\n",
        "fn=input(\"enter the file name:\")\n",
        "f=open(fn,\"r\")\n",
        "count=dict()\n",
        " \n",
        "print(\"given file is\",end=\"\")\n",
        "for ft in filetypes:\n",
        "   if(ft in fn):\n",
        "      if(ft=='.py'):\n",
        "         print(\"Python File\")\n",
        "      elif(ft=='.c'):\n",
        "         print(\"C File\")\n",
        "      elif(ft=='.txt'):\n",
        "         print(\"text file\")\n",
        "   for line in f:\n",
        "     for ch in line:\n",
        "       if ch in count:\n",
        "          count[ch]=count[ch]+1\n",
        "       else:\n",
        "          count[ch]=1\n",
        "   print(count)\n",
        "   f.close()"
      ],
      "execution_count": null,
      "outputs": []
    },
    {
      "cell_type": "markdown",
      "metadata": {
        "id": "OE0jEmAc2E1e"
      },
      "source": [
        " enter the file name:data.txt Given file is Text file {'s':1,'w':2,'a':3,'t':4,'h':5,'i':6}"
      ]
    }
  ]
}